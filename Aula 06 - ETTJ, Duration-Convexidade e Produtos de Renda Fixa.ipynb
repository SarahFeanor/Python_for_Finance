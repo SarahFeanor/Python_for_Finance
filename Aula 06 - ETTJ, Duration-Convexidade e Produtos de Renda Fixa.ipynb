{
 "cells": [
  {
   "cell_type": "markdown",
   "id": "6b0f643b",
   "metadata": {},
   "source": [
    "# O Curso\n",
    "\n",
    "A ementa do curso foi desenhada e montada para termos o maior aproveitamento por parte do aluno, independente da sua base prévia de conhecimentos do mercado financeiro. O objetivo deste primeiro curso é introduzir os conceitos mais básicos sobre <b>finanças quantitativas</b>, que formarão a base dos conceitos usados em técnicas, modelos e estudos mais avançados. Aqui, abordaremos os seguintes tópicos:\n",
    "\n",
    "- <i>Aula 1: Introdução, Juros e Inflação</i>\n",
    "    - O objetivo desta aula é apresentar os conceitos de juros simples e juros compostos, suas diferenças e aplicações, assim como a formulação matemática que nos permite converter as diversas formas de juros em uma medida equivalente.\n",
    "    \n",
    "- <i>Aula 2: Introdução, Juros e Inflação</i>\n",
    "    - O objetivo desta aula é apresentar os conceitos de inflação e taxa de desconto, para que o aluno seja capaz de avaliar o juro real pago por um investimento.\n",
    "    \n",
    "- <i>Aula 3: ETTJ, Duration/Convexidade e Produtos de Renda Fixa</i>\n",
    "    - O objetivo desta aula é compreender o que é uma Estrutura a Termo de Taxas de Juros (ETTJ) e qual a sua finalidade principal no mercado financeiro.\n",
    "    \n",
    "- <i>Aula 4: ETTJ, Duration/Convexidade e Produtos de Renda Fixa</i>\n",
    "    - O objetivo desta aula é aprendermos as técnicas utilizadas para montarmos uma ETTJ com os insumos disponíveis no mercado.\n",
    "    \n",
    "- <i>Aula 5: ETTJ, Duration/Convexidade e Produtos de Renda Fixa</i>\n",
    "    - O objetivo desta aula é entender o conceito de <i>duration</i> e convexidade. Neste contexto, vamos aprender o que são estes conceitos e como calculamos eles no mercado.\n",
    "    \n",
    "- <i><b>Aula 6: ETTJ, Duration/Convexidade e Produtos de Renda Fixa</b></i>\n",
    "    - <b>O objetivo desta aula é continuarmos explorando o conceito de duration e convexidade, mas em um cotnexto de exemplo prático. Vamos simular a aplicação deste conceito em uma tesouraria de banco, por exemplo (ALM).</b>\n",
    "    \n",
    "- <i>Aula 7: Risco, Retorno e Métricas de Risco</i>\n",
    "    - O objetivo desta aula é entender o que significa, no contexto do Mercado Financeiro, o <i>risco</i> e o <i>retorno</i> que precisamos, tanto para gestão de risco de uma carteira, quanto para uma alocação correta dentro de um dado perfil de risco de uma carteira.\n",
    "    \n",
    "- <i>Aula 8: Risco, Retorno e Métricas de Risco</i>\n",
    "    - O objetivo desta aula é compreender os conceitos de <i>VaR</i> (<i>Value at Risk</i>) e <i>ES</i> (<i>Expected Shortfall</i>), que são duas métricas de risco clássicas e muito utilizadas na gestão de carteiras. Inclusive, estas métricas têm um caráter regulatório para bancos.\n",
    "    \n",
    "- <i>Aula 9: Risco, Retorno e Métricas de Risco</i>\n",
    "    - O objetivo desta aula é compreendermos a ideia de quebrar um produto - ou uma carteira - em <i>Fatores de Risco</i>. Também veremos o conceito de <i>Gregas</i>, porém sem um grande aprofundamento matemático, pois antes precisaríamos entender a matemática por trás dos <i>derivativos</i> - tal como a equação de <i>Black & Scholes.</i>\n",
    "    \n",
    "- <i>Aula 10: Projeto Final - Precificando uma NTN-F</i>\n",
    "    - O objetivo desta aula é utilizar os diversos conceitos passados durante o módulo para precificarmos uma NTN-F."
   ]
  },
  {
   "cell_type": "markdown",
   "id": "6b65c48b",
   "metadata": {},
   "source": [
    "# Teoria da Gestão de Ativos e Passivos (<i>ALM</i>)"
   ]
  },
  {
   "cell_type": "markdown",
   "id": "089b98e8",
   "metadata": {},
   "source": [
    "## Fluxos de Caixa\n",
    "\n",
    "<p>O valor presente de uma série de fluxos de caixa (ou seja, pagamentos de cupons/juros ao longo do tempo de vida daquele título) é representado pela seguinte equação:</p>\n",
    "\n",
    "$$PV(t) = V(t_{j}, F_{j}, I_{j}, i_{j}, \\alpha_{j}) = \\sum_{j=1}^{n}\\frac{F_{j}I_{j}\\alpha_{j}}{(1+i_{j})^{t_{j}-t}}$$\n",
    "\n",
    "<p>Onde:</p>\n",
    "- $t_{j}-t$ = prazo do fluxo de caixa; $f_{j}$ = fluxo de caixa num dado prazo;<br>\n",
    "- $I_{j}(t)$ = fator indexador acumulado do fluxo de caixa = $\\prod_{l=1}^{t}[1+\\Delta I(l)]$;<br>\n",
    "- $\\alpha_{j}(t)$ = fator de crédito em cada prazo do fluxo de caixa ($[0,1]$);<br>\n",
    "- $i_{j}(t)$ = taxa de juro para o prazo do fluxo de caixa;<br>\n",
    "- $\\omega_{j}(t) = \\frac{f_{j}I_{j}(t)\\alpha_{j}(t)}{PV(t)\\big(1+i_{j}(t)\\big)^{t_{j}-t}}$ = proporção do $PV(t)$ no vértice $j$."
   ]
  },
  {
   "cell_type": "markdown",
   "id": "3689b25e",
   "metadata": {},
   "source": [
    "## Variação do Fluxo de Caixa\n",
    "\n",
    "<p>Sabemos que toda <b>variação</b> é obtida por meio de derivadas parciais com relação às variáveis independentes do modelo. Sabemos também que uma ferramenta muito útil quando estamos lidando com funções suaves (existem infinitas derivadas) é a <b>Série de <i>Taylor</i></b>, pois ela nos permite aproximar a derivada pela soma de derivadas de graus até $N$ - onde $N$ geralmente é 1, 2 ou 3.</p>\n",
    "<br>\n",
    "<p>Com isto em mente, vamos aproximar a derivada do $PV(t)$ definido acima, através de uma <b>Série de <i>Taylor</i></b> até a derivada segunda.</p>\n",
    "\n",
    "$$\\frac{\\Delta PV(t)}{PV(t)} \\approx \\sum_{j=1}^{n}\\omega_{j}(t)\\bigg[\\frac{\\Delta I_{j}(t)}{I_{j}(t)} + \\frac{\\Delta \\alpha_{j}(t)}{\\alpha_{j}(t)} - \\frac{(t_{j}-t)}{1+i_{j}(t)}\\Delta i_{j}(t) + \\ln{[1+i_{j}(t)]}\\Delta t + \\frac{1}{2}\\frac{(t_{j}-t+1)(t_{j}-t)}{\\big(1+i_{j}(t)\\big)^{2}}\\big(\\Delta i_{j}(t)\\big)^{2}\\bigg]$$\n",
    "\n",
    "<p>Nesta equação, os termos representam:</p>\n",
    "\n",
    "- O termo $F_{j}$ da equação $[1]$, representando os fluxos de caixa, não varia. Logo, sua variação desaparece;<br>\n",
    "- O termo $\\frac{\\Delta I_{j}(t)}{I_{j}(t)}$ remete à variação do indexador ao qual o título está ligado;<br>\n",
    "- O termo $\\frac{\\Delta \\alpha_{j}(t)}{\\alpha_{j}(t)}$ remete à variação do <i>rating</i> de crédito daquele título;<br>\n",
    "- O termo $\\frac{(t_{j}-t)}{1+i_{j}(t)}\\Delta i_{j}(t)$ é a derivada em relação à taxa de juros;<br>\n",
    "- O termo $\\ln{[1+i_{j}(t)]}\\Delta t$ é a derivada em relação ao tempo desta taxa de juros;<br>\n",
    "- O termo $\\frac{1}{2}\\frac{(t_{j}-t+1)(t_{j}-t)}{\\big(1+i_{j}(t)\\big)^{2}}\\big(\\Delta i_{j}(t)\\big)^{2}$ é a única derivada segunda presente na fórmula, que é a derivada da taxa de juros, dado que esta variável possui uma relevância em sua derivada segunda quando temos choques heterogêneos na mesma.<br>\n",
    "\n",
    "<p>Da equação $[1]$ acima, podemos dizer que o termo $\\ln{[1+i_{j}(t)]}\\Delta t$ é o famoso \"<b>carrego</b>\" - que em suma representa a passagem do tempo sobre aquela curva de juros, e será sempre positivo quando os juros são nominais. O termo $\\frac{(t_{j}-t)}{1+i_{j}(t)}$ é o chamado <b><i>Modified Duration</i></b>, porque representa a duração ponderada pela taxa daquele título. E o termo $\\frac{(t_{j}-t+1)(t_{j}-t)}{\\big(1+i_{j}(t)\\big)^{2}}$ é a chamada <b>Convexidade</b>.</p>\n",
    "<br>\n",
    "<p>Agora vamos pensar da seguinte forma:</p>\n",
    "\n",
    "- Se estivermos falando de um <b>título pré fixado</b> o termo $\\frac{\\Delta I_{j}(t)}{I_{j}(t)}$ desaparece;<br>\n",
    "- Se estivermos falando de um <b>título do tesouro</b> o termo $\\frac{\\Delta \\alpha_{j}(t)}{\\alpha_{j}(t)}$ desaparece;<br>\n",
    "- O termo $\\ln{[1+i_{j}(t)]}\\Delta t$ muitas vezes é ignorado (errôneamente).<br>"
   ]
  },
  {
   "cell_type": "markdown",
   "id": "bbe4834b",
   "metadata": {},
   "source": [
    "## Exemplo Prático\n",
    "\n",
    "<p>Seja um título com as seguintes características:</p>\n",
    "\n",
    "- <b>Vencimento:</b> 3 anos;\n",
    "- <b>Cupom:</b> Semestral;\n",
    "- <b>Taxa:</b> $10\\%$ a.a.\n",
    "\n",
    "<p>Dada a curva de mercado abaixo, vamos calcular os seguintes parâmetros:</p>\n",
    "\n",
    "- O <b>Valor Presente</b> (PU) do papel;\n",
    "- A <b>Composição</b> (por vértice) da <i>Modified Duration</i>;\n",
    "- A <b>Composição</b> da Convexidade.\n",
    "\n",
    "|Vértices|ETTJ|<i>Spread</i> de Crédito|\n",
    "|--- |--- |--- |\n",
    "|126|3.00%|0.25%|\n",
    "|252|5.00%|1.00%|\n",
    "|378|6.00%|1.25%|\n",
    "|504|7.00%|1.35%|\n",
    "|630|8.00%|1.40%|\n",
    "|756|8.25%|1.45%|\n",
    "|882|8.50%|1.47%|\n",
    "|1008|8.75%|1.49%|"
   ]
  },
  {
   "cell_type": "markdown",
   "id": "626f530d",
   "metadata": {},
   "source": [
    "### Importando as Bibliotecas"
   ]
  },
  {
   "cell_type": "code",
   "execution_count": 1,
   "id": "a091757a",
   "metadata": {
    "ExecuteTime": {
     "end_time": "2023-05-19T23:16:03.012352Z",
     "start_time": "2023-05-19T23:16:01.353943Z"
    }
   },
   "outputs": [],
   "source": [
    "import numpy             as np\n",
    "import pandas            as pd\n",
    "import matplotlib.pyplot as plt\n",
    "from   scipy.interpolate import make_interp_spline, BSpline"
   ]
  },
  {
   "cell_type": "markdown",
   "id": "bb83850d",
   "metadata": {},
   "source": [
    "### Definindo Nosso Título"
   ]
  },
  {
   "cell_type": "code",
   "execution_count": 2,
   "id": "4600b2fb",
   "metadata": {
    "ExecuteTime": {
     "end_time": "2023-05-19T23:16:15.598955Z",
     "start_time": "2023-05-19T23:16:15.588895Z"
    }
   },
   "outputs": [
    {
     "name": "stdout",
     "output_type": "stream",
     "text": [
      "Valor do cupom: R$48808.84817\n"
     ]
    }
   ],
   "source": [
    "dias_ano = 252\n",
    "vcto = 3\n",
    "cupom = 0.5\n",
    "taxa_titulo = 10\n",
    "principal = 1000000\n",
    "\n",
    "valor_cupom = np.round(principal*((1+taxa_titulo/100)**cupom - 1), 5)\n",
    "print(f'Valor do cupom: R${valor_cupom}')\n",
    "\n",
    "prazo = np.linspace(start=dias_ano*cupom, stop=dias_ano*vcto, num=int(vcto/cupom), endpoint=True)"
   ]
  },
  {
   "cell_type": "markdown",
   "id": "0cd75749",
   "metadata": {},
   "source": [
    "### Criando a ETTJ Base"
   ]
  },
  {
   "cell_type": "code",
   "execution_count": 3,
   "id": "18640fbd",
   "metadata": {
    "ExecuteTime": {
     "end_time": "2023-05-19T23:16:31.490674Z",
     "start_time": "2023-05-19T23:16:31.466287Z"
    }
   },
   "outputs": [
    {
     "data": {
      "text/html": [
       "<div>\n",
       "<style scoped>\n",
       "    .dataframe tbody tr th:only-of-type {\n",
       "        vertical-align: middle;\n",
       "    }\n",
       "\n",
       "    .dataframe tbody tr th {\n",
       "        vertical-align: top;\n",
       "    }\n",
       "\n",
       "    .dataframe thead th {\n",
       "        text-align: right;\n",
       "    }\n",
       "</style>\n",
       "<table border=\"1\" class=\"dataframe\">\n",
       "  <thead>\n",
       "    <tr style=\"text-align: right;\">\n",
       "      <th></th>\n",
       "      <th>Taxa (%)</th>\n",
       "      <th>Spread de Crédito (%)</th>\n",
       "    </tr>\n",
       "  </thead>\n",
       "  <tbody>\n",
       "    <tr>\n",
       "      <th>126</th>\n",
       "      <td>3.00</td>\n",
       "      <td>0.25</td>\n",
       "    </tr>\n",
       "    <tr>\n",
       "      <th>252</th>\n",
       "      <td>5.00</td>\n",
       "      <td>1.00</td>\n",
       "    </tr>\n",
       "    <tr>\n",
       "      <th>378</th>\n",
       "      <td>6.00</td>\n",
       "      <td>1.25</td>\n",
       "    </tr>\n",
       "    <tr>\n",
       "      <th>504</th>\n",
       "      <td>7.00</td>\n",
       "      <td>1.35</td>\n",
       "    </tr>\n",
       "    <tr>\n",
       "      <th>630</th>\n",
       "      <td>8.00</td>\n",
       "      <td>1.40</td>\n",
       "    </tr>\n",
       "    <tr>\n",
       "      <th>756</th>\n",
       "      <td>8.25</td>\n",
       "      <td>1.45</td>\n",
       "    </tr>\n",
       "    <tr>\n",
       "      <th>882</th>\n",
       "      <td>8.50</td>\n",
       "      <td>1.47</td>\n",
       "    </tr>\n",
       "    <tr>\n",
       "      <th>1008</th>\n",
       "      <td>8.75</td>\n",
       "      <td>1.49</td>\n",
       "    </tr>\n",
       "  </tbody>\n",
       "</table>\n",
       "</div>"
      ],
      "text/plain": [
       "      Taxa (%)  Spread de Crédito (%)\n",
       "126       3.00                   0.25\n",
       "252       5.00                   1.00\n",
       "378       6.00                   1.25\n",
       "504       7.00                   1.35\n",
       "630       8.00                   1.40\n",
       "756       8.25                   1.45\n",
       "882       8.50                   1.47\n",
       "1008      8.75                   1.49"
      ]
     },
     "execution_count": 3,
     "metadata": {},
     "output_type": "execute_result"
    }
   ],
   "source": [
    "# vertices = [252, 378, 504, 630, 756, 882, 1008, 1134, 1260,\n",
    "#             1386, 1512, 1638, 1764, 1890, 2016, 2142, 2268]\n",
    "\n",
    "vertices = [126, 252, 378, 504, 630, 756, 882, 1008]\n",
    "\n",
    "# taxa = [8.0381, 8.6546, 9.0584, 9.3531, 9.5865, 9.7814,\n",
    "#          9.9490, 10.0957, 10.2252, 10.3401, 10.4423, 10.5336,\n",
    "#          10.6153, 10.6885, 10.7543, 10.8136, 10.8673]\n",
    "\n",
    "taxa = [3.0, 5.0, 6.0, 7.0, 8.0, 8.25, 8.5, 8.75]\n",
    "\n",
    "sprd_credito = [0.25, 1.0, 1.25, 1.35, 1.40, 1.45, 1.47, 1.49]\n",
    "\n",
    "ettj = pd.DataFrame(np.array([taxa, sprd_credito]).T, index=vertices, columns=['Taxa (%)', 'Spread de Crédito (%)'])\n",
    "ettj"
   ]
  },
  {
   "cell_type": "markdown",
   "id": "6a96b66a",
   "metadata": {},
   "source": [
    "### Calculando Nosso Modelo"
   ]
  },
  {
   "cell_type": "code",
   "execution_count": 4,
   "id": "81691f15",
   "metadata": {
    "ExecuteTime": {
     "end_time": "2023-05-19T23:16:49.403409Z",
     "start_time": "2023-05-19T23:16:49.380799Z"
    }
   },
   "outputs": [
    {
     "name": "stdout",
     "output_type": "stream",
     "text": [
      "Duração real do título: 2.47\n"
     ]
    }
   ],
   "source": [
    "j = np.linspace(start=1, stop=len(prazo), num=len(prazo), endpoint=True)\n",
    "\n",
    "# Buscando as taxas da ETTJ para os vértices do meu título\n",
    "juro = []\n",
    "for i in range(len(prazo)):\n",
    "    for k in range(len(ettj)):\n",
    "        if prazo[i] == ettj.index[k]:\n",
    "            juro.append(ettj['Taxa (%)'].iloc[k])\n",
    "juro = np.array(juro)/100 # Passando de taxa percentual para taxa decimal\n",
    "\n",
    "# Buscando os spreads de crédito da ETTJ para os vértices do meu título\n",
    "spread = []\n",
    "for i in range(len(prazo)):\n",
    "    for k in range(len(ettj)):\n",
    "        if prazo[i] == ettj.index[k]:\n",
    "            spread.append(ettj['Spread de Crédito (%)'].iloc[k])\n",
    "spread = np.array(spread)/100 # Passando de taxa percentual para taxa decimal\n",
    "\n",
    "# O vetor t contém o vértice atual (que é o vértice zero neste exemplo)\n",
    "t = np.zeros(len(prazo))\n",
    "\n",
    "# Calculando o fator Valor Presente --> 1/(1+juro)^(tj - t)\n",
    "fator_VP = []\n",
    "for i in range(len(prazo)):\n",
    "    fator_VP.append(1/(1+juro[i])**((prazo[i] - t[i])/dias_ano))\n",
    "fator_VP = np.round(np.array(fator_VP), 5)\n",
    "\n",
    "# Calculando o fator Spread de Crédito --> 1/(1+spread)^(tj - t)\n",
    "fator_spread = []\n",
    "for i in range(len(prazo)):\n",
    "    fator_spread.append(1/(1+spread[i])**((prazo[i] - t[i])/dias_ano))\n",
    "fator_spread = np.round(np.array(fator_spread), 5)\n",
    "\n",
    "# Calculando os fluxos por prazo\n",
    "fluxo = []\n",
    "for i in range(len(prazo)):\n",
    "    if prazo[i] == vcto*dias_ano:\n",
    "        fluxo.append(principal+valor_cupom)\n",
    "    else:\n",
    "        fluxo.append(valor_cupom)\n",
    "fluxo = np.array(fluxo).T\n",
    "        \n",
    "# Trazendo os fluxos a valor presente pela ettj --> fluxo * fator_VP * fator_spread\n",
    "VPj = np.round(np.multiply(np.multiply(fluxo, fator_spread), fator_VP), 5)\n",
    "\n",
    "# Valor Presente total do título\n",
    "PV_t = np.round(np.sum(VPj), 5)\n",
    "\n",
    "# Calculando o peso de cada fluxo dividindo o PV do fluxo pelo PV do bond\n",
    "wj = np.round(VPj/PV_t, 5)\n",
    "\n",
    "# Calculando o Modified Duration para cada vértice --> Tal como dado pela equação apresentada anteriormente\n",
    "MDj = []\n",
    "for i in range(len(prazo)):\n",
    "    MDj.append(np.round((prazo[i] - t[i])/(1 + juro[i])*wj[i], 5))\n",
    "MDj = np.array(MDj)\n",
    "    \n",
    "# Modified Duration total do bond - ou seja, qual o vencimento dele ponderado pelos fluxos intermediários\n",
    "MD_t = np.round(np.sum(MDj), 5)\n",
    "MD_ano = MD_t/dias_ano\n",
    "print(f'Duração real do título: {np.round(MD_ano, 2)}')"
   ]
  },
  {
   "cell_type": "markdown",
   "id": "a9b2dcd0",
   "metadata": {},
   "source": [
    "<p>Vamos rapidamente observar estas curvas em um gráfico para interpretarmos as informações que calculamos.</p>"
   ]
  },
  {
   "cell_type": "code",
   "execution_count": 5,
   "id": "5babdc01",
   "metadata": {
    "ExecuteTime": {
     "end_time": "2023-05-19T23:17:06.708837Z",
     "start_time": "2023-05-19T23:17:06.407110Z"
    }
   },
   "outputs": [
    {
     "data": {
      "image/png": "[encoded data removed]",
      "text/plain": [
       "<Figure size 1440x540 with 2 Axes>"
      ]
     },
     "metadata": {
      "needs_background": "light"
     },
     "output_type": "display_data"
    }
   ],
   "source": [
    "# fig, ax1 = plt.subplots(figsize=(20,7.5))\n",
    "\n",
    "# ax2 = ax1.twinx()\n",
    "# ax1.plot(prazo, juro, 'g-')\n",
    "# ax2.plot(prazo, MDj, 'b-')\n",
    "\n",
    "# ax1.set_xlabel('Vértices (Dias)')\n",
    "# ax1.set_ylabel('Juro', color='g')\n",
    "# ax2.set_ylabel('Modified Duration', color='b')\n",
    "\n",
    "# plt.show()\n",
    "\n",
    "juro_spline = make_interp_spline(prazo, juro)\n",
    "mdj_spline = make_interp_spline(prazo, MDj)\n",
    "\n",
    "new_prazo = np.linspace(prazo.min(), prazo.max(), 5000)\n",
    "new_juro = juro_spline(new_prazo)\n",
    "new_mdj = mdj_spline(new_prazo)\n",
    "\n",
    "fig, ax1 = plt.subplots(figsize=(20,7.5))\n",
    "\n",
    "ax2 = ax1.twinx()\n",
    "ax1.plot(new_prazo, new_juro*100, 'g-')\n",
    "# ax2.plot(new_prazo, new_mdj, 'b-')\n",
    "ax2.bar(prazo, (MDj/MD_t)*100, 15, color='k')\n",
    "\n",
    "ax1.set_xlabel('Vértices (Dias)')\n",
    "ax1.set_ylabel('Juro (%)', color='g')\n",
    "ax2.set_ylabel('Modified Duration (%)', color='black')\n",
    "\n",
    "plt.show()"
   ]
  },
  {
   "cell_type": "markdown",
   "id": "0b3b5f52",
   "metadata": {
    "ExecuteTime": {
     "end_time": "2023-05-19T23:17:16.661162Z",
     "start_time": "2023-05-19T23:17:16.647183Z"
    }
   },
   "source": [
    "<p>No gráfico acima podemos ver a curva de juros e, individualmente, as contribuições de cada cupom para a <i>Duration</i> total do título. Neste ponto podemos ver que o último vértice do meu título não tem $100\\%$ do meu <i>Duration</i>, ou seja, não tem $100\\%$ do meu risco - ele tem $88\\%$.</p>\n",
    "\n",
    "<p>Se formos fazer um <i>hedge</i> deste título através do DI futuro, precisamos levar em consideração o risco dos cupons intermediários para \"<i>hedgear</i>\" todos os fluxos de caixa. O que se faz na prática em muitas instituições é fazer o <i>hedge</i> apenas do último vértice.</p>\n",
    "\n",
    "<p>De fato, o último vértice, neste exemplo, contempla $88\\%$ do nosso risco, porém isto pode não ser real para todos os cenários. Quando consideramos todo o risco no último vértice estamos usando uma aproximação simplista e não enxergando todo o risco do nosso produto. A duração do nosso papel é, na prática, de 2,4 anos!</p>"
   ]
  },
  {
   "cell_type": "code",
   "execution_count": 7,
   "id": "9bf236b4",
   "metadata": {
    "ExecuteTime": {
     "end_time": "2023-05-19T23:17:20.705886Z",
     "start_time": "2023-05-19T23:17:20.698883Z"
    }
   },
   "outputs": [
    {
     "data": {
      "text/plain": [
       "array([0.04755, 0.04556, 0.04345, 0.04108, 0.0385 , 0.78386])"
      ]
     },
     "execution_count": 7,
     "metadata": {},
     "output_type": "execute_result"
    }
   ],
   "source": [
    "wj"
   ]
  },
  {
   "cell_type": "code",
   "execution_count": 8,
   "id": "48fd74fc",
   "metadata": {
    "ExecuteTime": {
     "end_time": "2023-05-19T23:17:27.888550Z",
     "start_time": "2023-05-19T23:17:27.873970Z"
    }
   },
   "outputs": [
    {
     "name": "stdout",
     "output_type": "stream",
     "text": [
      "Duration Total: 2.466\n"
     ]
    }
   ],
   "source": [
    "# Calculando a Convexidade para cada vértice --> Tal como dado pela equação apresentada anteriormente\n",
    "CVj = []\n",
    "for i in range(len(prazo)):\n",
    "    CVj.append(np.round(((prazo[i]-t[i])/252 + 1)*((prazo[i]-t[i])/252)/(1+juro[i])**2*wj[i], 5))\n",
    "CVj = np.array(CVj).T\n",
    "\n",
    "# AQUI VALE OBSERVAR QUE A MODIFIED DURATION CALCULADA ESTÁ EM DIAS E A CONVEXIDADE CALCULADA ESTÁ EM ANOS JÁ\n",
    "\n",
    "resultados_base = pd.DataFrame([t, prazo, juro, spread, fator_VP, fator_spread, fluxo, VPj, wj, MDj, CVj]).T\n",
    "resultados_base.index = j\n",
    "resultados_base.columns = ['Vértice Base', 'Prazo', 'Juro', 'Spread de Crédito', 'Fator de Juro', 'Fator de Spread',\n",
    "                           'Fluxo de Caixa', 'Valor Presente do Fluxo', 'Peso do Fluxo', 'Modified Duration', 'Convexidade']\n",
    "\n",
    "print(f'Duration Total: {np.round(np.sum(resultados_base[\"Modified Duration\"])/252, 3)}')"
   ]
  },
  {
   "cell_type": "code",
   "execution_count": 9,
   "id": "a9aaaf30",
   "metadata": {
    "ExecuteTime": {
     "end_time": "2023-05-19T23:17:32.982921Z",
     "start_time": "2023-05-19T23:17:32.958638Z"
    }
   },
   "outputs": [
    {
     "data": {
      "text/html": [
       "<div>\n",
       "<style scoped>\n",
       "    .dataframe tbody tr th:only-of-type {\n",
       "        vertical-align: middle;\n",
       "    }\n",
       "\n",
       "    .dataframe tbody tr th {\n",
       "        vertical-align: top;\n",
       "    }\n",
       "\n",
       "    .dataframe thead th {\n",
       "        text-align: right;\n",
       "    }\n",
       "</style>\n",
       "<table border=\"1\" class=\"dataframe\">\n",
       "  <thead>\n",
       "    <tr style=\"text-align: right;\">\n",
       "      <th></th>\n",
       "      <th>Vértice Base</th>\n",
       "      <th>Prazo</th>\n",
       "      <th>Juro</th>\n",
       "      <th>Spread de Crédito</th>\n",
       "      <th>Fator de Juro</th>\n",
       "      <th>Fator de Spread</th>\n",
       "      <th>Fluxo de Caixa</th>\n",
       "      <th>Valor Presente do Fluxo</th>\n",
       "      <th>Peso do Fluxo</th>\n",
       "      <th>Modified Duration</th>\n",
       "      <th>Convexidade</th>\n",
       "    </tr>\n",
       "  </thead>\n",
       "  <tbody>\n",
       "    <tr>\n",
       "      <th>1.0</th>\n",
       "      <td>0.0</td>\n",
       "      <td>126.0</td>\n",
       "      <td>0.0300</td>\n",
       "      <td>0.0025</td>\n",
       "      <td>0.98533</td>\n",
       "      <td>0.99875</td>\n",
       "      <td>4.880885e+04</td>\n",
       "      <td>48032.70634</td>\n",
       "      <td>0.04755</td>\n",
       "      <td>5.81680</td>\n",
       "      <td>0.03362</td>\n",
       "    </tr>\n",
       "    <tr>\n",
       "      <th>2.0</th>\n",
       "      <td>0.0</td>\n",
       "      <td>252.0</td>\n",
       "      <td>0.0500</td>\n",
       "      <td>0.0100</td>\n",
       "      <td>0.95238</td>\n",
       "      <td>0.99010</td>\n",
       "      <td>4.880885e+04</td>\n",
       "      <td>46024.37357</td>\n",
       "      <td>0.04556</td>\n",
       "      <td>10.93440</td>\n",
       "      <td>0.08265</td>\n",
       "    </tr>\n",
       "    <tr>\n",
       "      <th>3.0</th>\n",
       "      <td>0.0</td>\n",
       "      <td>378.0</td>\n",
       "      <td>0.0600</td>\n",
       "      <td>0.0125</td>\n",
       "      <td>0.91631</td>\n",
       "      <td>0.98154</td>\n",
       "      <td>4.880885e+04</td>\n",
       "      <td>43898.42997</td>\n",
       "      <td>0.04345</td>\n",
       "      <td>15.49443</td>\n",
       "      <td>0.14501</td>\n",
       "    </tr>\n",
       "    <tr>\n",
       "      <th>4.0</th>\n",
       "      <td>0.0</td>\n",
       "      <td>504.0</td>\n",
       "      <td>0.0700</td>\n",
       "      <td>0.0135</td>\n",
       "      <td>0.87344</td>\n",
       "      <td>0.97354</td>\n",
       "      <td>4.880885e+04</td>\n",
       "      <td>41503.56820</td>\n",
       "      <td>0.04108</td>\n",
       "      <td>19.34983</td>\n",
       "      <td>0.21529</td>\n",
       "    </tr>\n",
       "    <tr>\n",
       "      <th>5.0</th>\n",
       "      <td>0.0</td>\n",
       "      <td>630.0</td>\n",
       "      <td>0.0800</td>\n",
       "      <td>0.0140</td>\n",
       "      <td>0.82497</td>\n",
       "      <td>0.96584</td>\n",
       "      <td>4.880885e+04</td>\n",
       "      <td>38890.35453</td>\n",
       "      <td>0.03850</td>\n",
       "      <td>22.45833</td>\n",
       "      <td>0.28882</td>\n",
       "    </tr>\n",
       "    <tr>\n",
       "      <th>6.0</th>\n",
       "      <td>0.0</td>\n",
       "      <td>756.0</td>\n",
       "      <td>0.0825</td>\n",
       "      <td>0.0145</td>\n",
       "      <td>0.78834</td>\n",
       "      <td>0.95773</td>\n",
       "      <td>1.048809e+06</td>\n",
       "      <td>791868.37189</td>\n",
       "      <td>0.78386</td>\n",
       "      <td>547.43479</td>\n",
       "      <td>8.02720</td>\n",
       "    </tr>\n",
       "  </tbody>\n",
       "</table>\n",
       "</div>"
      ],
      "text/plain": [
       "     Vértice Base  Prazo    Juro  Spread de Crédito  Fator de Juro  \\\n",
       "1.0           0.0  126.0  0.0300             0.0025        0.98533   \n",
       "2.0           0.0  252.0  0.0500             0.0100        0.95238   \n",
       "3.0           0.0  378.0  0.0600             0.0125        0.91631   \n",
       "4.0           0.0  504.0  0.0700             0.0135        0.87344   \n",
       "5.0           0.0  630.0  0.0800             0.0140        0.82497   \n",
       "6.0           0.0  756.0  0.0825             0.0145        0.78834   \n",
       "\n",
       "     Fator de Spread  Fluxo de Caixa  Valor Presente do Fluxo  Peso do Fluxo  \\\n",
       "1.0          0.99875    4.880885e+04              48032.70634        0.04755   \n",
       "2.0          0.99010    4.880885e+04              46024.37357        0.04556   \n",
       "3.0          0.98154    4.880885e+04              43898.42997        0.04345   \n",
       "4.0          0.97354    4.880885e+04              41503.56820        0.04108   \n",
       "5.0          0.96584    4.880885e+04              38890.35453        0.03850   \n",
       "6.0          0.95773    1.048809e+06             791868.37189        0.78386   \n",
       "\n",
       "     Modified Duration  Convexidade  \n",
       "1.0            5.81680      0.03362  \n",
       "2.0           10.93440      0.08265  \n",
       "3.0           15.49443      0.14501  \n",
       "4.0           19.34983      0.21529  \n",
       "5.0           22.45833      0.28882  \n",
       "6.0          547.43479      8.02720  "
      ]
     },
     "execution_count": 9,
     "metadata": {},
     "output_type": "execute_result"
    }
   ],
   "source": [
    "resultados_base"
   ]
  },
  {
   "cell_type": "markdown",
   "id": "a56c2dc3",
   "metadata": {},
   "source": [
    "### Choque Paralelo na ETTJ base"
   ]
  },
  {
   "cell_type": "code",
   "execution_count": 10,
   "id": "950b1be0",
   "metadata": {
    "ExecuteTime": {
     "end_time": "2023-05-19T23:17:50.932006Z",
     "start_time": "2023-05-19T23:17:50.919443Z"
    }
   },
   "outputs": [
    {
     "data": {
      "text/html": [
       "<div>\n",
       "<style scoped>\n",
       "    .dataframe tbody tr th:only-of-type {\n",
       "        vertical-align: middle;\n",
       "    }\n",
       "\n",
       "    .dataframe tbody tr th {\n",
       "        vertical-align: top;\n",
       "    }\n",
       "\n",
       "    .dataframe thead th {\n",
       "        text-align: right;\n",
       "    }\n",
       "</style>\n",
       "<table border=\"1\" class=\"dataframe\">\n",
       "  <thead>\n",
       "    <tr style=\"text-align: right;\">\n",
       "      <th></th>\n",
       "      <th>Taxa (%)</th>\n",
       "    </tr>\n",
       "  </thead>\n",
       "  <tbody>\n",
       "    <tr>\n",
       "      <th>126</th>\n",
       "      <td>4.80</td>\n",
       "    </tr>\n",
       "    <tr>\n",
       "      <th>252</th>\n",
       "      <td>6.80</td>\n",
       "    </tr>\n",
       "    <tr>\n",
       "      <th>378</th>\n",
       "      <td>7.80</td>\n",
       "    </tr>\n",
       "    <tr>\n",
       "      <th>504</th>\n",
       "      <td>8.80</td>\n",
       "    </tr>\n",
       "    <tr>\n",
       "      <th>630</th>\n",
       "      <td>9.80</td>\n",
       "    </tr>\n",
       "    <tr>\n",
       "      <th>756</th>\n",
       "      <td>10.05</td>\n",
       "    </tr>\n",
       "    <tr>\n",
       "      <th>882</th>\n",
       "      <td>10.30</td>\n",
       "    </tr>\n",
       "    <tr>\n",
       "      <th>1008</th>\n",
       "      <td>10.55</td>\n",
       "    </tr>\n",
       "  </tbody>\n",
       "</table>\n",
       "</div>"
      ],
      "text/plain": [
       "      Taxa (%)\n",
       "126       4.80\n",
       "252       6.80\n",
       "378       7.80\n",
       "504       8.80\n",
       "630       9.80\n",
       "756      10.05\n",
       "882      10.30\n",
       "1008     10.55"
      ]
     },
     "execution_count": 10,
     "metadata": {},
     "output_type": "execute_result"
    }
   ],
   "source": [
    "choque_paralelo = np.ones(len(ettj))*1.8\n",
    "ettj_paralelo = pd.DataFrame(ettj['Taxa (%)'] + choque_paralelo)\n",
    "\n",
    "# Buscando as taxas da ETTJ para os vértices do meu título\n",
    "juro_paralelo = []\n",
    "for i in range(len(prazo)):\n",
    "    for k in range(len(ettj_paralelo)):\n",
    "        if prazo[i] == ettj_paralelo.index[k]:\n",
    "            juro_paralelo.append(ettj_paralelo['Taxa (%)'].iloc[k])\n",
    "juro_paralelo = np.array(juro_paralelo)/100 # Passando de taxa percentual para taxa decimal\n",
    "\n",
    "ettj_paralelo"
   ]
  },
  {
   "cell_type": "code",
   "execution_count": 11,
   "id": "9b1b2a28",
   "metadata": {
    "ExecuteTime": {
     "end_time": "2023-05-19T23:18:03.615778Z",
     "start_time": "2023-05-19T23:18:03.582142Z"
    }
   },
   "outputs": [
    {
     "data": {
      "text/html": [
       "<div>\n",
       "<style scoped>\n",
       "    .dataframe tbody tr th:only-of-type {\n",
       "        vertical-align: middle;\n",
       "    }\n",
       "\n",
       "    .dataframe tbody tr th {\n",
       "        vertical-align: top;\n",
       "    }\n",
       "\n",
       "    .dataframe thead th {\n",
       "        text-align: right;\n",
       "    }\n",
       "</style>\n",
       "<table border=\"1\" class=\"dataframe\">\n",
       "  <thead>\n",
       "    <tr style=\"text-align: right;\">\n",
       "      <th></th>\n",
       "      <th>Vértice Base</th>\n",
       "      <th>Prazo</th>\n",
       "      <th>Juro</th>\n",
       "      <th>Spread de Crédito</th>\n",
       "      <th>Fator de Juro</th>\n",
       "      <th>Fator de Spread</th>\n",
       "      <th>Fluxo de Caixa</th>\n",
       "      <th>Valor Presente do Fluxo</th>\n",
       "      <th>Peso do Fluxo</th>\n",
       "      <th>Modified Duration</th>\n",
       "      <th>Convexidade</th>\n",
       "      <th>Choque</th>\n",
       "      <th>Choque**2</th>\n",
       "    </tr>\n",
       "  </thead>\n",
       "  <tbody>\n",
       "    <tr>\n",
       "      <th>1.0</th>\n",
       "      <td>0.0</td>\n",
       "      <td>126.0</td>\n",
       "      <td>0.0300</td>\n",
       "      <td>0.0025</td>\n",
       "      <td>0.98533</td>\n",
       "      <td>0.99875</td>\n",
       "      <td>4.880885e+04</td>\n",
       "      <td>48032.70634</td>\n",
       "      <td>0.04755</td>\n",
       "      <td>5.81680</td>\n",
       "      <td>0.03362</td>\n",
       "      <td>1.8</td>\n",
       "      <td>3.24</td>\n",
       "    </tr>\n",
       "    <tr>\n",
       "      <th>2.0</th>\n",
       "      <td>0.0</td>\n",
       "      <td>252.0</td>\n",
       "      <td>0.0500</td>\n",
       "      <td>0.0100</td>\n",
       "      <td>0.95238</td>\n",
       "      <td>0.99010</td>\n",
       "      <td>4.880885e+04</td>\n",
       "      <td>46024.37357</td>\n",
       "      <td>0.04556</td>\n",
       "      <td>10.93440</td>\n",
       "      <td>0.08265</td>\n",
       "      <td>1.8</td>\n",
       "      <td>3.24</td>\n",
       "    </tr>\n",
       "    <tr>\n",
       "      <th>3.0</th>\n",
       "      <td>0.0</td>\n",
       "      <td>378.0</td>\n",
       "      <td>0.0600</td>\n",
       "      <td>0.0125</td>\n",
       "      <td>0.91631</td>\n",
       "      <td>0.98154</td>\n",
       "      <td>4.880885e+04</td>\n",
       "      <td>43898.42997</td>\n",
       "      <td>0.04345</td>\n",
       "      <td>15.49443</td>\n",
       "      <td>0.14501</td>\n",
       "      <td>1.8</td>\n",
       "      <td>3.24</td>\n",
       "    </tr>\n",
       "    <tr>\n",
       "      <th>4.0</th>\n",
       "      <td>0.0</td>\n",
       "      <td>504.0</td>\n",
       "      <td>0.0700</td>\n",
       "      <td>0.0135</td>\n",
       "      <td>0.87344</td>\n",
       "      <td>0.97354</td>\n",
       "      <td>4.880885e+04</td>\n",
       "      <td>41503.56820</td>\n",
       "      <td>0.04108</td>\n",
       "      <td>19.34983</td>\n",
       "      <td>0.21529</td>\n",
       "      <td>1.8</td>\n",
       "      <td>3.24</td>\n",
       "    </tr>\n",
       "    <tr>\n",
       "      <th>5.0</th>\n",
       "      <td>0.0</td>\n",
       "      <td>630.0</td>\n",
       "      <td>0.0800</td>\n",
       "      <td>0.0140</td>\n",
       "      <td>0.82497</td>\n",
       "      <td>0.96584</td>\n",
       "      <td>4.880885e+04</td>\n",
       "      <td>38890.35453</td>\n",
       "      <td>0.03850</td>\n",
       "      <td>22.45833</td>\n",
       "      <td>0.28882</td>\n",
       "      <td>1.8</td>\n",
       "      <td>3.24</td>\n",
       "    </tr>\n",
       "    <tr>\n",
       "      <th>6.0</th>\n",
       "      <td>0.0</td>\n",
       "      <td>756.0</td>\n",
       "      <td>0.0825</td>\n",
       "      <td>0.0145</td>\n",
       "      <td>0.78834</td>\n",
       "      <td>0.95773</td>\n",
       "      <td>1.048809e+06</td>\n",
       "      <td>791868.37189</td>\n",
       "      <td>0.78386</td>\n",
       "      <td>547.43479</td>\n",
       "      <td>8.02720</td>\n",
       "      <td>1.8</td>\n",
       "      <td>3.24</td>\n",
       "    </tr>\n",
       "  </tbody>\n",
       "</table>\n",
       "</div>"
      ],
      "text/plain": [
       "     Vértice Base  Prazo    Juro  Spread de Crédito  Fator de Juro  \\\n",
       "1.0           0.0  126.0  0.0300             0.0025        0.98533   \n",
       "2.0           0.0  252.0  0.0500             0.0100        0.95238   \n",
       "3.0           0.0  378.0  0.0600             0.0125        0.91631   \n",
       "4.0           0.0  504.0  0.0700             0.0135        0.87344   \n",
       "5.0           0.0  630.0  0.0800             0.0140        0.82497   \n",
       "6.0           0.0  756.0  0.0825             0.0145        0.78834   \n",
       "\n",
       "     Fator de Spread  Fluxo de Caixa  Valor Presente do Fluxo  Peso do Fluxo  \\\n",
       "1.0          0.99875    4.880885e+04              48032.70634        0.04755   \n",
       "2.0          0.99010    4.880885e+04              46024.37357        0.04556   \n",
       "3.0          0.98154    4.880885e+04              43898.42997        0.04345   \n",
       "4.0          0.97354    4.880885e+04              41503.56820        0.04108   \n",
       "5.0          0.96584    4.880885e+04              38890.35453        0.03850   \n",
       "6.0          0.95773    1.048809e+06             791868.37189        0.78386   \n",
       "\n",
       "     Modified Duration  Convexidade  Choque  Choque**2  \n",
       "1.0            5.81680      0.03362     1.8       3.24  \n",
       "2.0           10.93440      0.08265     1.8       3.24  \n",
       "3.0           15.49443      0.14501     1.8       3.24  \n",
       "4.0           19.34983      0.21529     1.8       3.24  \n",
       "5.0           22.45833      0.28882     1.8       3.24  \n",
       "6.0          547.43479      8.02720     1.8       3.24  "
      ]
     },
     "execution_count": 11,
     "metadata": {},
     "output_type": "execute_result"
    }
   ],
   "source": [
    "resultados_base_paralelo = resultados_base\n",
    "resultados_base_paralelo['Choque'] = choque_paralelo[0:len(prazo)]\n",
    "resultados_base_paralelo['Choque**2'] = choque_paralelo[0:len(prazo)]**2\n",
    "resultados_base_paralelo"
   ]
  },
  {
   "cell_type": "code",
   "execution_count": 12,
   "id": "092d960a",
   "metadata": {
    "ExecuteTime": {
     "end_time": "2023-05-19T23:18:09.919815Z",
     "start_time": "2023-05-19T23:18:09.590497Z"
    }
   },
   "outputs": [
    {
     "data": {
      "image/png": "[encoded data removed]",
      "text/plain": [
       "<Figure size 1440x540 with 2 Axes>"
      ]
     },
     "metadata": {
      "needs_background": "light"
     },
     "output_type": "display_data"
    }
   ],
   "source": [
    "juro_spline = make_interp_spline(prazo, juro)\n",
    "paralelo_spline = make_interp_spline(prazo, juro_paralelo)\n",
    "\n",
    "new_prazo = np.linspace(prazo.min(), prazo.max(), 5000)\n",
    "new_juro = juro_spline(new_prazo)\n",
    "new_paralelo = paralelo_spline(new_prazo)\n",
    "\n",
    "fig, ax1 = plt.subplots(figsize=(20,7.5))\n",
    "\n",
    "ax2 = ax1.twinx()\n",
    "ax1.plot(new_prazo, new_juro*100, 'r-')\n",
    "# ax2.scatter(new_prazo, new_paralelo*100)#, 'b-')\n",
    "ax2.scatter(prazo, juro_paralelo*100)\n",
    "\n",
    "ax1.set_xlabel('Vértices (Dias)')\n",
    "ax1.set_ylabel('Juro Inicial (%)', color='red')\n",
    "ax2.set_ylabel('Juro com Choque Paralelo (%)', color='blue')\n",
    "\n",
    "plt.show()"
   ]
  },
  {
   "cell_type": "markdown",
   "id": "0c87e919",
   "metadata": {},
   "source": [
    "<p>De acordo com a equação apresentada no início, o que deveria ser a variação do $VP(t)$ do título quando a taxa de juros varia?</p>\n",
    "\n",
    "<p>Deveria ser $\\frac{\\Delta PV(t)}{PV(t)} \\approx \\sum_{j=1}^{n}\\omega_{j}(t) \\bigg[-\\frac{(t_{j}-t)}{1+i_{j}(t)}\\Delta i_{j}(t) + \\frac{1}{2}\\frac{(t_{j}-t+1)(t_{j}-t)}{\\big(1+i_{j}(t)\\big)^{2}}\\big(\\Delta i_{j}(t)\\big)^{2}\\bigg]$.</p>\n",
    "\n",
    "<p>Agora olha que interessante.</p>"
   ]
  },
  {
   "cell_type": "code",
   "execution_count": 13,
   "id": "e0c7f49e",
   "metadata": {
    "ExecuteTime": {
     "end_time": "2023-05-19T23:18:24.285781Z",
     "start_time": "2023-05-19T23:18:24.274712Z"
    }
   },
   "outputs": [
    {
     "name": "stdout",
     "output_type": "stream",
     "text": [
      "A variação na Modified Duration com este choque paralelo foi de: -0.04439%\n"
     ]
    }
   ],
   "source": [
    "delta_MD = -np.dot(MDj, choque_paralelo[0:len(prazo)]/100)/252 # --> A divisão por 252 é para anualizar a Modified Duration\n",
    "                                                               #     visto que o choque na taxa é ao ano!\n",
    "print(f'A variação na Modified Duration com este choque paralelo foi de: {np.round(delta_MD, 5)}%')"
   ]
  },
  {
   "cell_type": "code",
   "execution_count": 14,
   "id": "23af4104",
   "metadata": {
    "ExecuteTime": {
     "end_time": "2023-05-19T23:18:29.505869Z",
     "start_time": "2023-05-19T23:18:29.499873Z"
    }
   },
   "outputs": [
    {
     "name": "stdout",
     "output_type": "stream",
     "text": [
      "A variação na Convexidade com este choque paralelo foi de: 0.00142%\n"
     ]
    }
   ],
   "source": [
    "delta_CV = 0.5*np.dot(CVj, (choque_paralelo[0:len(prazo)]/100)**2)\n",
    "print(f'A variação na Convexidade com este choque paralelo foi de: {np.round(delta_CV, 5)}%')"
   ]
  },
  {
   "cell_type": "code",
   "execution_count": 15,
   "id": "e9cbe4f5",
   "metadata": {
    "ExecuteTime": {
     "end_time": "2023-05-19T23:18:34.099943Z",
     "start_time": "2023-05-19T23:18:34.093425Z"
    }
   },
   "outputs": [
    {
     "name": "stdout",
     "output_type": "stream",
     "text": [
      "A variação total na característica do bond dado este movimento homogêneo é de: -0.04297%\n"
     ]
    }
   ],
   "source": [
    "print(f'A variação total na característica do bond dado este movimento homogêneo é de: {np.round(delta_MD+delta_CV, 5)}%')"
   ]
  },
  {
   "cell_type": "markdown",
   "id": "ec705dde",
   "metadata": {},
   "source": [
    "### Choque Heterogêneo na ETTJ Base"
   ]
  },
  {
   "cell_type": "code",
   "execution_count": 16,
   "id": "6c7613d8",
   "metadata": {
    "ExecuteTime": {
     "end_time": "2023-05-19T23:18:51.556562Z",
     "start_time": "2023-05-19T23:18:51.536962Z"
    }
   },
   "outputs": [
    {
     "data": {
      "text/html": [
       "<div>\n",
       "<style scoped>\n",
       "    .dataframe tbody tr th:only-of-type {\n",
       "        vertical-align: middle;\n",
       "    }\n",
       "\n",
       "    .dataframe tbody tr th {\n",
       "        vertical-align: top;\n",
       "    }\n",
       "\n",
       "    .dataframe thead th {\n",
       "        text-align: right;\n",
       "    }\n",
       "</style>\n",
       "<table border=\"1\" class=\"dataframe\">\n",
       "  <thead>\n",
       "    <tr style=\"text-align: right;\">\n",
       "      <th></th>\n",
       "      <th>Taxa (%)</th>\n",
       "    </tr>\n",
       "  </thead>\n",
       "  <tbody>\n",
       "    <tr>\n",
       "      <th>126</th>\n",
       "      <td>5.20</td>\n",
       "    </tr>\n",
       "    <tr>\n",
       "      <th>252</th>\n",
       "      <td>7.00</td>\n",
       "    </tr>\n",
       "    <tr>\n",
       "      <th>378</th>\n",
       "      <td>3.00</td>\n",
       "    </tr>\n",
       "    <tr>\n",
       "      <th>504</th>\n",
       "      <td>8.20</td>\n",
       "    </tr>\n",
       "    <tr>\n",
       "      <th>630</th>\n",
       "      <td>5.75</td>\n",
       "    </tr>\n",
       "    <tr>\n",
       "      <th>756</th>\n",
       "      <td>10.00</td>\n",
       "    </tr>\n",
       "    <tr>\n",
       "      <th>882</th>\n",
       "      <td>5.30</td>\n",
       "    </tr>\n",
       "    <tr>\n",
       "      <th>1008</th>\n",
       "      <td>10.50</td>\n",
       "    </tr>\n",
       "  </tbody>\n",
       "</table>\n",
       "</div>"
      ],
      "text/plain": [
       "      Taxa (%)\n",
       "126       5.20\n",
       "252       7.00\n",
       "378       3.00\n",
       "504       8.20\n",
       "630       5.75\n",
       "756      10.00\n",
       "882       5.30\n",
       "1008     10.50"
      ]
     },
     "execution_count": 16,
     "metadata": {},
     "output_type": "execute_result"
    }
   ],
   "source": [
    "# choque_heterog = [1.2, 1.0, 1.0, 0.2, -0.25, -0.75, 0.2, 0.75]\n",
    "choque_heterog = [2.2, 2.0, -3.0, 1.2, -2.25, 1.75, -3.2, 1.75]\n",
    "# choque_heterog = [np.random.randint(-1, 1)+np.random.randint(0, 9)/10]\n",
    "# for i in range(len(vertices)-1):\n",
    "#     choque_heterog.append(float(choque_heterog[-1])+np.random.randint(-1, 1)+np.random.randint(0, 9)/10)\n",
    "choque_heterog = np.array(choque_heterog)\n",
    "    \n",
    "ettj_heterog = pd.DataFrame(ettj['Taxa (%)'] + choque_heterog)\n",
    "\n",
    "# Buscando as taxas da ETTJ para os vértices do meu título\n",
    "juro_heterog = []\n",
    "for i in range(len(prazo)):\n",
    "    for k in range(len(ettj_heterog)):\n",
    "        if prazo[i] == ettj_heterog.index[k]:\n",
    "            juro_heterog.append(ettj_heterog['Taxa (%)'].iloc[k])\n",
    "juro_heterog = np.array(juro_heterog)/100 # Passando de taxa percentual para taxa decimal\n",
    "\n",
    "ettj_heterog"
   ]
  },
  {
   "cell_type": "code",
   "execution_count": 17,
   "id": "0cdbbc7e",
   "metadata": {
    "ExecuteTime": {
     "end_time": "2023-05-19T23:18:57.662579Z",
     "start_time": "2023-05-19T23:18:57.630433Z"
    }
   },
   "outputs": [
    {
     "data": {
      "text/html": [
       "<div>\n",
       "<style scoped>\n",
       "    .dataframe tbody tr th:only-of-type {\n",
       "        vertical-align: middle;\n",
       "    }\n",
       "\n",
       "    .dataframe tbody tr th {\n",
       "        vertical-align: top;\n",
       "    }\n",
       "\n",
       "    .dataframe thead th {\n",
       "        text-align: right;\n",
       "    }\n",
       "</style>\n",
       "<table border=\"1\" class=\"dataframe\">\n",
       "  <thead>\n",
       "    <tr style=\"text-align: right;\">\n",
       "      <th></th>\n",
       "      <th>Vértice Base</th>\n",
       "      <th>Prazo</th>\n",
       "      <th>Juro</th>\n",
       "      <th>Spread de Crédito</th>\n",
       "      <th>Fator de Juro</th>\n",
       "      <th>Fator de Spread</th>\n",
       "      <th>Fluxo de Caixa</th>\n",
       "      <th>Valor Presente do Fluxo</th>\n",
       "      <th>Peso do Fluxo</th>\n",
       "      <th>Modified Duration</th>\n",
       "      <th>Convexidade</th>\n",
       "      <th>Choque</th>\n",
       "      <th>Choque**2</th>\n",
       "    </tr>\n",
       "  </thead>\n",
       "  <tbody>\n",
       "    <tr>\n",
       "      <th>1.0</th>\n",
       "      <td>0.0</td>\n",
       "      <td>126.0</td>\n",
       "      <td>0.0300</td>\n",
       "      <td>0.0025</td>\n",
       "      <td>0.98533</td>\n",
       "      <td>0.99875</td>\n",
       "      <td>4.880885e+04</td>\n",
       "      <td>48032.70634</td>\n",
       "      <td>0.04755</td>\n",
       "      <td>5.81680</td>\n",
       "      <td>0.03362</td>\n",
       "      <td>2.20</td>\n",
       "      <td>4.8400</td>\n",
       "    </tr>\n",
       "    <tr>\n",
       "      <th>2.0</th>\n",
       "      <td>0.0</td>\n",
       "      <td>252.0</td>\n",
       "      <td>0.0500</td>\n",
       "      <td>0.0100</td>\n",
       "      <td>0.95238</td>\n",
       "      <td>0.99010</td>\n",
       "      <td>4.880885e+04</td>\n",
       "      <td>46024.37357</td>\n",
       "      <td>0.04556</td>\n",
       "      <td>10.93440</td>\n",
       "      <td>0.08265</td>\n",
       "      <td>2.00</td>\n",
       "      <td>4.0000</td>\n",
       "    </tr>\n",
       "    <tr>\n",
       "      <th>3.0</th>\n",
       "      <td>0.0</td>\n",
       "      <td>378.0</td>\n",
       "      <td>0.0600</td>\n",
       "      <td>0.0125</td>\n",
       "      <td>0.91631</td>\n",
       "      <td>0.98154</td>\n",
       "      <td>4.880885e+04</td>\n",
       "      <td>43898.42997</td>\n",
       "      <td>0.04345</td>\n",
       "      <td>15.49443</td>\n",
       "      <td>0.14501</td>\n",
       "      <td>-3.00</td>\n",
       "      <td>9.0000</td>\n",
       "    </tr>\n",
       "    <tr>\n",
       "      <th>4.0</th>\n",
       "      <td>0.0</td>\n",
       "      <td>504.0</td>\n",
       "      <td>0.0700</td>\n",
       "      <td>0.0135</td>\n",
       "      <td>0.87344</td>\n",
       "      <td>0.97354</td>\n",
       "      <td>4.880885e+04</td>\n",
       "      <td>41503.56820</td>\n",
       "      <td>0.04108</td>\n",
       "      <td>19.34983</td>\n",
       "      <td>0.21529</td>\n",
       "      <td>1.20</td>\n",
       "      <td>1.4400</td>\n",
       "    </tr>\n",
       "    <tr>\n",
       "      <th>5.0</th>\n",
       "      <td>0.0</td>\n",
       "      <td>630.0</td>\n",
       "      <td>0.0800</td>\n",
       "      <td>0.0140</td>\n",
       "      <td>0.82497</td>\n",
       "      <td>0.96584</td>\n",
       "      <td>4.880885e+04</td>\n",
       "      <td>38890.35453</td>\n",
       "      <td>0.03850</td>\n",
       "      <td>22.45833</td>\n",
       "      <td>0.28882</td>\n",
       "      <td>-2.25</td>\n",
       "      <td>5.0625</td>\n",
       "    </tr>\n",
       "    <tr>\n",
       "      <th>6.0</th>\n",
       "      <td>0.0</td>\n",
       "      <td>756.0</td>\n",
       "      <td>0.0825</td>\n",
       "      <td>0.0145</td>\n",
       "      <td>0.78834</td>\n",
       "      <td>0.95773</td>\n",
       "      <td>1.048809e+06</td>\n",
       "      <td>791868.37189</td>\n",
       "      <td>0.78386</td>\n",
       "      <td>547.43479</td>\n",
       "      <td>8.02720</td>\n",
       "      <td>1.75</td>\n",
       "      <td>3.0625</td>\n",
       "    </tr>\n",
       "  </tbody>\n",
       "</table>\n",
       "</div>"
      ],
      "text/plain": [
       "     Vértice Base  Prazo    Juro  Spread de Crédito  Fator de Juro  \\\n",
       "1.0           0.0  126.0  0.0300             0.0025        0.98533   \n",
       "2.0           0.0  252.0  0.0500             0.0100        0.95238   \n",
       "3.0           0.0  378.0  0.0600             0.0125        0.91631   \n",
       "4.0           0.0  504.0  0.0700             0.0135        0.87344   \n",
       "5.0           0.0  630.0  0.0800             0.0140        0.82497   \n",
       "6.0           0.0  756.0  0.0825             0.0145        0.78834   \n",
       "\n",
       "     Fator de Spread  Fluxo de Caixa  Valor Presente do Fluxo  Peso do Fluxo  \\\n",
       "1.0          0.99875    4.880885e+04              48032.70634        0.04755   \n",
       "2.0          0.99010    4.880885e+04              46024.37357        0.04556   \n",
       "3.0          0.98154    4.880885e+04              43898.42997        0.04345   \n",
       "4.0          0.97354    4.880885e+04              41503.56820        0.04108   \n",
       "5.0          0.96584    4.880885e+04              38890.35453        0.03850   \n",
       "6.0          0.95773    1.048809e+06             791868.37189        0.78386   \n",
       "\n",
       "     Modified Duration  Convexidade  Choque  Choque**2  \n",
       "1.0            5.81680      0.03362    2.20     4.8400  \n",
       "2.0           10.93440      0.08265    2.00     4.0000  \n",
       "3.0           15.49443      0.14501   -3.00     9.0000  \n",
       "4.0           19.34983      0.21529    1.20     1.4400  \n",
       "5.0           22.45833      0.28882   -2.25     5.0625  \n",
       "6.0          547.43479      8.02720    1.75     3.0625  "
      ]
     },
     "execution_count": 17,
     "metadata": {},
     "output_type": "execute_result"
    }
   ],
   "source": [
    "resultados_base_heterog = resultados_base\n",
    "resultados_base_heterog['Choque'] = choque_heterog[0:len(prazo)]\n",
    "resultados_base_heterog['Choque**2'] = choque_heterog[0:len(prazo)]**2\n",
    "resultados_base_heterog"
   ]
  },
  {
   "cell_type": "code",
   "execution_count": 18,
   "id": "b5f02194",
   "metadata": {
    "ExecuteTime": {
     "end_time": "2023-05-19T23:19:09.875865Z",
     "start_time": "2023-05-19T23:19:09.505074Z"
    }
   },
   "outputs": [
    {
     "data": {
      "image/png": "[encoded data removed]",
      "text/plain": [
       "<Figure size 1440x540 with 2 Axes>"
      ]
     },
     "metadata": {
      "needs_background": "light"
     },
     "output_type": "display_data"
    }
   ],
   "source": [
    "juro_spline = make_interp_spline(prazo, juro)\n",
    "heterog_spline = make_interp_spline(prazo, juro_heterog)\n",
    "\n",
    "new_prazo = np.linspace(prazo.min(), prazo.max(), 5000)\n",
    "new_juro = juro_spline(new_prazo)\n",
    "new_heterog = heterog_spline(new_prazo)\n",
    "\n",
    "fig, ax1 = plt.subplots(figsize=(20,7.5))\n",
    "\n",
    "ax2 = ax1.twinx()\n",
    "ax1.plot(new_prazo, new_juro*100, 'r-')\n",
    "# ax2.scatter(new_prazo, new_paralelo*100)#, 'b-')\n",
    "ax2.scatter(prazo, juro_heterog*100)\n",
    "\n",
    "ax1.set_xlabel('Vértices (Dias)')\n",
    "ax1.set_ylabel('Juro Inicial (%)', color='red')\n",
    "ax2.set_ylabel('Juro com Choque Heterogêneo (%)', color='blue')\n",
    "\n",
    "plt.show()"
   ]
  },
  {
   "cell_type": "markdown",
   "id": "329d480a",
   "metadata": {},
   "source": [
    "<p>De acordo com a equação apresentada no início, o que deveria ser a variação do $VP(t)$ do título quando a taxa de juros varia?</p>\n",
    "\n",
    "<p>Deveria ser $\\frac{\\Delta PV(t)}{PV(t)} \\approx \\sum_{j=1}^{n}\\omega_{j}(t) \\bigg[-\\frac{(t_{j}-t)}{1+i_{j}(t)}\\Delta i_{j}(t) + \\frac{1}{2}\\frac{(t_{j}-t+1)(t_{j}-t)}{\\big(1+i_{j}(t)\\big)^{2}}\\big(\\Delta i_{j}(t)\\big)^{2}\\bigg]$.</p>\n",
    "\n",
    "<p>Agora olha que interessante.</p>"
   ]
  },
  {
   "cell_type": "code",
   "execution_count": 19,
   "id": "d5c9c4d9",
   "metadata": {
    "ExecuteTime": {
     "end_time": "2023-05-19T23:19:27.379345Z",
     "start_time": "2023-05-19T23:19:27.371785Z"
    }
   },
   "outputs": [
    {
     "name": "stdout",
     "output_type": "stream",
     "text": [
      "A variação na Modified Duration com este choque heterogêneo foi de: -0.03646%\n"
     ]
    }
   ],
   "source": [
    "delta_MD_ = -1*np.dot(MDj, choque_heterog[0:len(prazo)]/100)/252 # --> A divisão por 252 é para anualizar a Modified Duration\n",
    "                                                               #     visto que o choque na taxa é ao ano!\n",
    "print(f'A variação na Modified Duration com este choque heterogêneo foi de: {np.round(delta_MD_, 5)}%')"
   ]
  },
  {
   "cell_type": "code",
   "execution_count": 20,
   "id": "ee7f8ffc",
   "metadata": {
    "ExecuteTime": {
     "end_time": "2023-05-19T23:19:31.726382Z",
     "start_time": "2023-05-19T23:19:31.718349Z"
    }
   },
   "outputs": [
    {
     "name": "stdout",
     "output_type": "stream",
     "text": [
      "A variação na Convexidade com este choque heterogêneo foi de: 0.00141%\n"
     ]
    }
   ],
   "source": [
    "delta_CV_ = 0.5*np.dot(CVj, (choque_heterog[0:len(prazo)]/100)**2)\n",
    "print(f'A variação na Convexidade com este choque heterogêneo foi de: {np.round(delta_CV_, 5)}%')"
   ]
  },
  {
   "cell_type": "code",
   "execution_count": 21,
   "id": "1b48f783",
   "metadata": {
    "ExecuteTime": {
     "end_time": "2023-05-19T23:19:37.049770Z",
     "start_time": "2023-05-19T23:19:37.045768Z"
    }
   },
   "outputs": [
    {
     "name": "stdout",
     "output_type": "stream",
     "text": [
      "A variação total na característica do bond dado este movimento heterogêneo é de: -0.03506%\n"
     ]
    }
   ],
   "source": [
    "print(f'A variação total na característica do bond dado este movimento heterogêneo é de: {np.round(delta_MD_+delta_CV_, 5)}%')"
   ]
  },
  {
   "cell_type": "markdown",
   "id": "4194b198",
   "metadata": {},
   "source": [
    "### Fazendo um <i>Full Valuation</i> do Nosso Título"
   ]
  },
  {
   "cell_type": "markdown",
   "id": "b7192392",
   "metadata": {
    "ExecuteTime": {
     "end_time": "2023-05-19T23:20:00.069273Z",
     "start_time": "2023-05-19T23:20:00.060571Z"
    }
   },
   "source": [
    "<p>Aqui, nossa intenção é recalcular o valor presente do nosso título dado o novo cenário de taxa e, então, verificarmos se a variação da <i>Modified Duration</i> e da Convexidade teria capturado este movimento de forma confiável, sem que rpecisássemos reprecificar o título a cada variação da taxa de juros.</p>"
   ]
  },
  {
   "cell_type": "code",
   "execution_count": 23,
   "id": "1aefc6c0",
   "metadata": {
    "ExecuteTime": {
     "end_time": "2023-05-19T23:20:11.159316Z",
     "start_time": "2023-05-19T23:20:11.137341Z"
    }
   },
   "outputs": [
    {
     "name": "stdout",
     "output_type": "stream",
     "text": [
      "Duração real do título: 2.42\n",
      "Duration Total: 2.423\n",
      "A variação do Valor Presente fazendo full valuation é: 0.03636%\n",
      "A variação do Valor Presente estimada pela MD e pela CV é: -0.03506%\n",
      "A variação do Valor Presente estimada pela MD apenas é: -0.03646%\n",
      "O cálculo acima foi feito apenas para o choque heterogêneo, por ser um caso mais crítico!\n"
     ]
    }
   ],
   "source": [
    "# Buscando as taxas da ETTJ para os vértices do meu título\n",
    "juro_fv = []\n",
    "for i in range(len(prazo)):\n",
    "    for k in range(len(ettj_heterog)):\n",
    "        if prazo[i] == ettj_heterog.index[k]:\n",
    "            juro_fv.append(ettj_heterog['Taxa (%)'].iloc[k])\n",
    "juro_fv = np.array(juro_fv)/100 # Passando de taxa percentual para taxa decimal\n",
    "\n",
    "# Calculando o fator Valor Presente --> 1/(1+juro)^(tj - t)\n",
    "fator_VP_fv = []\n",
    "for i in range(len(prazo)):\n",
    "    fator_VP_fv.append(1/(1+juro_fv[i])**((prazo[i] - t[i])/dias_ano))\n",
    "fator_VP_fv = np.round(np.array(fator_VP_fv), 5)\n",
    "        \n",
    "# Trazendo os fluxos a valor presente pela ettj --> fluxo * fator_VP * fator_spread\n",
    "VPj_fv = np.round(np.multiply(np.multiply(fluxo, fator_spread), fator_VP_fv), 5)\n",
    "\n",
    "# Valor Presente total do título\n",
    "PV_t_fv = np.round(np.sum(VPj_fv), 5)\n",
    "\n",
    "# Calculando o peso de cada fluxo dividindo o PV do fluxo pelo PV do bond\n",
    "wj_fv = np.round(VPj_fv/PV_t_fv, 5)\n",
    "\n",
    "# Calculando o Modified Duration para cada vértice --> Tal como dado pela equação apresentada anteriormente\n",
    "MDj_fv = []\n",
    "for i in range(len(prazo)):\n",
    "    MDj_fv.append(np.round((prazo[i] - t[i])/(1 + juro_fv[i])*wj_fv[i], 5))\n",
    "MDj_fv = np.array(MDj_fv)\n",
    "    \n",
    "# Modified Duration total do bond - ou seja, qual o vencimento dele ponderado pelos fluxos intermediários\n",
    "MD_t_fv = np.round(np.sum(MDj_fv), 5)\n",
    "MD_ano_fv = MD_t_fv/dias_ano\n",
    "print(f'Duração real do título: {np.round(MD_ano_fv, 2)}')\n",
    "\n",
    "# Calculando a Convexidade para cada vértice --> Tal como dado pela equação apresentada anteriormente\n",
    "CVj_fv = []\n",
    "for i in range(len(prazo)):\n",
    "    CVj_fv.append(np.round(((prazo[i]-t[i])/252 + 1)*((prazo[i]-t[i])/252)/(1+juro_fv[i])**2*wj_fv[i], 5))\n",
    "CVj_fv = np.array(CVj_fv).T\n",
    "\n",
    "# AQUI VALE OBSERVAR QUE A MODIFIED DURATION CALCULADA ESTÁ EM DIAS E A CONVEXIDADE CALCULADA ESTÁ EM ANOS JÁ\n",
    "\n",
    "resultados_fullvaluation = pd.DataFrame([t, prazo, juro_fv, spread, fator_VP_fv, fator_spread, fluxo, VPj_fv, wj_fv,\n",
    "                                         MDj_fv, CVj_fv]).T\n",
    "resultados_fullvaluation.index = j\n",
    "resultados_fullvaluation.columns = ['Vértice Base', 'Prazo', 'Juro', 'Spread de Crédito', 'Fator de Juro', 'Fator de Spread',\n",
    "                                    'Fluxo de Caixa', 'Valor Presente do Fluxo', 'Peso do Fluxo', 'Modified Duration',\n",
    "                                    'Convexidade']\n",
    "\n",
    "print(f'Duration Total: {np.round(np.sum(resultados_fullvaluation[\"Modified Duration\"])/252, 3)}')\n",
    "\n",
    "print(f'A variação do Valor Presente fazendo full valuation é: {np.round(PV_t/PV_t_fv-1, 5)}%')\n",
    "print(f'A variação do Valor Presente estimada pela MD e pela CV é: {np.round(delta_MD_+delta_CV_, 5)}%')\n",
    "print(f'A variação do Valor Presente estimada pela MD apenas é: {np.round(delta_MD_, 5)}%')\n",
    "print('O cálculo acima foi feito apenas para o choque heterogêneo, por ser um caso mais crítico!')"
   ]
  },
  {
   "cell_type": "code",
   "execution_count": 24,
   "id": "c23410fb",
   "metadata": {
    "ExecuteTime": {
     "end_time": "2023-05-19T23:20:18.281128Z",
     "start_time": "2023-05-19T23:20:18.232794Z"
    }
   },
   "outputs": [
    {
     "data": {
      "text/html": [
       "<div>\n",
       "<style scoped>\n",
       "    .dataframe tbody tr th:only-of-type {\n",
       "        vertical-align: middle;\n",
       "    }\n",
       "\n",
       "    .dataframe tbody tr th {\n",
       "        vertical-align: top;\n",
       "    }\n",
       "\n",
       "    .dataframe thead th {\n",
       "        text-align: right;\n",
       "    }\n",
       "</style>\n",
       "<table border=\"1\" class=\"dataframe\">\n",
       "  <thead>\n",
       "    <tr style=\"text-align: right;\">\n",
       "      <th></th>\n",
       "      <th>Vértice Base</th>\n",
       "      <th>Prazo</th>\n",
       "      <th>Juro</th>\n",
       "      <th>Spread de Crédito</th>\n",
       "      <th>Fator de Juro</th>\n",
       "      <th>Fator de Spread</th>\n",
       "      <th>Fluxo de Caixa</th>\n",
       "      <th>Valor Presente do Fluxo</th>\n",
       "      <th>Peso do Fluxo</th>\n",
       "      <th>Modified Duration</th>\n",
       "      <th>Convexidade</th>\n",
       "    </tr>\n",
       "  </thead>\n",
       "  <tbody>\n",
       "    <tr>\n",
       "      <th>1.0</th>\n",
       "      <td>0.0</td>\n",
       "      <td>126.0</td>\n",
       "      <td>0.0520</td>\n",
       "      <td>0.0025</td>\n",
       "      <td>0.97497</td>\n",
       "      <td>0.99875</td>\n",
       "      <td>4.880885e+04</td>\n",
       "      <td>47527.67875</td>\n",
       "      <td>0.04876</td>\n",
       "      <td>5.84008</td>\n",
       "      <td>0.03304</td>\n",
       "    </tr>\n",
       "    <tr>\n",
       "      <th>2.0</th>\n",
       "      <td>0.0</td>\n",
       "      <td>252.0</td>\n",
       "      <td>0.0700</td>\n",
       "      <td>0.0100</td>\n",
       "      <td>0.93458</td>\n",
       "      <td>0.99010</td>\n",
       "      <td>4.880885e+04</td>\n",
       "      <td>45164.17717</td>\n",
       "      <td>0.04633</td>\n",
       "      <td>10.91136</td>\n",
       "      <td>0.08093</td>\n",
       "    </tr>\n",
       "    <tr>\n",
       "      <th>3.0</th>\n",
       "      <td>0.0</td>\n",
       "      <td>378.0</td>\n",
       "      <td>0.0300</td>\n",
       "      <td>0.0125</td>\n",
       "      <td>0.95663</td>\n",
       "      <td>0.98154</td>\n",
       "      <td>4.880885e+04</td>\n",
       "      <td>45830.07395</td>\n",
       "      <td>0.04702</td>\n",
       "      <td>17.25588</td>\n",
       "      <td>0.16620</td>\n",
       "    </tr>\n",
       "    <tr>\n",
       "      <th>4.0</th>\n",
       "      <td>0.0</td>\n",
       "      <td>504.0</td>\n",
       "      <td>0.0820</td>\n",
       "      <td>0.0135</td>\n",
       "      <td>0.85417</td>\n",
       "      <td>0.97354</td>\n",
       "      <td>4.880885e+04</td>\n",
       "      <td>40587.90856</td>\n",
       "      <td>0.04164</td>\n",
       "      <td>19.39608</td>\n",
       "      <td>0.21341</td>\n",
       "    </tr>\n",
       "    <tr>\n",
       "      <th>5.0</th>\n",
       "      <td>0.0</td>\n",
       "      <td>630.0</td>\n",
       "      <td>0.0575</td>\n",
       "      <td>0.0140</td>\n",
       "      <td>0.86956</td>\n",
       "      <td>0.96584</td>\n",
       "      <td>4.880885e+04</td>\n",
       "      <td>40992.39571</td>\n",
       "      <td>0.04205</td>\n",
       "      <td>25.05106</td>\n",
       "      <td>0.32901</td>\n",
       "    </tr>\n",
       "    <tr>\n",
       "      <th>6.0</th>\n",
       "      <td>0.0</td>\n",
       "      <td>756.0</td>\n",
       "      <td>0.1000</td>\n",
       "      <td>0.0145</td>\n",
       "      <td>0.75131</td>\n",
       "      <td>0.95773</td>\n",
       "      <td>1.048809e+06</td>\n",
       "      <td>754672.63678</td>\n",
       "      <td>0.77420</td>\n",
       "      <td>532.08655</td>\n",
       "      <td>7.67802</td>\n",
       "    </tr>\n",
       "  </tbody>\n",
       "</table>\n",
       "</div>"
      ],
      "text/plain": [
       "     Vértice Base  Prazo    Juro  Spread de Crédito  Fator de Juro  \\\n",
       "1.0           0.0  126.0  0.0520             0.0025        0.97497   \n",
       "2.0           0.0  252.0  0.0700             0.0100        0.93458   \n",
       "3.0           0.0  378.0  0.0300             0.0125        0.95663   \n",
       "4.0           0.0  504.0  0.0820             0.0135        0.85417   \n",
       "5.0           0.0  630.0  0.0575             0.0140        0.86956   \n",
       "6.0           0.0  756.0  0.1000             0.0145        0.75131   \n",
       "\n",
       "     Fator de Spread  Fluxo de Caixa  Valor Presente do Fluxo  Peso do Fluxo  \\\n",
       "1.0          0.99875    4.880885e+04              47527.67875        0.04876   \n",
       "2.0          0.99010    4.880885e+04              45164.17717        0.04633   \n",
       "3.0          0.98154    4.880885e+04              45830.07395        0.04702   \n",
       "4.0          0.97354    4.880885e+04              40587.90856        0.04164   \n",
       "5.0          0.96584    4.880885e+04              40992.39571        0.04205   \n",
       "6.0          0.95773    1.048809e+06             754672.63678        0.77420   \n",
       "\n",
       "     Modified Duration  Convexidade  \n",
       "1.0            5.84008      0.03304  \n",
       "2.0           10.91136      0.08093  \n",
       "3.0           17.25588      0.16620  \n",
       "4.0           19.39608      0.21341  \n",
       "5.0           25.05106      0.32901  \n",
       "6.0          532.08655      7.67802  "
      ]
     },
     "execution_count": 24,
     "metadata": {},
     "output_type": "execute_result"
    }
   ],
   "source": [
    "resultados_fullvaluation"
   ]
  },
  {
   "cell_type": "markdown",
   "id": "6f9b6286",
   "metadata": {},
   "source": [
    "## Fazendo o <i>Hedge</i> de um Título Prefixado"
   ]
  },
  {
   "cell_type": "markdown",
   "id": "996a8017",
   "metadata": {},
   "source": [
    "<p>Para dar uma continuidade no propósito de usar esta metodologia de cálculo da <i>Modified Duration</i> e da Convexidade - e, além disto, da importância das mesmas, visto que muitas instituições financeiras apenas aproximam estas quantias pelo vértice mais longo com uma defasagem relativa ao choque máximo esperado.</p>\n",
    "\n",
    "<p>A ideia agora é fazermos o <i>hedge</i> de um título prefixado utilizando futuro de DI para isto.</p>\n",
    "\n",
    "<p>Para que o <i>hedge</i> perfeito seja feito, precisamos zerar a equação de $PV(t)$, correto?</p>\n",
    "\n",
    "<p>Errado! Este <i>hedge</i> seria estático e ineficiente caso fosse feito.</p>\n",
    "\n",
    "<p>O que precisar ser feito é o <i>hedge</i> da <i>Modified Duration</i> (e da Convexidade, dependendo da longevidade) do título, ou seja, queremos fazer o <i>hedge</i> das variações da taxa de juros, visto que a perna da pré e do DI têm posições opostas, ou seja, vender um futuro de DI é estar comprado na pré e vice-versa.</p>\n",
    "\n",
    "<p>Temos, então, $n$ equações e $n$ incógnitas. Elas são (para o caso do <i>hedge</i> com 2 títulos):</p>\n",
    "\n",
    "$$\\Pi_{j} = q_{j}F_{j} + q_{1}F_{1}+q_{2}F_{2}$$\n",
    "<br>\n",
    "$$d\\Pi \\approx q_{j}\\bigg[\\frac{\\partial F_{j}}{\\partial i_{j}}\\Delta i_{j} + \\frac{1}{2}\\frac{\\partial^{2}F_{j}}{\\partial j^{2}}\\big(\\Delta i_{j}\\big)^{2}\\bigg] + q_{1}\\bigg[\\frac{\\partial F_{1}}{\\partial i_{1}}\\Delta i_{1} + \\frac{1}{2}\\frac{\\partial^{2}F_{1}}{\\partial i_{1}^{2}}\\big(\\Delta i_{1}\\big)^{2}\\bigg] + q_{2}\\bigg[\\frac{\\partial F_{2}}{\\partial i_{2}}\\Delta i_{2} + \\frac{1}{2}\\frac{\\partial^{2}F_{2}}{\\partial i_{2}^{2}}\\big(\\Delta i_{2}\\big)^{2}\\bigg] = 0$$\n",
    "<br>\n",
    "<p>Então teremos (para o caso de 2 títulos) as seguintes equações:</p>\n",
    "\n",
    "$$[i] \\rightarrow q_{j} \\times \\frac{\\partial F_{j}}{\\partial i_{j}} \\cdot \\Delta i_{j} + q_{1} \\times \\frac{\\partial F_{1}}{\\partial i_{1}} \\cdot \\Delta i_{1} + q_{2} \\times \\frac{\\partial F_{2}}{\\partial i_{2}} \\cdot \\Delta i_{2}$$\n",
    "<br>\n",
    "$$[ii] \\rightarrow q_{j} \\times \\frac{\\partial^{2}F_{j}}{\\partial i_{j}^{2}} \\cdot \\Delta i_{j}^{2} + q_{1} \\times \\frac{\\partial^{2}F_{1}}{\\partial i_{1}^{2}} \\cdot \\Delta i_{1}^{2} + q_{2} \\times \\frac{\\partial^{2}F_{2}}{\\partial i_{2}^{2}} \\cdot \\Delta i_{2}^{2}$$\n",
    "<br>\n",
    "<p>Ou seja, vamos anular as duas primeiras derivadas do título prefixado utilizando os futuros de DI!</p>"
   ]
  },
  {
   "cell_type": "markdown",
   "id": "e566a96d",
   "metadata": {},
   "source": [
    "### Exemplo Prático"
   ]
  },
  {
   "cell_type": "markdown",
   "id": "fe6fe42e",
   "metadata": {
    "ExecuteTime": {
     "end_time": "2023-05-19T23:21:17.789255Z",
     "start_time": "2023-05-19T23:21:17.779712Z"
    }
   },
   "source": [
    "<p>Vamos supor que temos uma NTN-F 2023 com as seguintes características:</p>\n",
    "\n",
    "- <b>Taxa:</b> $10\\%$ a.a.;<br>\n",
    "- <b>Cupom:</b> Semestral;<br>\n",
    "- <b>Vencimento:</b> 2 anos.<br>\n",
    "\n",
    "<p>Queremos fazer o <i>hedge</i> utilizando dois DIs futuros, são eles:</p>\n",
    "\n",
    "- <b>DI 1:</b> Jan/2022 com taxa de $4,86\\%$ a.a.;<br>\n",
    "- <b>DI 2:</b> Jan/2023 com taxa de $6,66\\%$ a.a.<br>\n",
    "\n",
    "<p>Nossa ETTJ será:</p>\n",
    "\n",
    "|Prazo|ETTJ|\n",
    "|--- |--- |\n",
    "|Jul/21|3.73%|\n",
    "|Jan/22|4.86%|\n",
    "|Jul/22|5.83%|\n",
    "|Jan/23|6.66%|"
   ]
  },
  {
   "cell_type": "code",
   "execution_count": 27,
   "id": "f58e56ae",
   "metadata": {
    "ExecuteTime": {
     "end_time": "2023-05-19T23:21:42.909712Z",
     "start_time": "2023-05-19T23:21:42.796272Z"
    }
   },
   "outputs": [
    {
     "name": "stdout",
     "output_type": "stream",
     "text": [
      "Vamos precisar de: 1.2191 contratos do futuro de DI que vence em Jan/22;\n",
      "Vamos precisar de: 10.6104 contratos do futuro de DI que vence em Jan/23.\n",
      "\n",
      "Estes contratos estarão divididos em:\n",
      "\n",
      "0.3834 contratos de DI1 e -0.0714 contratos de DI2 para o primeiro fluxo;\n",
      "0.4881 contratos de DI1 e -0.0 contratos de DI2 para o segundo fluxo;\n",
      "0.3476 contratos de DI1 e 0.1937 contratos de DI2 para o terceiro fluxo;\n",
      "0.0 contratos de DI1 e 10.4881 contratos de DI2 para o quarto fluxo;\n"
     ]
    },
    {
     "name": "stderr",
     "output_type": "stream",
     "text": [
      "C:\\Users\\henri\\AppData\\Local\\Programs\\Python\\Python310\\lib\\site-packages\\scipy\\optimize\\_nonlin.py:912: RuntimeWarning: invalid value encountered in divide\n",
      "  d = v / vdot(df, v)\n"
     ]
    }
   ],
   "source": [
    "import scipy.optimize\n",
    "\n",
    "\n",
    "taxa_pre = 10\n",
    "cupom = 0.5\n",
    "prazos = np.array([126, 252, 378, 504])\n",
    "fluxos_j = np.linspace(1, len(prazos), len(prazos), endpoint=True)\n",
    "taxas = np.array([3.73, 4.86, 5.83, 6.66])\n",
    "\n",
    "# Calculando a Modified Duration e a Convexidade do nosso título prefixado\n",
    "VF = []\n",
    "for i in range(len(prazos)):\n",
    "    if prazos[i] == fluxos_j[-1]*dias_ano*cupom:\n",
    "        VF.append(((1+taxa_pre/100)**(prazos[0]/252)-1)*principal+principal)\n",
    "    else:\n",
    "        VF.append(((1+taxa_pre/100)**(prazos[0]/252)-1)*principal)\n",
    "VF = np.round(np.array(VF), 2)\n",
    "VF_tot = np.sum(VF)\n",
    "\n",
    "VP = []\n",
    "for i in range(len(VF)):\n",
    "    VP.append(VF[i]/(1+taxas[i]/100)**(fluxos_j[i]*cupom))\n",
    "VP = np.round(np.array(VP), 2)\n",
    "VP_tot = np.sum(VP)\n",
    "\n",
    "w_j = []\n",
    "for i in range(len(VF)):\n",
    "    w_j.append(VP[i]/VP_tot)\n",
    "w_j = np.round(np.array(w_j), 7)\n",
    "\n",
    "MD = []\n",
    "for i in range(len(w_j)):\n",
    "    MD.append((fluxos_j[i]*prazos[0])/(1+taxas[i]/100)*w_j[i])\n",
    "MD = np.round(np.array(MD), 7)\n",
    "MD_tot = np.sum(MD)\n",
    "\n",
    "CV = []\n",
    "for i in range(len(MD)):\n",
    "    CV.append(((fluxos_j[i]*prazos[0]+252)*(fluxos_j[i]*prazos[0]))/(1+taxas[i]/100)**2/dias_ano)\n",
    "CV = np.round(np.array(CV), 7)\n",
    "CV_tot = np.sum(CV)\n",
    "\n",
    "# Calculando a Modified Duration e a Convexidade do nosso primeiro futuro de DI\n",
    "VF_DI1 = 100000\n",
    "VP_DI1 = np.round(VF_DI1/(1+taxas[1]/100)**(fluxos_j[1]*cupom), 2)\n",
    "\n",
    "wj_DI1 = 1\n",
    "\n",
    "MD_DI1 = np.round((fluxos_j[1]*prazos[0])/(1+taxas[1]/100)*wj_DI1, 2)\n",
    "\n",
    "CV_DI1 = np.round((fluxos_j[1]*prazos[0]+dias_ano)*(fluxos_j[1]*prazos[0])/(1+taxas[1]/100)**2/dias_ano, 2)\n",
    "\n",
    "# Calculando a Modified Duration e a Convexidade do nosso segundo futuro de DI\n",
    "VF_DI2 = 100000\n",
    "VP_DI2 = np.round(VF_DI1/(1+taxas[-1]/100)**(fluxos_j[-1]*cupom), 2)\n",
    "\n",
    "wj_DI2 = 1\n",
    "\n",
    "MD_DI2 = np.round((fluxos_j[-1]*prazos[0])/(1+taxas[-1]/100)*wj_DI1, 2)\n",
    "\n",
    "CV_DI2 = np.round((fluxos_j[-1]*prazos[0]+dias_ano)*(fluxos_j[-1]*prazos[0])/(1+taxas[-1]/100)**2/dias_ano, 2)\n",
    "\n",
    "# Calculando a quantidade de cada futuro de DI que será necessária para fazer o hedge de cada vértice\n",
    "\n",
    "def fun_prz1(x):\n",
    "    return (VP[0]*(prazos[0]/dias_ano)/(1+taxas[0]/100)-VP_DI1*(prazos[1]/dias_ano)*x[0]/(1+taxas[1]/100)-\\\n",
    "            VP_DI2*(prazos[-1]/dias_ano)*x[1]/(1+taxas[-1]/100),\n",
    "            -VP[0]*(prazos[0]/dias_ano)*(prazos[0]/dias_ano+1)/(1+taxas[0]/100)**2 +\\\n",
    "            VP_DI1*(prazos[1]/dias_ano)*(prazos[1]/dias_ano+1)*x[0]/(1+taxas[1]/100)**2 +\\\n",
    "            VP_DI2*(prazos[-1]/dias_ano)*(prazos[-1]/dias_ano+1)*x[1]/(1+taxas[-1]/100)**2)\n",
    "\n",
    "def fun_prz2(x):\n",
    "    return (VP[1]*(prazos[1]/dias_ano)/(1+taxas[1]/100)-VP_DI1*(prazos[1]/dias_ano)*x[0]/(1+taxas[1]/100)-\\\n",
    "            VP_DI2*(prazos[-1]/dias_ano)*x[1]/(1+taxas[-1]/100),\n",
    "            -VP[1]*(prazos[1]/dias_ano)*(prazos[1]/dias_ano+1)/(1+taxas[1]/100)**2 +\\\n",
    "            VP_DI1*(prazos[1]/dias_ano)*(prazos[1]/dias_ano+1)*x[0]/(1+taxas[1]/100)**2 +\\\n",
    "            VP_DI2*(prazos[-1]/dias_ano)*(prazos[-1]/dias_ano+1)*x[1]/(1+taxas[-1]/100)**2)\n",
    "\n",
    "def fun_prz3(x):\n",
    "    return (VP[2]*(prazos[2]/dias_ano)/(1+taxas[2]/100)-VP_DI1*(prazos[1]/dias_ano)*x[0]/(1+taxas[1]/100)-\\\n",
    "            VP_DI2*(prazos[-1]/dias_ano)*x[1]/(1+taxas[-1]/100),\n",
    "            -VP[2]*(prazos[2]/dias_ano)*(prazos[2]/dias_ano+1)/(1+taxas[2]/100)**2 +\\\n",
    "            VP_DI1*(prazos[1]/dias_ano)*(prazos[1]/dias_ano+1)*x[0]/(1+taxas[1]/100)**2 +\\\n",
    "            VP_DI2*(prazos[-1]/dias_ano)*(prazos[-1]/dias_ano+1)*x[1]/(1+taxas[-1]/100)**2)\n",
    "\n",
    "def fun_prz4(x):\n",
    "    return (VP[3]*(prazos[3]/dias_ano)/(1+taxas[3]/100)-VP_DI1*(prazos[1]/dias_ano)*x[0]/(1+taxas[1]/100)-\\\n",
    "            VP_DI2*(prazos[-1]/dias_ano)*x[1]/(1+taxas[-1]/100),\n",
    "            -VP[3]*(prazos[3]/dias_ano)*(prazos[3]/dias_ano+1)/(1+taxas[3]/100)**2 +\\\n",
    "            VP_DI1*(prazos[1]/dias_ano)*(prazos[1]/dias_ano+1)*x[0]/(1+taxas[1]/100)**2 +\\\n",
    "            VP_DI2*(prazos[-1]/dias_ano)*(prazos[-1]/dias_ano+1)*x[1]/(1+taxas[-1]/100)**2)\n",
    "\n",
    "prz1 = scipy.optimize.broyden1(fun_prz1, [0, 0], f_tol=1e-14)\n",
    "prz2 = scipy.optimize.broyden1(fun_prz2, [0, 0], f_tol=1e-07)\n",
    "prz3 = scipy.optimize.broyden1(fun_prz3, [0, 0], f_tol=1e-14)\n",
    "prz4 = scipy.optimize.broyden1(fun_prz4, [0, 0], f_tol=1e-14)\n",
    "\n",
    "qtd_DI1 = prz1[0]+prz2[0]+prz3[0]+prz4[0]\n",
    "qtd_DI2 = prz1[1]+prz2[1]+prz3[1]+prz4[1]\n",
    "\n",
    "print(f\"Vamos precisar de: {np.round(qtd_DI1, 4)} contratos do futuro de DI que vence em Jan/22;\")\n",
    "print(f\"Vamos precisar de: {np.round(qtd_DI2, 4)} contratos do futuro de DI que vence em Jan/23.\")\n",
    "print('')\n",
    "print('Estes contratos estarão divididos em:')\n",
    "print('')\n",
    "print(f'{np.round(prz1[0], 4)} contratos de DI1 e {np.round(prz1[1], 4)} contratos de DI2 para o primeiro fluxo;')\n",
    "print(f'{np.round(prz2[0], 4)} contratos de DI1 e {np.round(prz2[1], 4)} contratos de DI2 para o segundo fluxo;')\n",
    "print(f'{np.round(prz3[0], 4)} contratos de DI1 e {np.round(prz3[1], 4)} contratos de DI2 para o terceiro fluxo;')\n",
    "print(f'{np.round(prz4[0], 4)} contratos de DI1 e {np.round(prz4[1], 4)} contratos de DI2 para o quarto fluxo;')"
   ]
  },
  {
   "cell_type": "markdown",
   "id": "6db26946",
   "metadata": {},
   "source": [
    "<p>Como podemos ver, para fazermos o <i>hedge</i> de um fluxo <b>entre</b> dois futuros de DI equidistantes <b>não é apenas comprar metade de cada um</b>, como muitas instituições fazem quando aproximam o cálculo.</p>"
   ]
  }
 ],
 "metadata": {
  "kernelspec": {
   "display_name": "Python 3 (ipykernel)",
   "language": "python",
   "name": "python3"
  },
  "language_info": {
   "codemirror_mode": {
    "name": "ipython",
    "version": 3
   },
   "file_extension": ".py",
   "mimetype": "text/x-python",
   "name": "python",
   "nbconvert_exporter": "python",
   "pygments_lexer": "ipython3",
   "version": "3.10.2"
  },
  "latex_envs": {
   "LaTeX_envs_menu_present": true,
   "autoclose": false,
   "autocomplete": true,
   "bibliofile": "biblio.bib",
   "cite_by": "apalike",
   "current_citInitial": 1,
   "eqLabelWithNumbers": true,
   "eqNumInitial": 1,
   "hotkeys": {
    "equation": "Ctrl-E",
    "itemize": "Ctrl-I"
   },
   "labels_anchors": false,
   "latex_user_defs": false,
   "report_style_numbering": false,
   "user_envs_cfg": false
  },
  "toc": {
   "base_numbering": 1,
   "nav_menu": {},
   "number_sections": true,
   "sideBar": true,
   "skip_h1_title": false,
   "title_cell": "Table of Contents",
   "title_sidebar": "Contents",
   "toc_cell": false,
   "toc_position": {},
   "toc_section_display": true,
   "toc_window_display": false
  },
  "varInspector": {
   "cols": {
    "lenName": 16,
    "lenType": 16,
    "lenVar": 40
   },
   "kernels_config": {
    "python": {
     "delete_cmd_postfix": "",
     "delete_cmd_prefix": "del ",
     "library": "var_list.py",
     "varRefreshCmd": "print(var_dic_list())"
    },
    "r": {
     "delete_cmd_postfix": ") ",
     "delete_cmd_prefix": "rm(",
     "library": "var_list.r",
     "varRefreshCmd": "cat(var_dic_list()) "
    }
   },
   "types_to_exclude": [
    "module",
    "function",
    "builtin_function_or_method",
    "instance",
    "_Feature"
   ],
   "window_display": false
  }
 },
 "nbformat": 4,
 "nbformat_minor": 5
}
