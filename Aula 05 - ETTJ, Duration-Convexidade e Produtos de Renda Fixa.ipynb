{
 "cells": [
  {
   "cell_type": "markdown",
   "id": "0b70c16e",
   "metadata": {},
   "source": [
    "# O Curso\n",
    "\n",
    "A ementa do curso foi desenhada e montada para termos o maior aproveitamento por parte do aluno, independente da sua base prévia de conhecimentos do mercado financeiro. O objetivo deste primeiro curso é introduzir os conceitos mais básicos sobre <b>finanças quantitativas</b>, que formarão a base dos conceitos usados em técnicas, modelos e estudos mais avançados. Aqui, abordaremos os seguintes tópicos:\n",
    "\n",
    "- <i>Aula 1: Introdução, Juros e Inflação</i>\n",
    "    - O objetivo desta aula é apresentar os conceitos de juros simples e juros compostos, suas diferenças e aplicações, assim como a formulação matemática que nos permite converter as diversas formas de juros em uma medida equivalente.\n",
    "    \n",
    "- <i>Aula 2: Introdução, Juros e Inflação</i>\n",
    "    - O objetivo desta aula é apresentar os conceitos de inflação e taxa de desconto, para que o aluno seja capaz de avaliar o juro real pago por um investimento.\n",
    "    \n",
    "- <i>Aula 3: ETTJ, Duration/Convexidade e Produtos de Renda Fixa</i>\n",
    "    - O objetivo desta aula é compreender o que é uma Estrutura a Termo de Taxas de Juros (ETTJ) e qual a sua finalidade principal no mercado financeiro.\n",
    "    \n",
    "- <i>Aula 4: ETTJ, Duration/Convexidade e Produtos de Renda Fixa</i>\n",
    "    - O objetivo desta aula é aprendermos as técnicas utilizadas para montarmos uma ETTJ com os insumos disponíveis no mercado.\n",
    "    \n",
    "- <i><b>Aula 5: ETTJ, Duration/Convexidade e Produtos de Renda Fixa</b></i>\n",
    "    - <b>O objetivo desta aula é entender o conceito de <i>duration</i> e convexidade. Neste contexto, vamos aprender o que são estes conceitos e como calculamos eles no mercado.</b>\n",
    "    \n",
    "- <i>Aula 6: ETTJ, Duration/Convexidade e Produtos de Renda Fixa</i>\n",
    "    - O objetivo desta aula é continuarmos explorando o conceito de duration e convexidade, mas em um cotnexto de exemplo prático. Vamos simular a aplicação deste conceito em uma tesouraria de banco, por exemplo (ALM).\n",
    "    \n",
    "- <i>Aula 7: Risco, Retorno e Métricas de Risco</i>\n",
    "    - O objetivo desta aula é entender o que significa, no contexto do Mercado Financeiro, o <i>risco</i> e o <i>retorno</i> que precisamos, tanto para gestão de risco de uma carteira, quanto para uma alocação correta dentro de um dado perfil de risco de uma carteira.\n",
    "    \n",
    "- <i>Aula 8: Risco, Retorno e Métricas de Risco</i>\n",
    "    - O objetivo desta aula é compreender os conceitos de <i>VaR</i> (<i>Value at Risk</i>) e <i>ES</i> (<i>Expected Shortfall</i>), que são duas métricas de risco clássicas e muito utilizadas na gestão de carteiras. Inclusive, estas métricas têm um caráter regulatório para bancos.\n",
    "    \n",
    "- <i>Aula 9: Risco, Retorno e Métricas de Risco</i>\n",
    "    - O objetivo desta aula é compreendermos a ideia de quebrar um produto - ou uma carteira - em <i>Fatores de Risco</i>. Também veremos o conceito de <i>Gregas</i>, porém sem um grande aprofundamento matemático, pois antes precisaríamos entender a matemática por trás dos <i>derivativos</i> - tal como a equação de <i>Black & Scholes.</i>\n",
    "    \n",
    "- <i>Aula 10: Projeto Final - Precificando uma NTN-F</i>\n",
    "    - O objetivo desta aula é utilizar os diversos conceitos passados durante o módulo para precificarmos uma NTN-F."
   ]
  },
  {
   "cell_type": "markdown",
   "id": "49cd1ebc",
   "metadata": {},
   "source": [
    "# O que são a <i>Duration</i> e a Convexidade?\n",
    "\n",
    "No mundo de Renda Fixa, <i><b>Duration</b></i> e <b>Convexidade</b> são dois conceitos fundamentais que ajudam os investidores a compreender e gerenciar o risco e o retorno associados aos títulos de dívida.\n",
    "\n",
    "- <b><i>Duration:</i></b> A <i>Duration</i> é uma medida que quantifica a sensibilidade de um título de dívida às mudanças nas taxas de juros. Ela representa o tempo médio ponderado de recebimento dos fluxos de caixa do título, levando em consideração seus prazos de vencimento e os valores presentes de cada fluxo de caixa. A <i>Duration</i> pode ser interpretada como a sensibilidade percentual do preço do título em relação a uma variação de <i>delta</i>% nas taxas de juros. Quanto maior a <i>Duration</i>, maior é a sensibilidade do título às mudanças nas taxas de juros. A <i>Duration</i> permite aos investidores avaliar o risco de taxa de juros de um título e comparar a sensibilidade de diferentes títulos.\n",
    "\n",
    "- <b><i>Convexidade</i>:</b> A <i>Convexidade</i> é um conceito complementar à <i>Duration</i> e captura a curvatura da relação entre o preço de um título e as taxas de juros. Ela representa a taxa de variação da <i>Duration</i> em relação às mudanças nas taxas de juros. A <i>Convexidade</i> é importante porque a <i>Duration</i>, por si só, é uma medida linear e não considera a não linearidade dos preços dos títulos em relação às taxas de juros. A <i>Convexidade</i> permite corrigir essa limitação e proporciona uma estimativa mais precisa do preço de um título quando há variações nas taxas de juros.\n",
    "\n",
    "- <b>Importância da <i>Duration</i> e da <i>Convexidade</i>:</b> A <i>Duration</i> e a <i>Convexidade</i> são essenciais para os investidores entenderem e gerenciarem o risco de taxa de juros de seus investimentos em títulos de renda fixa. Essas medidas fornecem insights sobre como os preços dos títulos podem se mover em resposta a mudanças nas taxas de juros. Investidores podem utilizar a <i>Duration</i> e a <i>Convexidade</i> para tomar decisões informadas sobre alocação de ativos, estratégias de negociação e proteção contra riscos. Esses conceitos também são usados em estratégias de imunização de carteiras, que visam equilibrar os riscos e retornos para atender às necessidades específicas dos investidores.\n",
    "\n",
    "- <b>Relação entre <i>Duration</i> e <i>Convexidade</i>:</b> A <i>Duration</i> e a <i>Convexidade</i> estão relacionadas, mas são conceitos distintos. A <i>Duration</i> é uma medida linear que captura a sensibilidade do preço de um título às mudanças nas taxas de juros, enquanto a <i>Convexidade</i> mede a curvatura dessa relação. Em outras palavras, a <i>Convexidade</i> complementa a <i>Duration</i>, ajustando-a para capturar melhor a não linearidade dos preços dos títulos em relação às taxas de juros.\n",
    "\n",
    "- <b>Limitações da <i>Duration</i> e da <i>Convexidade</i>:</b> Embora a <i>Duration</i> e a <i>Convexidade</i> sejam ferramentas úteis, é importante reconhecer que elas são baseadas em suposições simplificadoras e têm limitações. Por exemplo, a <i>Duration</i> assume que as mudanças nas taxas de juros são uniformes em todos os prazos, o que nem sempre é o caso na realidade. Além disso, a <i>Convexidade</i> fornece uma estimativa aproximada das mudanças nos preços dos títulos, mas não é uma medida precisa em todas as situações. A <i>Convexidade</i> é calculada usando uma expansão em <i>série de Taylor</i>, o que pressupõe que as mudanças nas taxas de juros sejam pequenas. Em cenários de grandes variações nas taxas de juros, a <i>Convexidade</i> pode não fornecer estimativas precisas dos preços dos títulos.\n",
    "\n",
    "    Além disso, a <i>Duration</i> e a <i>Convexidade</i> são medidas estáticas que não levam em consideração outros fatores de risco, como crédito, liquidez e pré-pagamento. Portanto, ao utilizar esses conceitos, é importante complementá-los com outras análises e considerar o contexto específico de cada título e mercado.\n",
    "\n",
    "    Outra limitação é que a <i>Duration</i> e a <i>Convexidade</i> são mais adequadas para títulos de renda fixa com pagamentos de cupom periódicos e prazos definidos. Para títulos complexos, como os estruturados ou aqueles com opções embutidas, as medidas de <i>Duration</i> e <i>Convexidade</i> podem não ser suficientes para capturar seu comportamento de forma adequada.\n",
    "\n",
    "Em resumo, a <i><b>Duration</b></i> e a <b><i>Convexidade</i></b> são conceitos cruciais no mundo de Renda Fixa, fornecendo insights sobre a sensibilidade dos preços dos títulos às mudanças nas taxas de juros. No entanto, é importante reconhecer suas limitações e complementar essas medidas com outras análises e considerações de risco relevantes para uma tomada de decisão mais abrangente."
   ]
  },
  {
   "cell_type": "markdown",
   "id": "f1308b4e",
   "metadata": {},
   "source": [
    "# Prazo Médio\n",
    "\n",
    "Definição: Data que resume a média de ocorrência dos fluxos de caixa de um título ou carteira. É semelhante ao conceito de \"centro de massa\" na física.\n",
    "\n",
    "É calculado através da média dos prazos do fluxos do título ou carteira ponderada pelos seus valores.\n",
    "\n",
    "$$ PM = \\frac{F_1 p_1 + F_2p_2 + ... + F_n p_n }{F_1 + F_2 + ... + F_n} $$\n",
    "\n",
    "Onde $F_i$ é o valor e $p_i$ é o prazo do fluxo $i$.\n",
    "\n",
    "** Exemplo **\n",
    "Considere uma debênture com as seguintes características:\n",
    "\n",
    "- Prazo: 5 anos\n",
    "- Valor ao par: R$ 1.000,00\n",
    "- Taxa de cupom: 7% aa\n",
    "\n",
    "*Qual seu prazo médio?*\n",
    "\n",
    "Prazo (anos) | Valor do fluxo\n",
    "-------------|---------------\n",
    "0|0\n",
    "1|70\n",
    "2|70\n",
    "3|70\n",
    "4|70\n",
    "5|1070\n",
    "\n",
    "Soma dos fluxos: \n",
    "\n",
    "$$ SF = 70 + 70 + 70 + 70 + 1070 = 1350 $$\n",
    "\n",
    "Prazo médio:\n",
    "\n",
    "$$ PM = \\frac{70*1 + 70*2 + 70*3 + 70*4 + 1070*5}{1350} = 4.48 $$\n",
    "\n",
    "O prazo médio não leva em conta o valor dos fluxos no tempo. O mais correto é calcular um prazo médio com base no valor presente dos fluxos de caixa do título. O que nos leva ao próximo conceito: **Duration**."
   ]
  },
  {
   "cell_type": "code",
   "execution_count": 1,
   "id": "e0ce5fbe",
   "metadata": {
    "ExecuteTime": {
     "end_time": "2023-05-19T23:08:03.542700Z",
     "start_time": "2023-05-19T23:08:03.525894Z"
    }
   },
   "outputs": [
    {
     "data": {
      "text/plain": [
       "4.481481481481482"
      ]
     },
     "execution_count": 1,
     "metadata": {},
     "output_type": "execute_result"
    }
   ],
   "source": [
    "SF = 70 + 70 + 70 + 70 + 1070\n",
    "\n",
    "PM = (70*1 + 70*2 + 70*3 + 70*4 + 1070*5) / SF\n",
    "PM"
   ]
  },
  {
   "cell_type": "markdown",
   "id": "77d00756",
   "metadata": {},
   "source": [
    "# <i>Duration</i>\n",
    "\n",
    "Duration é uma medida de prazo médio dos títulos e está relacionada com a distribuição dos fluxos de caixa no tempo. Considera o valor dos fluxos, os prazos e os custos. Ela mede a sensibilidade do preço do título a uma mudança na sua taxa de juros.\n",
    "\n",
    "É calculada pela média dos prazos dos fluxos do título ou carteira ponderada pelo valor presente de seus fluxos. É o prazo equivalente de uma parcela única no valor presente do fluxo.\n",
    "\n",
    "$$ D = \\frac{VP(F_1) t_1 + VP(F_2) t_2 + ... + VP(F_n) t_n }{VP(F_1) + VP(F_2) + ... + VP(F_n)} $$\n",
    "\n",
    "Sendo $F_i$ o valor futuro do fluxo $i$ e $t_i$ o prazo do fluxo$i$.\n",
    "\n",
    "Considerando que o desconto a valor presente é dado por uma taxa exponencial, temos:\n",
    "\n",
    "$$ D = \\frac{\\frac{F_1}{(1+r_1)^1} t_1 + \\frac{F_2}{(1+r_2)^2} t_2 + ... + \\frac{F_n}{(1+r_n)^n} t_n }{\\frac{F_1}{(1+r_1)^1} + \\frac{F_2}{(1+r_2)^2} + ... + \\frac{F_n}{(1+r_n)^n}} $$\n",
    "\n",
    "Se possuirmos a TIR (YTM - yield to maturity) do título, podemos calcular a duration a partir dela:\n",
    "\n",
    "$$ D = \\frac{ \\sum_{i=1}^{n} t_i *\\frac{F_t}{(1+y)^{t_i}}} { \\sum_{t=1}^{n} \\frac{F_t}{(1+y)^{t_i}}} $$\n",
    "\n",
    "\n"
   ]
  },
  {
   "cell_type": "markdown",
   "id": "905a66a0",
   "metadata": {},
   "source": [
    "**Exemplo**\n",
    "\n",
    "Se um título possui o valor presente de 106 com um fluxo de caixa em um ano com valor presente de 6 e um fluxo de caixa em 2 anos com o valor presente de 100, a duration de Macaulay será dada por:\n",
    "\n",
    "$$ \\frac{6}{106} \\cdot 1 + \\frac{100}{106} \\cdot 2 = 1.9434 $$"
   ]
  },
  {
   "cell_type": "code",
   "execution_count": 2,
   "id": "68dcd107",
   "metadata": {
    "ExecuteTime": {
     "end_time": "2023-05-19T23:08:34.558584Z",
     "start_time": "2023-05-19T23:08:34.553069Z"
    }
   },
   "outputs": [
    {
     "name": "stdout",
     "output_type": "stream",
     "text": [
      "1.9433962264150944\n"
     ]
    }
   ],
   "source": [
    "PV_1 = 6\n",
    "PV_2 = 100\n",
    "\n",
    "P = PV_1 + PV_2\n",
    "\n",
    "D = (PV_1*1 + PV_2*2)/P\n",
    "print(D)"
   ]
  },
  {
   "cell_type": "markdown",
   "id": "28fea95d",
   "metadata": {},
   "source": [
    "## Duration de Macaulay\n",
    "\n",
    "Também podemos obter a seguinte relação entre o preço do título e a duration, aproximadamente por:\n",
    "\n",
    "$$ \\Delta P = - D P \\Delta y $$\n",
    "\n",
    "que é equivalente a:\n",
    "\n",
    "$$ \\frac{\\Delta P}{P} = -D \\Delta y$$\n",
    "\n",
    "Onde:\n",
    "\n",
    "- $P$: é o preço do título\n",
    "- $D$: é a duration do título\n",
    "- $\\Delta y$: é a variação na TIR do título\n",
    "- $\\Delta P$: é a variação no preço do título resultante da variação na TIR\n",
    "\n",
    "A relação apresentada é aproximada pois o preço do bond não é uma função linear da taxa.\n",
    "\n",
    "A Duration de Macaulay é o valor correto de D se a TIR é composta continuamente. A duration modificada é a duration correta para uso se D é medido com alguma coutra composição."
   ]
  },
  {
   "cell_type": "markdown",
   "id": "2020c607",
   "metadata": {},
   "source": [
    "**Exemplo**\n",
    "\n",
    "Portanto, uma mudança de 5 basis points (0.05\\%, ou 0.0005) na TIR composta continuamente gera uma mudança no preço do título de:\n",
    "\n",
    "$$ -1.9434 \\cdot 106 \\cdot 0.0005 = -0.103 $$\n",
    "\n",
    "E o preço do título cairia para 105.897."
   ]
  },
  {
   "cell_type": "code",
   "execution_count": 3,
   "id": "3c23e1a7",
   "metadata": {
    "ExecuteTime": {
     "end_time": "2023-05-19T23:09:02.165739Z",
     "start_time": "2023-05-19T23:09:02.159729Z"
    }
   },
   "outputs": [
    {
     "name": "stdout",
     "output_type": "stream",
     "text": [
      "-1030000.0\n"
     ]
    }
   ],
   "source": [
    "# D calculado acima\n",
    "# B calculado acima\n",
    "B = 106*10**6\n",
    "dy = 0.005\n",
    "dB = -D*B*dy\n",
    "print(dB)"
   ]
  },
  {
   "cell_type": "markdown",
   "id": "8dde8294",
   "metadata": {},
   "source": [
    "## *Duration Modificada*\n",
    "\n",
    "Quando as taxas são compostas $m$ vezes por ano, é mais adequado utilizar a *duration modificada*, que pode ser calculada em função da duration de Macaulay pelos seguinte ajuste:\n",
    "\n",
    "$$ \\hbox{Duration modificada} = \\frac{\\hbox{Duration Macaulay}}{1 + y/m}$$"
   ]
  },
  {
   "cell_type": "markdown",
   "id": "932f6a48",
   "metadata": {},
   "source": [
    "**Exemplo**\n",
    "\n",
    "Suponha um título que paga fluxos semestrais de 3\\% e vale 100 no seu vencimento em 3 anos. O preço do título é 102.0695 e a yield (TIR) composta semestralmente vale 5.2455\\%.\n",
    "\n",
    "Com composição contínua, temos:\n",
    "\n",
    "$$ 2 \\cdot ln(1 + 0.052455/2) = 0.051779 $$\n",
    "\n",
    "Ou 5.1779\\%.\n",
    "\n",
    "A duration de Macaulay é apresentada na tabela a seguir. Quando descontado pela *yield*, o primeiro fluxo possui o valor presente de 2.9233. Isto equivale a 2.864\\% do valor presente do título. Aplicando o mesmo cálculo aos demais fluxos, chegamos na duration de Macaulay = 2.79238.\n",
    "\n",
    "Prazo(anos) | VF | PV | Peso | Peso x Prazo\n",
    "------------|----|----|------|-------------\n",
    "0.5 | 3  | 2.9233 | 0.02864 | 0.01432\n",
    "1.0 | 3  | 2.8486 | 0.02791 | 0.02791\n",
    "1.5 | 3  | 2.7758 | 0.02720 | 0.04079\n",
    "2.0 | 3  | 2.7049 | 0.02650 | 0.05300\n",
    "2.5 | 3  | 2.6357 | 0.02582 | 0.06456\n",
    "3.0 | 103|88.1811 | 0.86393 | 2.59180\n",
    "Total|   |102.0695| 1.00000 | 2.79238\n",
    "\n",
    "\n",
    "Para testar a acurácia da relação apreentada acima, suponha que há um aumento de 10 basis point na yield, ou seja, de 5.1779\\% para 5.2779\\%. O novo preço do título pode ser calculado por:"
   ]
  },
  {
   "cell_type": "code",
   "execution_count": 4,
   "id": "57ae4cbd",
   "metadata": {
    "ExecuteTime": {
     "end_time": "2023-05-19T23:09:31.395581Z",
     "start_time": "2023-05-19T23:09:31.388038Z"
    }
   },
   "outputs": [
    {
     "name": "stdout",
     "output_type": "stream",
     "text": [
      "101.78481098725595\n"
     ]
    }
   ],
   "source": [
    "# Cálculo completo\n",
    "\n",
    "y_new = 0.052779\n",
    "B_new = 3*np.exp(-0.5*y_new) + 3*np.exp(-1.0*y_new) + 3*np.exp(-1.5*y_new) + 3*np.exp(-2.0*y_new) + 3*np.exp(-2.5*y_new) + 103*np.exp(-3.0*y_new)\n",
    "print(B_new)"
   ]
  },
  {
   "cell_type": "markdown",
   "id": "474b1322",
   "metadata": {},
   "source": [
    "Enquanto a relação nos prevê o valor:"
   ]
  },
  {
   "cell_type": "code",
   "execution_count": 5,
   "id": "0a6f52dc",
   "metadata": {
    "ExecuteTime": {
     "end_time": "2023-05-19T23:09:45.888512Z",
     "start_time": "2023-05-19T23:09:45.881978Z"
    }
   },
   "outputs": [
    {
     "name": "stdout",
     "output_type": "stream",
     "text": [
      "101.7844811282\n"
     ]
    }
   ],
   "source": [
    "# Cálculo pela duration de Macaulay\n",
    "B = 102.0695\n",
    "D = 2.7924\n",
    "B_new_2 = B - D*B*0.001\n",
    "print(B_new_2)"
   ]
  },
  {
   "cell_type": "markdown",
   "id": "068b77f0",
   "metadata": {},
   "source": [
    "## <i>Duration</i> de uma carteira\n",
    "\n",
    "É calculada a partir dos prazos e valores presentes dos títulos que a compõem. Os prazos de cada título podem ser segregados na duration de cada título. Na prática, é calculada como se fosse a duration de um título com vários fluxos de caixa:\n",
    "\n",
    "$$ D_{cart} = \\frac{ \\sum d_k \\cdot VP_k }{ VP_{Cart} } $$\n",
    "\n",
    "Onde $d_k$ é a duration do título $k$ e $VP_k$ é o valor presente do título $k$."
   ]
  },
  {
   "cell_type": "markdown",
   "id": "16b6c697",
   "metadata": {},
   "source": [
    "## Propriedades básicas da <i>Duration</i>:\n",
    "\n",
    "1. Duration cresce com o prazo de vencimento do título, porém com taxas decrescentes\n",
    "2. Duration decresce com o aumento das taxas de mercado (YTM)\n",
    "3. Quanto maior o cupom do título, menor a duration\n",
    "\n",
    "*O que fazer para aumentar a duration de uma carteira?*\n",
    "- Aumentar o prazo do título: característica 1\n",
    "- Títulos com menor cupom: característica 3."
   ]
  },
  {
   "cell_type": "markdown",
   "id": "39821d6d",
   "metadata": {},
   "source": [
    "## Limitações da <i>Duration</i>\n",
    "\n",
    "A duration nos dá uma boa aproximação do efeito de um choque paralelo da estrutura a termo de taxas de juros. Quando todas as taxas mudam uma certa quantidade, a *yield* (TIR)  de um título muda quase a mesma quantidade. Contudo, a relação entre o preço do título e a duration não é precisa, caso as mudanças nas taxas não sejam paralelas em toda a estrutura a termo, ou se a mudança for muito grande."
   ]
  },
  {
   "cell_type": "markdown",
   "id": "0096dad0",
   "metadata": {},
   "source": [
    "## Aplicações de <i>Duration</i>\n",
    "\n",
    "1. A partir da duration, pode-se representar o fluxo de um título ou uma carteira por um título equivalente (ou título sintético):\n",
    "- Valor presente igual ao do título ou carteira\n",
    "- Prazo igual à duration do título ou carteira\n",
    "\n",
    "O valor futuro do título sintético é obtido a partir do valor presente, do prazo e das taxas de mercado. A taxa do título sintético é dada por:\n",
    "\n",
    "$$ TIR_{Sintético} = \\frac{VF}{VP} - 1 $$\n",
    "\n",
    "2. Análise de descasamento de ativos e passivos\n",
    "- Título sintético para a carteira do ativo\n",
    "- Título sintético para a carteira do passivo\n",
    "\n",
    "- Prazo de descasamento: diferença entre as durations\n",
    "- Direção do descasamento: ativo (dado) ou passivo (tomado)\n",
    "- Spread do descasamento: diferença entre as taxas\n",
    "\n",
    "3. Imunização de ativos e passivos\n",
    "\n",
    "$$ Duration_{Ativos} * VP_{Ativos} = Duration_{Passivos} * VP_{Passivos} $$\n",
    "\n",
    "4. Indicador de sensibilidade \n",
    "\n",
    "A duration pode ser utilizada como um indicador de sensibilidade do preço do título ou do valor da carteira em função de mudanças nas taxas de juros\n",
    "\n"
   ]
  },
  {
   "cell_type": "markdown",
   "id": "f4508c3e",
   "metadata": {},
   "source": [
    "## Demonstração\n",
    "\n",
    "A partir das fórmulas gerais de preços de títulos, em função da yield:\n",
    "\n",
    "$$ P = \\sum_{t=1}^{n} \\frac{F_t}{(1+y)^t} = \\sum_{t=1}^{n} F_t \\cdot (1+y)^{-t}$$\n",
    "\n",
    "$$ P = F_1 \\cdot (1+y)^{-1} + F_2 *(1+y)^{-2} + ... + F_n \\cdot (1+y)^{-t_n} $$\n",
    "\n",
    "Calculando a derivada do preço $P$ em função de $y$, temos:\n",
    "\n",
    "$$ \\frac{\\partial P}{\\partial y} = -F_1 \\cdot (1+y)^{-2} -2 F_2 *(1+y)^{-3} -  ... - t_n F_n \\cdot (1+y)^{-t_n-1} $$\n",
    "\n",
    "$$ \\frac{\\partial P}{\\partial y} = \\frac{- 1}{(1 + y)} [ F_1 \\cdot (1+y)^{-1} +2 F_2 *(1+y)^{-2} + ... + t_n F_n \\cdot (1+y)^{-t_n}] $$\n",
    "\n",
    "$$ \\frac{\\partial P}{\\partial y} = \\frac{- P}{(1 + y)} [ \\frac{F_1 \\cdot (1+y)^{-1} +2 F_2 *(1+y)^{-2} + ... + t_n F_n \\cdot(1+y)^{-t_n}}{P}] $$\n",
    "\n",
    "$$ \\frac{\\partial P}{\\partial y} = \\frac{- P}{(1 + y)} \\bigg[ \\frac{\\sum_{t=1}^{t_n} t \\cdot VP(F_t) }{P}\\bigg] $$\n",
    "\n",
    "$$ \\frac{\\partial P}{\\partial y} = \\frac{- P}{(1 + y)} \\cdot D $$\n",
    "\n",
    "E podemos escrever a variação no preço ($\\partial P$) em função de uma variação na yield ($\\partial y$):\n",
    "\n",
    "$$ \\partial P = \\frac{- P}{(1 + y)}\\cdot D \\cdot \\partial y$$\n",
    "\n",
    "Esta é a duration tradicional de Macaulay. Também pode ser escrita como uma variação no retorno do preço:\n",
    "\n",
    "$$ \\frac{\\partial P}{P} = - D \\cdot \\frac{\\partial y}{(1 + y)} $$\n"
   ]
  },
  {
   "cell_type": "markdown",
   "id": "a72ef347",
   "metadata": {},
   "source": [
    "## Imunização\n",
    "\n",
    "Imunização significa tornar o valor final de uma carteira de renda fixa insensível a variações na taxa de juros (*hedging*).\n",
    "\n",
    "A imunização permite que se proteja um título ou carteira de renda fixa em relação a mudanças na taxa de juros.\n",
    "\n",
    "Dada uma carteira $P_{cart}$, devemos montar uma outra carteira $P_{Imun}$, de modo que a variação no valor da primeira seja compensada pela variação no valor da segunda:\n",
    "\n",
    "$$ \\Delta P_{Cart} = \\Delta P_{Imun} $$\n",
    "\n",
    "Queremos obter $P_{Imun}$ tal que somadas as carteiras, não haja variação em função de oscilações na taxa de juros $y$:\n",
    "\n",
    "$$ Z = P_{Cart} + P_{Imun}$$\n",
    "\n",
    "$$ \\frac{dZ}{dy} = 0 $$\n",
    "\n",
    "Calculando a variação da carteira composta $Z$, temos:\n",
    "\n",
    "$$ \\frac{dZ}{dy} = \\frac{P_{Cart} }{dy} + \\frac{P_{Imun} }{dy}$$\n",
    "\n",
    "Lembrando que:\n",
    "\n",
    "$$ \\frac{dP}{dy} = -P \\cdot MD $$\n",
    "\n",
    "Podemos calcular a variação de $Z$ em função das durations e igualar a zero (sem variação):\n",
    "\n",
    "$$ \\frac{dZ}{dy} = -P_{Cart} \\cdot MD_{Cart} -P_{Imun} \\cdot MD_{Imun} = 0 $$\n",
    "\n",
    "E conseguimos obter a carteira $P_{Imun}$ tal que:\n",
    "\n",
    "$$ P_{Imun} = - P_{Cart} \\cdot \\frac{MD_{Cart}}{MD_{Imun}} $$\n",
    "\n",
    "P -> Preço\n",
    "<br>\n",
    "MD -> Modified Duration"
   ]
  },
  {
   "cell_type": "markdown",
   "id": "1bf05de4",
   "metadata": {},
   "source": [
    "# Convexidade\n",
    "\n",
    "Convexidade é o efeito de segunda ordem que descreve como o preço varia em função de alterações na taxa de retorno $y$. Descreve como a duration ($D$) sofre alteração aconforme muda a taxa de retorno $y$.\n",
    "\n",
    "É definida matematicamente pela expansão de Taylor:\n",
    "\n",
    "$$ dP = \\frac{dP}{dy} dy + \\frac{1}{2} \\frac{d^2P}{dy^2} dy^2 $$\n",
    "\n",
    "Dividindo por $P$:\n",
    "\n",
    "$$ \\frac{dP}{P} = \\frac{dP}{dy}\\frac{1}{P} dy + \\frac{1}{2} \\frac{d^2P}{dy^2}\\frac{1}{P} dy^2 $$\n",
    "\n",
    "Obtemos a expansão de Taylor em função da primeira derivada ($D$) e da segunda derivada ($C$):\n",
    "\n",
    "$$ \\frac{dP}{P} = -D dy + \\frac{1}{2} C \\cdot  dy^2 $$\n",
    "\n",
    "Onde:\n",
    "\n",
    "$$ C = \\frac{d^2P}{dy^2}\\frac{1}{P} = - \\frac{D}{dy} $$\n",
    "\n",
    "A convexidade também pode ser reescrita como:\n",
    "\n",
    "\\begin{equation}\n",
    "C = \\frac{1}{P} \\frac{1}{(1+y)^2} \\sum^{n}_{i=1} \\left( t_i(t_i+1) \\frac{F_i}{(1+y)^{t_i}} \\right) \n",
    "\\end{equation}\n",
    "\n",
    "E podemos ver a seguinte relação:\n",
    "\n",
    "\\begin{equation}\n",
    "\\Delta P = -DP \\Delta y + \\frac{1}{2} C P (\\Delta y)^2\n",
    "\\end{equation}\n",
    "\n",
    "Esta relação permite considerar choques paralelos mais altos.''"
   ]
  },
  {
   "cell_type": "markdown",
   "id": "b9e91e1e",
   "metadata": {},
   "source": [
    "**Exemplo**\n",
    "\n",
    "Podemos calcular a convexidade da mesma forma calculada no primeiro exemplo, mas considerando o tempo ao quadrado.\n",
    "\n",
    "Prazo(anos) | VF | PV | Peso | Peso x Prazo^2\n",
    "------------|----|----|------|-------------\n",
    "0.5 | 3  | 2.9233 | 0.02864 | 0.00716\n",
    "1.0 | 3  | 2.8486 | 0.02791 | 0.02791\n",
    "1.5 | 3  | 2.7758 | 0.02720 | 0.06119\n",
    "2.0 | 3  | 2.7049 | 0.02650 | 0.10600\n",
    "2.5 | 3  | 2.6357 | 0.02582 | 0.16139\n",
    "3.0 | 103|88.1811 | 0.86393 | 7.77539\n",
    "Total|   |102.0695| 1.00000 | 8.13904\n",
    "\n",
    "A convexidade é, portanto, $C = 8.13904$."
   ]
  },
  {
   "cell_type": "markdown",
   "id": "d5aee2fd",
   "metadata": {},
   "source": [
    "## Propriedades da Convexidade\n",
    "\n",
    "1. A convexidade é desejada em posições ativas\n",
    "    - Quanto maior a convexidade de um título ou de uma carteira de títulos, maior é a proteção conseguida contra aumentos nas taxas de juros.\n",
    "    - Quanto maior a convexidade de um título ou carteira de títulos, maiores os ganhos possíveis em decorrência de uma queda de taxas de juros\n",
    "\n",
    "\n",
    "2. Ativos com maior convexidade devem ser mais valiosos\n",
    "\n",
    "3. Convexidade aumenta com o prazo da obrigação\n",
    "\n",
    "4. Convexidade é inversamente proporcional ao cupom\n",
    "\n",
    "    - Ativos com fluxos concentrados tem convexidade menor.\n",
    "\n",
    "5. Para a mesma duration, a convexidade diminui com o cupom\n",
    "\n",
    "    - Ativos sem cupom tem menor convexidade.\n",
    "\n",
    "6. Quanto maior a convexidade, maior o erro em não utiliza-la\n",
    "\n",
    "7. Todos os títulos de renda fixa possuem convexidade\n",
    "\n",
    "    - A convexidade de uma carteira é dada pela média da convexidade dos ativos individuais ponderada por sua participação na carteira.\n",
    "    - Quanto mais disperso for o conjunto de fluxos do ativo, ou de uma carteira, maior é a sua convexidade.\n",
    "    - Quanto mais convexo for o ativo ou a carteira:\n",
    "        - maior a proteção em caso de alta de taxas\n",
    "        - maior o ganho no caso de queda"
   ]
  },
  {
   "cell_type": "code",
   "execution_count": null,
   "id": "9d08473c",
   "metadata": {},
   "outputs": [],
   "source": []
  }
 ],
 "metadata": {
  "kernelspec": {
   "display_name": "Python 3 (ipykernel)",
   "language": "python",
   "name": "python3"
  },
  "language_info": {
   "codemirror_mode": {
    "name": "ipython",
    "version": 3
   },
   "file_extension": ".py",
   "mimetype": "text/x-python",
   "name": "python",
   "nbconvert_exporter": "python",
   "pygments_lexer": "ipython3",
   "version": "3.10.2"
  },
  "latex_envs": {
   "LaTeX_envs_menu_present": true,
   "autoclose": false,
   "autocomplete": true,
   "bibliofile": "biblio.bib",
   "cite_by": "apalike",
   "current_citInitial": 1,
   "eqLabelWithNumbers": true,
   "eqNumInitial": 1,
   "hotkeys": {
    "equation": "Ctrl-E",
    "itemize": "Ctrl-I"
   },
   "labels_anchors": false,
   "latex_user_defs": false,
   "report_style_numbering": false,
   "user_envs_cfg": false
  },
  "toc": {
   "base_numbering": 1,
   "nav_menu": {},
   "number_sections": true,
   "sideBar": true,
   "skip_h1_title": false,
   "title_cell": "Table of Contents",
   "title_sidebar": "Contents",
   "toc_cell": false,
   "toc_position": {},
   "toc_section_display": true,
   "toc_window_display": false
  },
  "varInspector": {
   "cols": {
    "lenName": 16,
    "lenType": 16,
    "lenVar": 40
   },
   "kernels_config": {
    "python": {
     "delete_cmd_postfix": "",
     "delete_cmd_prefix": "del ",
     "library": "var_list.py",
     "varRefreshCmd": "print(var_dic_list())"
    },
    "r": {
     "delete_cmd_postfix": ") ",
     "delete_cmd_prefix": "rm(",
     "library": "var_list.r",
     "varRefreshCmd": "cat(var_dic_list()) "
    }
   },
   "types_to_exclude": [
    "module",
    "function",
    "builtin_function_or_method",
    "instance",
    "_Feature"
   ],
   "window_display": false
  }
 },
 "nbformat": 4,
 "nbformat_minor": 5
}
