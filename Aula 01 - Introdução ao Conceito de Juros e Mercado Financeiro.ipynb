{
 "cells": [
  {
   "cell_type": "markdown",
   "id": "0412610c",
   "metadata": {},
   "source": [
    "# O professor\n",
    "\n",
    "\n",
    "**Henrique Assis Cordeiro**\n",
    "\n",
    "- E-mail: henriqueassiscordeiro@hotmail.com\n",
    "\n",
    "Resumo acadêmico:\n",
    "\n",
    "- Graduado em Engenharia Elétrica - Ênfases em Eletrônica de Potência e em Sistemas de Energia (UFMG)\n",
    "- Mestre em Economia com Ênfase em Engenharia Financeira (FGV)\n",
    "\n",
    "Resumo profissional:\n",
    "- Concultoria Estratégica da Deloitte - Analista\n",
    "- Itaú Unibanco - Analista de validação de modelos de risco de mercado\n",
    "- Legend WM - Diretor de Risco / Head de Risco e Estudos Quantitativos\n",
    "<br><br>\n",
    "<hr>\n",
    "\n",
    "# O Curso\n",
    "\n",
    "A ementa do curso foi desenhada e montada para termos o maior aproveitamento por parte do aluno, independente da sua base prévia de conhecimentos do mercado financeiro. O objetivo deste primeiro curso é introduzir os conceitos mais básicos sobre <b>finanças quantitativas</b>, que formarão a base dos conceitos usados em técnicas, modelos e estudos mais avançados. Aqui, abordaremos os seguintes tópicos:\n",
    "\n",
    "- <i><b>Aula 1: Introdução, Juros e Inflação</b></i>\n",
    "    - <b>O objetivo desta aula é apresentar os conceitos de juros simples e juros compostos, suas diferenças e aplicações.</b>\n",
    "    \n",
    "- <i>Aula 2: Introdução, Juros e Inflação</i>\n",
    "    - O objetivo desta aula é apresentar os conceitos de inflação e taxa de desconto, para que o aluno seja capaz de avaliar o juro real pago por um investimento.\n",
    "    \n",
    "- <i>Aula 3: ETTJ, Duration/Convexidade e Produtos de Renda Fixa</i>\n",
    "    - O objetivo desta aula é compreender o que é uma Estrutura a Termo de Taxas de Juros (ETTJ) e qual a sua finalidade principal no mercado financeiro.\n",
    "    \n",
    "- <i>Aula 4: ETTJ, Duration/Convexidade e Produtos de Renda Fixa</i>\n",
    "    - O objetivo desta aula é aprendermos as técnicas utilizadas para montarmos uma ETTJ com os insumos disponíveis no mercado.\n",
    "    \n",
    "- <i>Aula 5: ETTJ, Duration/Convexidade e Produtos de Renda Fixa</i>\n",
    "    - O objetivo desta aula é entender o conceito de <i>duration</i> e convexidade. Neste contexto, vamos aprender o que são estes conceitos e como calculamos eles no mercado.\n",
    "    \n",
    "- <i>Aula 6: ETTJ, Duration/Convexidade e Produtos de Renda Fixa</i>\n",
    "    - O objetivo desta aula é continuarmos explorando o conceito de duration e convexidade, mas em um cotnexto de exemplo prático. Vamos simular a aplicação deste conceito em uma tesouraria de banco, por exemplo (ALM).\n",
    "    \n",
    "- <i>Aula 7: Risco, Retorno e Métricas de Risco</i>\n",
    "    - O objetivo desta aula é entender o que significa, no contexto do Mercado Financeiro, o <i>risco</i> e o <i>retorno</i> que precisamos, tanto para gestão de risco de uma carteira, quanto para uma alocação correta dentro de um dado perfil de risco de uma carteira.\n",
    "    \n",
    "- <i>Aula 8: Risco, Retorno e Métricas de Risco</i>\n",
    "    - O objetivo desta aula é compreender os conceitos de <i>VaR</i> (<i>Value at Risk</i>) e <i>ES</i> (<i>Expected Shortfall</i>), que são duas métricas de risco clássicas e muito utilizadas na gestão de carteiras. Inclusive, estas métricas têm um caráter regulatório para bancos.\n",
    "    \n",
    "- <i>Aula 9: Risco, Retorno e Métricas de Risco</i>\n",
    "    - O objetivo desta aula é compreendermos a ideia de quebrar um produto - ou uma carteira - em <i>Fatores de Risco</i>. Também veremos o conceito de <i>Gregas</i>, porém sem um grande aprofundamento matemático, pois antes precisaríamos entender a matemática por trás dos <i>derivativos</i> - tal como a equação de <i>Black & Scholes.</i>\n",
    "    \n",
    "- <i>Aula 10: Projeto Final - Precificando uma NTN-F</i>\n",
    "    - O objetivo desta aula é utilizar os diversos conceitos passados durante o módulo para precificarmos uma NTN-F."
   ]
  },
  {
   "cell_type": "markdown",
   "id": "bf992ff5",
   "metadata": {},
   "source": [
    "# Motivação\n",
    "\n",
    "## O que são Finanças Quantitativas?\n",
    "\n",
    "As finanças quantitativas são uma abordagem da teoria financeira que utiliza ferramentas matemáticas, estatísticas e computacionais para entender e analisar os mercados financeiros. Essa área de estudo busca entender as relações entre os diferentes ativos financeiros e o comportamento dos investidores para tomar decisões financeiras mais precisas e eficazes.\n",
    "\n",
    "Em outras palavras, as finanças quantitativas são uma maneira de analisar dados financeiros para entender melhor as tendências e os riscos do mercado. Isso envolve a coleta de informações financeiras, como preços de ações, taxas de juros e outros dados, para utilizá-los em modelos matemáticos e estatísticos que ajudam a prever comportamentos futuros do mercado financeiro.\n",
    "\n",
    "As finanças quantitativas são usadas em várias áreas financeiras, incluindo investimentos, gestão de risco, gestão de portfólio e análise de mercado. A aplicação desses modelos pode ajudar os investidores a tomar decisões mais informadas e a reduzir o risco de perdas financeiras.\n",
    "\n",
    "Embora as finanças quantitativas possam parecer complexas, é importante destacar que você não precisa ser um especialista em matemática ou estatística para entender os conceitos básicos. O objetivo deste curso é introduzir as principais ideias e técnicas das finanças quantitativas de uma forma acessível e prática, para que qualquer pessoa interessada possa compreender e aplicar os conceitos de forma efetiva em sua vida financeira e,a partir da base fornecida aqui, poder expandir seus conhecimentos nas áreas de maior interesse.\n",
    "\n",
    "## Qual a diferença entre Finanças Quantitativas e Finanças Tradicionais?\n",
    "\n",
    "As finanças tradicionais são uma abordagem mais antiga e geralmente mais qualitativa para entender e analisar o mercado financeiro. Essa abordagem é baseada em fatores econômicos, políticos e outros fatores que afetam a economia em geral. As finanças tradicionais geralmente se concentram em análises macroeconômicas e na tomada de decisões baseada em intuição e experiência.\n",
    "\n",
    "Por outro lado, as finanças quantitativas são uma abordagem mais recente para entender e analisar o mercado financeiro. Essa abordagem se baseia em modelos matemáticos e estatísticos para analisar o comportamento do mercado financeiro e tomar decisões financeiras. As finanças quantitativas se concentram em análises microeconômicas e na tomada de decisões baseada em dados e modelos matemáticos.\n",
    "\n",
    "Uma das principais diferenças entre as finanças quantitativas e tradicionais é a forma como a tomada de decisão é feita. Nas finanças tradicionais, as decisões geralmente são baseadas em intuição e experiência, enquanto nas finanças quantitativas as decisões são baseadas em modelos matemáticos e análises estatísticas. Isso significa que as finanças quantitativas tendem a ser mais objetivas e precisas na tomada de decisões.\n",
    "\n",
    "Outra diferença importante é a ênfase dada à análise de risco e retorno. As finanças quantitativas usam modelos matemáticos para analisar o risco e o retorno de investimentos, enquanto as finanças tradicionais tendem a focar mais na análise macroeconômica.\n",
    "\n",
    "Em resumo, as finanças quantitativas são uma abordagem mais moderna e baseada em dados para entender e analisar o mercado financeiro, enquanto as finanças tradicionais são uma abordagem mais antiga e baseada em fatores macroeconômicos. O curso de finanças quantitativas introdutório fornecerá uma visão geral clara dessas diferenças e como elas afetam a tomada de decisões financeiras.\n",
    "\n",
    "Uma das grandes vantagens das finanças quantitativas é a sua capacidade de abstração, ou seja, podemos ter estratégias que operam em dezenas de mercados diferentes, em dezenas de países diferentes, o que um ser-humano é incapaz de fazer artesanalmente. Também conseguimos tirar o viés pessoal do gestor no caso de modelos quantitativos, pois o programa irá buscar assimetrias e arbitragens onde ele localizar, independente de opiniões e gostos pré-concebidos.\n",
    "\n",
    "Além disto, mesmo para problemas tradicionalmente qualitativos - como áreas de <i>valuation</i>, as finanças quantitativas são capazes de operar e trazer estimativas mais assertivas em alguns casos, além de poder incorporar variáveis econométricas e simulações em seu resultado final - tarzendo mais robustez para a análise.\n",
    "\n",
    "## Como as Finanças Quantitativas ajudam a tomar decisões financeiras melhores e mais precisas?\n",
    "\n",
    "As finanças quantitativas podem ajudar a tomar decisões financeiras melhores e mais precisas ao fornecer uma análise mais objetiva e baseada em dados. Em vez de depender de intuição e experiência, a análise quantitativa usa modelos matemáticos e estatísticos para identificar padrões e prever comportamentos futuros do mercado financeiro.\n",
    "\n",
    "Essa abordagem pode ser especialmente útil em situações de alta complexidade ou incerteza. Por exemplo, quando se trata de investir em ações, pode ser difícil prever com precisão o desempenho futuro de uma empresa. No entanto, as finanças quantitativas podem ajudar a reduzir a incerteza ao analisar indicadores financeiros específicos e desenvolver modelos matemáticos que prevejam o desempenho futuro com base em dados históricos.\n",
    "\n",
    "Além disso, as finanças quantitativas também podem ajudar a identificar o risco e o retorno de diferentes investimentos. Os modelos matemáticos podem ser usados para analisar a relação entre risco e retorno e para desenvolver portfólios que maximizem o retorno enquanto minimizam o risco.\n",
    "\n",
    "No entanto, é importante lembrar que a análise quantitativa é apenas uma ferramenta para ajudar na tomada de decisões financeiras. Os modelos matemáticos e estatísticos podem fornecer informações valiosas, mas ainda é necessário o bom senso e o julgamento humano para interpretar e aplicar essas informações de maneira eficaz. Portanto, o curso de finanças quantitativas introdutório enfatiza a importância de equilibrar a análise quantitativa com a intuição e experiência pessoal para tomar decisões financeiras mais precisas e informadas."
   ]
  },
  {
   "cell_type": "markdown",
   "id": "82e6584d",
   "metadata": {},
   "source": [
    "# Juros\n",
    "\n",
    "<b>Definição:</b> Juros é a remuneração sobre o capital cobrada pelo empréstimo do dinheiro. É calculado sobre um período de tempo (em que o capital foi emprestado). Pode ser calculado de duas formas: simples ou composto.\n",
    "\n",
    "Podemos pensar que a passagem do tempo deve remunerar o capital, pois este capital, ao ser empregado em uma aplicação, está permitindo que o devedor financie suas atividades - que irão gerar um ganho para o seu negócio. Desta forma, a não ser que o capital esteja parado em espécie dentro de um cofre, ele estará sempre rendendo alguma taxa de juros.\n",
    "\n",
    "Porém, como que esta taxa de juros afeta a velocidade com a qual o dinheiro cresce? Existem duas formas de <b>capitalizarmos</b> o juros em um montante financeiro:\n",
    "\n",
    "- <b>Juros Simples</b>;\n",
    "- <b>Juros Compostos</b>.\n",
    "\n",
    "Vamos ver cada uma das metodologias em detalhe."
   ]
  },
  {
   "cell_type": "markdown",
   "id": "8c8447d8",
   "metadata": {},
   "source": [
    "## Juros Simples\n",
    "\n",
    "Juros simples são a forma mais intuitiva para se calcular os juros sobre um capital. \n",
    "\n",
    "O juros simples $J$ pode ser calculado da seguinte forma:\n",
    "\n",
    "$$ J = C \\cdot i \\cdot n$$\n",
    "\n",
    "Onde:\n",
    "\n",
    "- $C = $ quantia inicial (capital)\n",
    "- $i = $ taxa de juros (em percentual)\n",
    "- $n = $ período de tempo\n",
    "- $M = $ montante (capital inicial mais os juros)\n",
    "\n",
    "O <b>montante</b> $M$ também é conhecido por <b>Valor Futuro</b> ou $FV$ (de <i>Future Value</i>).\n",
    "\n",
    "O <b>capital</b> $C$ também é conhecido por <b>Valor Presente</b> ou $PV$ (de <i>Present Value</i>).\n",
    "\n",
    "A partir desta mesma relação, podemos reescrever de forma a obter as outras informações:\n",
    "\n",
    "$$ C = \\frac{J}{i \\cdot n}$$\n",
    "$$ i = \\frac{J}{C \\cdot n}$$\n",
    "$$ n = \\frac{J}{C \\cdot i}$$\n",
    "$$ M = C + J$$\n",
    "$$ M = C \\cdot (1 + i \\cdot n)$$\n",
    "$$ C = \\frac{M}{(1 + i \\cdot n)}$$\n",
    "\n",
    "Em outras palavras, temos 4 incógnitas nesta equação e, deta forma, precisamos que três delas estejam definidas para que possamos calcular a quarta. Vamos ver alguns exemplos!"
   ]
  },
  {
   "cell_type": "markdown",
   "id": "2d756044",
   "metadata": {},
   "source": [
    "<b>Exemplo 1</b>\n",
    "<br><br>\n",
    "<i>Quanto Julia resgatou, após ter aplicado R$ 20.000,00 por 3 meses, no regime de capitalização simples, à taxa de 5% ao mês?</i>"
   ]
  },
  {
   "cell_type": "code",
   "execution_count": 1,
   "id": "bbc9e0bd",
   "metadata": {
    "ExecuteTime": {
     "end_time": "2023-05-07T13:56:23.587673Z",
     "start_time": "2023-05-07T13:56:23.570368Z"
    }
   },
   "outputs": [
    {
     "name": "stdout",
     "output_type": "stream",
     "text": [
      "Valor final: R$23000.0\n"
     ]
    }
   ],
   "source": [
    "# Vamos definir agora quais as variáveis que possuímos para a nossa equação\n",
    "C = 20000 # C é a quantia inicial aplicada\n",
    "n = 3 # n é o número de unidades de tempo que o dinheiro vai ficar aplciado\n",
    "i = 5/100 # i é a taxa de juros que vai remunerar a aplicação\n",
    "\n",
    "# Aplicando as variáveis na equação (6) acima\n",
    "M = C * (1 + i*n)\n",
    "print(f'Valor final: R${round(M, 2)}')"
   ]
  },
  {
   "cell_type": "markdown",
   "id": "51c6c28b",
   "metadata": {},
   "source": [
    "<b>Exemplo 2</b>\n",
    "<br><br>\n",
    "<i>Fernando tomou um valor emprestado com um amigo, a uma taxa de 2,5% a.m.. Sabendo que depois de 5 meses ele teve que pagar R$ 1.125,00, qual foi o valor que Fernando pegou emprestado?</i>"
   ]
  },
  {
   "cell_type": "code",
   "execution_count": 2,
   "id": "5e52cd15",
   "metadata": {
    "ExecuteTime": {
     "end_time": "2023-05-07T13:59:47.950900Z",
     "start_time": "2023-05-07T13:59:47.938133Z"
    }
   },
   "outputs": [
    {
     "name": "stdout",
     "output_type": "stream",
     "text": [
      "Valor inicial: R$1000.0\n"
     ]
    }
   ],
   "source": [
    "# Vamos definir quais as variáveis que possuímos para nossa equação\n",
    "i = 2.5/100 # Taxa de juros simples\n",
    "n = 5 # Quantidade de unidades de tempo\n",
    "M = 1125 # Valor final do capital\n",
    "\n",
    "# Aplicando as variáveis na equação (7) acima\n",
    "C = M / (1 + i*n)\n",
    "print(f'Valor inicial: R${round(C, 2)}')"
   ]
  },
  {
   "cell_type": "markdown",
   "id": "ec4a3c40",
   "metadata": {},
   "source": [
    "<b>Exemplo 3</b>\n",
    "<br><br>\n",
    "<i>João emprestou R$5.000 para seu amigo Pedro a uma taxa de juros simples de 8% a.a.. Pedro pagará o empréstimo após 2 anos. Quanto Pedro deverá pagar a João no final do período?</i>"
   ]
  },
  {
   "cell_type": "code",
   "execution_count": 2,
   "id": "442858be",
   "metadata": {
    "ExecuteTime": {
     "end_time": "2023-05-15T22:41:53.489075Z",
     "start_time": "2023-05-15T22:41:53.476989Z"
    }
   },
   "outputs": [
    {
     "name": "stdout",
     "output_type": "stream",
     "text": [
      "Valor final: R$5800.0\n"
     ]
    }
   ],
   "source": [
    "# Vamos definir quais as variáveis que possuímos para nossa equação\n",
    "C = 5000 # Capital inicial sendo emprestado\n",
    "i = 8/100 # Taxa de juros por unidade de tempo\n",
    "t = 2 # Quantidade de unidades de tempo que o dinheiro irá render\n",
    "\n",
    "# Aplicando as variáveis na equação (1) acima\n",
    "J = C * i * t\n",
    "print(f'Valor final: R${round(J+C, 2)}')"
   ]
  },
  {
   "cell_type": "markdown",
   "id": "d4041d8b",
   "metadata": {},
   "source": [
    "<b>Exemplo 4</b>\n",
    "<br><br>\n",
    "<i>Maria investiu R\\\\$2.000 em uma conta de poupança que paga uma taxa de juros de 5\\% ao ano. Após quantos anos o valor do investimento será de R\\\\$2.500?</i>"
   ]
  },
  {
   "cell_type": "code",
   "execution_count": 5,
   "id": "b9446de7",
   "metadata": {
    "ExecuteTime": {
     "end_time": "2023-05-15T22:47:24.920145Z",
     "start_time": "2023-05-15T22:47:24.902165Z"
    }
   },
   "outputs": [
    {
     "name": "stdout",
     "output_type": "stream",
     "text": [
      "Duração da aplicação: 5.0 unidades de tempo\n"
     ]
    }
   ],
   "source": [
    "# Vamos definir quais as variáveis que possuímos para nossa equação\n",
    "C = 2000 # Capital inicial sendo emprestado\n",
    "i = 5/100 # Taxa de juros por unidade de tempo\n",
    "M = 2500 # Capital total ao final do período\n",
    "\n",
    "# Aplicando as variáveis na equação (6) acima e manipulando-a\n",
    "# M = C * (1 + i * t)\n",
    "# t = (M / C - 1) / i\n",
    "\n",
    "t = (M / C - 1) / i\n",
    "print(f'Duração da aplicação: {round(t, 2)} unidades de tempo')"
   ]
  },
  {
   "cell_type": "markdown",
   "id": "f6c143f6",
   "metadata": {},
   "source": [
    "De maneira geral, podemos manipular algebricamente as equações (1) e (5) acima para obtermos quaisquer relação que, através de 3 variáveis definidas, possamos calcular a quarta."
   ]
  },
  {
   "cell_type": "markdown",
   "id": "749cf0cd",
   "metadata": {},
   "source": [
    "## Juros Compostos\n",
    "\n",
    "Nos juros compostos, o rendimento é incorporado ao capital a cada período. Este efeito muitas vezes é identificado por \"juros sobre juros\".\n",
    "\n",
    "Os juros compostos $J$ podem ser calculado da seguinte forma:\n",
    "\n",
    "$$ M = C \\cdot (1 + i)^n$$\n",
    "\n",
    "Onde:\n",
    "\n",
    "- $C = $ quantia inicial (capital)\n",
    "- $i = $ taxa de juros (em percentual)\n",
    "- $n = $ período de tempo\n",
    "- $M = $ montante (capital inicial mais os juros)\n",
    "\n",
    "Ou também podemos escrever na seguinte nomeclatura:\n",
    "\n",
    "$$ VF = VP \\cdot (1 + i)^n$$\n",
    "\n",
    "Onde:\n",
    "\n",
    "- $FV = $ valor futuro (<i>future value</i>)\n",
    "- $PV = $ valor presente (<i>present value</i>)\n",
    "\n",
    "A expressão:\n",
    "\n",
    "$$ (1 + i)^n$$\n",
    "\n",
    "também é chamada de <b>fator de atualização</b>.\n",
    "\n",
    "A partir desta mesma relação, podemos reescrever de forma a obter as outras informações, como o valor dos juros em si:\n",
    "\n",
    "$$ C = \\frac{M}{(1 + i)^n}$$\n",
    "$$ J = M - C $$\n",
    "$$ J = C \\cdot (1 + i)^n - C$$\n",
    "$$ J = C \\cdot [(1 + i)^n - 1]$$"
   ]
  },
  {
   "cell_type": "markdown",
   "id": "8796f0d6",
   "metadata": {},
   "source": [
    "<b>Exemplo 1</b>\n",
    "<br><br>\n",
    "<i>Quanto resgatarei se aplicar R$ 1.500,00 por 7 meses a uma taxa de 2% a.m.?</i>"
   ]
  },
  {
   "cell_type": "code",
   "execution_count": 3,
   "id": "faf01e9b",
   "metadata": {
    "ExecuteTime": {
     "end_time": "2023-05-07T21:00:33.607341Z",
     "start_time": "2023-05-07T21:00:33.595801Z"
    }
   },
   "outputs": [
    {
     "name": "stdout",
     "output_type": "stream",
     "text": [
      "Valor final: R$1723.03\n"
     ]
    }
   ],
   "source": [
    "# Vamos definir quais as variáveis que possuímos para nossa equação\n",
    "VP = 1500 # valor presente\n",
    "n = 7 # número de unidades de tempo\n",
    "i = 2/100 # taxa de juros compostos\n",
    "\n",
    "# Aplicando as variáveis na equação (9) acima\n",
    "VF = VP * (1 + i)**n\n",
    "print(f'Valor final: R${round(VF, 2)}')"
   ]
  },
  {
   "cell_type": "markdown",
   "id": "dac1b695",
   "metadata": {},
   "source": [
    "<b>Exemplo 2</b>\n",
    "<br><br>\n",
    "<i>Gustavo possui R$ 200,00 em sua aplicação. Sabendo que a taxa de juros foi de 0,65% a.m.. Quanto Gustavo aplicou há 12 meses atrás?</i>"
   ]
  },
  {
   "cell_type": "code",
   "execution_count": 4,
   "id": "d9de56c4",
   "metadata": {
    "ExecuteTime": {
     "end_time": "2023-05-07T21:02:42.820629Z",
     "start_time": "2023-05-07T21:02:42.813074Z"
    }
   },
   "outputs": [
    {
     "name": "stdout",
     "output_type": "stream",
     "text": [
      "Valor presente: R$185.04\n"
     ]
    }
   ],
   "source": [
    "# Vamos definir quais as variáveis que possuímos para nossa equação\n",
    "VF = 200 # valor futuro\n",
    "i = 0.65/100 # taxa de juros\n",
    "n = 12 # unidades de tempo\n",
    "\n",
    "# Aplicando as variáveis na equação (9) acima\n",
    "VP = VF / (1 + i)**n\n",
    "print(f'Valor presente: R${round(VP, 2)}')"
   ]
  },
  {
   "cell_type": "markdown",
   "id": "f4c1643a",
   "metadata": {},
   "source": [
    "<b>Exemplo 3</b>\n",
    "<br><br>\n",
    "<i>Joana investiu R\\\\$3.000 em uma conta de ivnestimento que paga uma taxa de juros anual de 6\\%. Qual será o valor do investimento após 2 anos?</i>"
   ]
  },
  {
   "cell_type": "code",
   "execution_count": 7,
   "id": "dc00c179",
   "metadata": {
    "ExecuteTime": {
     "end_time": "2023-05-15T22:51:22.676451Z",
     "start_time": "2023-05-15T22:51:22.666662Z"
    }
   },
   "outputs": [
    {
     "name": "stdout",
     "output_type": "stream",
     "text": [
      "Valor futuro: R$3370.8\n"
     ]
    }
   ],
   "source": [
    "# Vamos definir quais as variáveis que possuímos para nossa equação\n",
    "PV = 3000 # valor presente\n",
    "i = 6/100 # taxa de juros\n",
    "t = 2 # unidades de tempo\n",
    "\n",
    "# Aplicando as variáveis na equação (9) acima\n",
    "FV = PV * (1 + i)**t\n",
    "print(f'Valor futuro: R${round(FV, 2)}')"
   ]
  },
  {
   "cell_type": "markdown",
   "id": "411e5b52",
   "metadata": {},
   "source": [
    "<b>Exemplo 4</b>\n",
    "<br><br>\n",
    "<i>Maria investiu R\\\\$2.000 em uma conta de poupança que paga uma taxa de juros de 5\\% ao ano. Após quantos anos o valor do investimento será de R\\\\$2.500?</i>"
   ]
  },
  {
   "cell_type": "code",
   "execution_count": 8,
   "id": "b935f262",
   "metadata": {
    "ExecuteTime": {
     "end_time": "2023-05-15T22:53:51.441839Z",
     "start_time": "2023-05-15T22:53:51.430267Z"
    }
   },
   "outputs": [
    {
     "name": "stdout",
     "output_type": "stream",
     "text": [
      "Duração da aplicação: 2.36 unidades de tempo\n"
     ]
    }
   ],
   "source": [
    "# Vamos definir quais as variáveis que possuímos para nossa equação\n",
    "PV = 2000 # valor presente\n",
    "i = 5/100 # taxa de juros\n",
    "FV = 2500 # valor a ser resgatado no final do período\n",
    "\n",
    "# Aplicando as variáveis na equação (9) acima\n",
    "# FV = PV * (1 + i)**t\n",
    "# t = (np.power(FV/PV, 1/t) - 1) / i\n",
    "\n",
    "t = (np.power(FV/PV, 1/t) - 1) / i\n",
    "print(f'Duração da aplicação: {round(t, 2)} unidades de tempo')"
   ]
  },
  {
   "cell_type": "markdown",
   "id": "89c911a4",
   "metadata": {},
   "source": [
    "# Equivalência de taxas \n",
    "\n",
    "A taxa de juros sempre é mensurada para um dado período. O período pode ser ao ano (a.a.), ao mês (a.m.), ao dia (a.d.), ou qualquer outro período estabelecido.\n",
    "\n",
    "Caso você possua uma taxa definida em um período (por exemplo, ao ano), mas precise calcular o juros por um prazo definido de outra forma (por exemplo, ao mês), é necessário realizar a converão dessas taxas. \n",
    "\n",
    "A conversão será realizada de acordo com a capitalização dos juros. Ou seja, para juros compostos, a conversão é diferente de juros simples, como veremos a seguir.\n",
    "\n",
    "## Capitalização Simples\n",
    "\n",
    "Para taxas com capitalização simples, a conversão é realizada da seguinte forma:\n",
    "\n",
    "$$ i_{desejada} = i_{original} \\cdot  \\frac{n_{desejado}}{n_{original}} $$\n",
    "\n",
    "Em que:\n",
    "\n",
    "- $i_{desejada}$ é a taxa definida ao período desejado;\n",
    "- $i_{original}$ é a taxa definida ao período original;\n",
    "- $n_{desejado}$ é o prazo do período desejado;\n",
    "- $n_{original}$ é o prazo do período original;\n",
    "\n",
    "Perceba que o que a equação faz é uma <b>renormalização</b> da taxa para uma outra periodicidade!"
   ]
  },
  {
   "cell_type": "markdown",
   "id": "52cc17b0",
   "metadata": {},
   "source": [
    "<b>Exemplo 1</b>\n",
    "<br><br>\n",
    "<i>Se temos uma txa de 24% a.a., qual a taxa equivalente definida ao mês?</i>"
   ]
  },
  {
   "cell_type": "code",
   "execution_count": 9,
   "id": "a7804ab7",
   "metadata": {
    "ExecuteTime": {
     "end_time": "2023-05-15T22:55:30.956841Z",
     "start_time": "2023-05-15T22:55:30.946304Z"
    }
   },
   "outputs": [
    {
     "name": "stdout",
     "output_type": "stream",
     "text": [
      "Taxa ao mês: 2.0%\n"
     ]
    }
   ],
   "source": [
    "i_a = 24/100 # taxa definida ao ano\n",
    "n_ano = 12 # número de MESES em 1 ANO\n",
    "n_mes = 1 # número de MESES que desejamos\n",
    "\n",
    "# Perceba que precisamos saber quantas unidades de tempo de destino (MES) existem na unidade de tempo de origem (ANO)\n",
    "# Isto nos dá o valor 12.\n",
    "\n",
    "# Em seguida, precisamos saber quantas vezes a unidade de tempo de destino (MES) queremos que a taxa seja composta,\n",
    "# o que neste caso é 1 mês.\n",
    "\n",
    "# Aplicando as variáveis na equação (15) acima\n",
    "i_m = i_a * (n_mes/n_ano)\n",
    "print(f'Taxa ao mês: {round(i_m*100, 2)}%')"
   ]
  },
  {
   "cell_type": "markdown",
   "id": "d822b400",
   "metadata": {},
   "source": [
    "<b>Exemplo 2</b>\n",
    "<br><br>\n",
    "<i>Se temos uma taxa de 0,1% a.d., qual a taxa equivalente definida ao semestre?</i>"
   ]
  },
  {
   "cell_type": "code",
   "execution_count": 10,
   "id": "e69aea30",
   "metadata": {
    "ExecuteTime": {
     "end_time": "2023-05-15T22:55:44.901023Z",
     "start_time": "2023-05-15T22:55:44.890198Z"
    }
   },
   "outputs": [
    {
     "name": "stdout",
     "output_type": "stream",
     "text": [
      "Taxa ao semestre: 18.0%\n"
     ]
    }
   ],
   "source": [
    "i_d = 0.1/100 # taxa definida ao dia\n",
    "n_dia = 1 # numero de DIAS em 1 DIA\n",
    "n_semestre = 6 * 30 # numero de DIAS em 6 MESES\n",
    "\n",
    "# Aplicando as variáveis na equação (15) acima\n",
    "i_semestre = i_d * (n_semestre/n_dia)\n",
    "print(f'Taxa ao semestre: {round(i_semestre*100, 2)}%')"
   ]
  },
  {
   "cell_type": "markdown",
   "id": "79553a59",
   "metadata": {},
   "source": [
    "## Capitalização Composta\n",
    "\n",
    "Para taxas com capitalização composta, a conversão é realizada da seguinte forma:\n",
    "\n",
    "$$ i_{desejada} = [(1 + i_{original})^{ \\frac{n_{desejado}}{n_{original}} } - 1] \\cdot 100\\%$$\n",
    "\n",
    "Em que:\n",
    "\n",
    "- $i_{desejada}$ é a taxa definida ao período desejado;\n",
    "- $i_{original}$ é a taxa definida ao período original;\n",
    "- $n_{desejado}$ é o prazo do período desejado;\n",
    "- $n_{original}$ é o prazo do período original;\n",
    "\n",
    "Repare que a lógica da equação permanece a mesma, porém aqui precisamos levar em consideração o caráter exponencial (juros sobre juros) da equação para taxa composta!"
   ]
  },
  {
   "cell_type": "markdown",
   "id": "1536ee91",
   "metadata": {},
   "source": [
    "<b>Exemplo 1</b>\n",
    "<br><br>\n",
    "<i>Se temos uma taxa de 24% a.a., qual a taxa equivalente definida ao mês?</i>"
   ]
  },
  {
   "cell_type": "code",
   "execution_count": 11,
   "id": "363a915f",
   "metadata": {
    "ExecuteTime": {
     "end_time": "2023-05-15T22:56:12.309465Z",
     "start_time": "2023-05-15T22:56:12.297709Z"
    }
   },
   "outputs": [
    {
     "name": "stdout",
     "output_type": "stream",
     "text": [
      "Taxa ao mês: 1.81%\n"
     ]
    }
   ],
   "source": [
    "i_aa = 24/100 # taxa definida ao ano\n",
    "n_am = 1 # número de MESES que desejamos\n",
    "n_aa = 12 # número de MESES e 1 ANO\n",
    "\n",
    "i_am = (1 + i_aa)**(n_am / n_aa) - 1\n",
    "print(f'Taxa ao mês: {round(i_am*100, 2)}%')"
   ]
  },
  {
   "cell_type": "markdown",
   "id": "33304408",
   "metadata": {},
   "source": [
    "<b>Exemplo 2</b>\n",
    "<br><br>\n",
    "<i>Se temos uma taxa de 0,1% a.d., qual a taxa equivalente definida ao semestre?</i>"
   ]
  },
  {
   "cell_type": "code",
   "execution_count": 12,
   "id": "986701f5",
   "metadata": {
    "ExecuteTime": {
     "end_time": "2023-05-15T22:56:23.277021Z",
     "start_time": "2023-05-15T22:56:23.266471Z"
    }
   },
   "outputs": [
    {
     "name": "stdout",
     "output_type": "stream",
     "text": [
      "Taxa ao semestre: 19.71%\n"
     ]
    }
   ],
   "source": [
    "i_d = 0.1/100 # taxa definida ao dia\n",
    "n_dia = 1 # numero de DIAS em 1 DIA\n",
    "n_semestre = 6 * 30 # numero de DIAS em 6 MESES\n",
    "\n",
    "# Aplicando as variáveis na equação (15) acima\n",
    "i_semestre = (1 + i_d)**(n_semestre / n_dia) - 1\n",
    "print(f'Taxa ao semestre: {round(i_semestre*100, 2)}%')"
   ]
  },
  {
   "cell_type": "markdown",
   "id": "9bc9a544",
   "metadata": {},
   "source": [
    "# Comparação dos regimes de capitalização\n",
    "\n",
    "Suponha que você possui um investimento com valor inicial de R$100,00 que rende 10% ao mês na capitalização simples. Quanto terá acumulado ao final de 12 meses?\n",
    "\n",
    "$$ M = 100,00 * (1 + 10\\% \\cdot 12) $$\n",
    "$$ M = 220,00 $$\n",
    "\n",
    "Veja que os juros são equivalentes a 10\\% $\\cdot$ R100,00 = 10,00 por mês. É como se tivéssemos somando 10,00 a cada um dos 12 meses de investimento, resultando portanto em 120,00 de juros totais no período.\n",
    "\n",
    "Caso seu investimento fosse capitalizado por juros compostos, pela mesma taxa, quanto teria rendido ao final do mesmo período?\n",
    "\n",
    "$$ M = 100,00 * (1 + 10\\%)^{12} $$\n",
    "$$ M = 313,84 $$\n",
    "\n",
    "Neste caso, é como se o capital fosse atualizado a cada mês com a adição dos juros recebidos. Portanto, o valor dos juros pagos a cada mês varia (e é crescente!)."
   ]
  },
  {
   "cell_type": "code",
   "execution_count": 13,
   "id": "1aa35584",
   "metadata": {
    "ExecuteTime": {
     "end_time": "2023-05-15T22:57:42.826348Z",
     "start_time": "2023-05-15T22:57:40.722678Z"
    }
   },
   "outputs": [],
   "source": [
    "import pandas as pd\n",
    "\n",
    "# Juros simples\n",
    "def calcula_juros_simples(C, taxa, prazo):\n",
    "    tabela_juros = pd.DataFrame(columns=['Juros', 'Montante'])\n",
    "    \n",
    "    for n in range(prazo + 1):\n",
    "        tabela_juros.loc[n, 'Juros'] = C*n*taxa\n",
    "        tabela_juros.loc[n, 'Montante'] = C*(1 + n*taxa)\n",
    "#     print(tabela_juros)\n",
    "\n",
    "    return tabela_juros\n",
    "\n",
    "# Juros compostos\n",
    "def calcula_juros_compostos(C, taxa, prazo):\n",
    "    tabela_juros = pd.DataFrame(columns=['Juros', 'Montante'])\n",
    "    \n",
    "    for n in range(prazo + 1):\n",
    "        tabela_juros.loc[n, 'Juros'] = C*((1 + taxa)**n - 1)\n",
    "        tabela_juros.loc[n, 'Montante'] = C*(1 + taxa)**n\n",
    "#     print(tabela_juros)\n",
    "\n",
    "    return tabela_juros"
   ]
  },
  {
   "cell_type": "code",
   "execution_count": 14,
   "id": "53b7c054",
   "metadata": {
    "ExecuteTime": {
     "end_time": "2023-05-15T22:57:47.265169Z",
     "start_time": "2023-05-15T22:57:47.168133Z"
    }
   },
   "outputs": [
    {
     "data": {
      "text/html": [
       "<div>\n",
       "<style scoped>\n",
       "    .dataframe tbody tr th:only-of-type {\n",
       "        vertical-align: middle;\n",
       "    }\n",
       "\n",
       "    .dataframe tbody tr th {\n",
       "        vertical-align: top;\n",
       "    }\n",
       "\n",
       "    .dataframe thead th {\n",
       "        text-align: right;\n",
       "    }\n",
       "</style>\n",
       "<table border=\"1\" class=\"dataframe\">\n",
       "  <thead>\n",
       "    <tr style=\"text-align: right;\">\n",
       "      <th></th>\n",
       "      <th>Juros</th>\n",
       "      <th>Montante</th>\n",
       "    </tr>\n",
       "  </thead>\n",
       "  <tbody>\n",
       "    <tr>\n",
       "      <th>0</th>\n",
       "      <td>0.0</td>\n",
       "      <td>100.0</td>\n",
       "    </tr>\n",
       "    <tr>\n",
       "      <th>1</th>\n",
       "      <td>10.0</td>\n",
       "      <td>110.0</td>\n",
       "    </tr>\n",
       "    <tr>\n",
       "      <th>2</th>\n",
       "      <td>20.0</td>\n",
       "      <td>120.0</td>\n",
       "    </tr>\n",
       "    <tr>\n",
       "      <th>3</th>\n",
       "      <td>30.0</td>\n",
       "      <td>130.0</td>\n",
       "    </tr>\n",
       "    <tr>\n",
       "      <th>4</th>\n",
       "      <td>40.0</td>\n",
       "      <td>140.0</td>\n",
       "    </tr>\n",
       "    <tr>\n",
       "      <th>5</th>\n",
       "      <td>50.0</td>\n",
       "      <td>150.0</td>\n",
       "    </tr>\n",
       "    <tr>\n",
       "      <th>6</th>\n",
       "      <td>60.0</td>\n",
       "      <td>160.0</td>\n",
       "    </tr>\n",
       "    <tr>\n",
       "      <th>7</th>\n",
       "      <td>70.0</td>\n",
       "      <td>170.0</td>\n",
       "    </tr>\n",
       "    <tr>\n",
       "      <th>8</th>\n",
       "      <td>80.0</td>\n",
       "      <td>180.0</td>\n",
       "    </tr>\n",
       "    <tr>\n",
       "      <th>9</th>\n",
       "      <td>90.0</td>\n",
       "      <td>190.0</td>\n",
       "    </tr>\n",
       "    <tr>\n",
       "      <th>10</th>\n",
       "      <td>100.0</td>\n",
       "      <td>200.0</td>\n",
       "    </tr>\n",
       "    <tr>\n",
       "      <th>11</th>\n",
       "      <td>110.0</td>\n",
       "      <td>210.0</td>\n",
       "    </tr>\n",
       "    <tr>\n",
       "      <th>12</th>\n",
       "      <td>120.0</td>\n",
       "      <td>220.0</td>\n",
       "    </tr>\n",
       "  </tbody>\n",
       "</table>\n",
       "</div>"
      ],
      "text/plain": [
       "    Juros Montante\n",
       "0     0.0    100.0\n",
       "1    10.0    110.0\n",
       "2    20.0    120.0\n",
       "3    30.0    130.0\n",
       "4    40.0    140.0\n",
       "5    50.0    150.0\n",
       "6    60.0    160.0\n",
       "7    70.0    170.0\n",
       "8    80.0    180.0\n",
       "9    90.0    190.0\n",
       "10  100.0    200.0\n",
       "11  110.0    210.0\n",
       "12  120.0    220.0"
      ]
     },
     "execution_count": 14,
     "metadata": {},
     "output_type": "execute_result"
    }
   ],
   "source": [
    "calcula_juros_simples(C=100, taxa=0.10, prazo=12)"
   ]
  },
  {
   "cell_type": "code",
   "execution_count": 15,
   "id": "668020b6",
   "metadata": {
    "ExecuteTime": {
     "end_time": "2023-05-15T22:57:53.557956Z",
     "start_time": "2023-05-15T22:57:53.515299Z"
    }
   },
   "outputs": [
    {
     "data": {
      "text/html": [
       "<div>\n",
       "<style scoped>\n",
       "    .dataframe tbody tr th:only-of-type {\n",
       "        vertical-align: middle;\n",
       "    }\n",
       "\n",
       "    .dataframe tbody tr th {\n",
       "        vertical-align: top;\n",
       "    }\n",
       "\n",
       "    .dataframe thead th {\n",
       "        text-align: right;\n",
       "    }\n",
       "</style>\n",
       "<table border=\"1\" class=\"dataframe\">\n",
       "  <thead>\n",
       "    <tr style=\"text-align: right;\">\n",
       "      <th></th>\n",
       "      <th>Juros</th>\n",
       "      <th>Montante</th>\n",
       "    </tr>\n",
       "  </thead>\n",
       "  <tbody>\n",
       "    <tr>\n",
       "      <th>0</th>\n",
       "      <td>0.0</td>\n",
       "      <td>100.0</td>\n",
       "    </tr>\n",
       "    <tr>\n",
       "      <th>1</th>\n",
       "      <td>10.0</td>\n",
       "      <td>110.0</td>\n",
       "    </tr>\n",
       "    <tr>\n",
       "      <th>2</th>\n",
       "      <td>21.0</td>\n",
       "      <td>121.0</td>\n",
       "    </tr>\n",
       "    <tr>\n",
       "      <th>3</th>\n",
       "      <td>33.1</td>\n",
       "      <td>133.1</td>\n",
       "    </tr>\n",
       "    <tr>\n",
       "      <th>4</th>\n",
       "      <td>46.41</td>\n",
       "      <td>146.41</td>\n",
       "    </tr>\n",
       "    <tr>\n",
       "      <th>5</th>\n",
       "      <td>61.051</td>\n",
       "      <td>161.051</td>\n",
       "    </tr>\n",
       "    <tr>\n",
       "      <th>6</th>\n",
       "      <td>77.1561</td>\n",
       "      <td>177.1561</td>\n",
       "    </tr>\n",
       "    <tr>\n",
       "      <th>7</th>\n",
       "      <td>94.87171</td>\n",
       "      <td>194.87171</td>\n",
       "    </tr>\n",
       "    <tr>\n",
       "      <th>8</th>\n",
       "      <td>114.358881</td>\n",
       "      <td>214.358881</td>\n",
       "    </tr>\n",
       "    <tr>\n",
       "      <th>9</th>\n",
       "      <td>135.794769</td>\n",
       "      <td>235.794769</td>\n",
       "    </tr>\n",
       "    <tr>\n",
       "      <th>10</th>\n",
       "      <td>159.374246</td>\n",
       "      <td>259.374246</td>\n",
       "    </tr>\n",
       "    <tr>\n",
       "      <th>11</th>\n",
       "      <td>185.311671</td>\n",
       "      <td>285.311671</td>\n",
       "    </tr>\n",
       "    <tr>\n",
       "      <th>12</th>\n",
       "      <td>213.842838</td>\n",
       "      <td>313.842838</td>\n",
       "    </tr>\n",
       "  </tbody>\n",
       "</table>\n",
       "</div>"
      ],
      "text/plain": [
       "         Juros    Montante\n",
       "0          0.0       100.0\n",
       "1         10.0       110.0\n",
       "2         21.0       121.0\n",
       "3         33.1       133.1\n",
       "4        46.41      146.41\n",
       "5       61.051     161.051\n",
       "6      77.1561    177.1561\n",
       "7     94.87171   194.87171\n",
       "8   114.358881  214.358881\n",
       "9   135.794769  235.794769\n",
       "10  159.374246  259.374246\n",
       "11  185.311671  285.311671\n",
       "12  213.842838  313.842838"
      ]
     },
     "execution_count": 15,
     "metadata": {},
     "output_type": "execute_result"
    }
   ],
   "source": [
    "calcula_juros_compostos(C=100, taxa=0.10, prazo=12)"
   ]
  },
  {
   "cell_type": "markdown",
   "id": "6d30bd92",
   "metadata": {},
   "source": [
    "Agora, surge uma nova dúvida: qual seria a taxa no regime simples equivalente a este rendimento de 10\\% por 12 meses no regime composto? Ou seja, qual deveria ser a taxa simples que ao final de 12 meses, você receba os mesmos R$ 313,84 acumulados?\n",
    "\n",
    "Primeiramente, precisamos calcular a taxa do período desejado de 12 meses:\n",
    "\n",
    "$$ i_{a.a.} = [(1 + 10\\%)^{ \\frac{12}{1} } - 1] \\cdot 100\\%$$\n",
    "$$ i_{a.a.} = 213,84\\% $$\n",
    "\n",
    "Por fim, podemos encontrar a taxa ao mês no regime simples que equivale a 213,84% a.a.\n",
    "\n",
    "$$ i_{a.m.} = 213,84\\% \\cdot  \\frac{1}{12} $$\n",
    "$$ i_{a.m.} = 17,82\\% $$\n",
    "\n",
    "Portanto, a taxa a.m. simples que equivale a 10% a.m. no regime composto por um período de 1 ano é: 17,82%.\n",
    "\n",
    "\n",
    "<b>Conclusão</b>: Taxas <b>iguais</b> com capitalização diferente (simples e composta) não são <b>equivalentes</b>.\n"
   ]
  },
  {
   "cell_type": "markdown",
   "id": "bf269c13",
   "metadata": {},
   "source": [
    "A seguir temos um exemplo da mesma taxa em diferentes regimes de capitalização, ao longo de diversos prazos. Neste exemplo, as taxas são equivalentes para o período de 12 meses."
   ]
  },
  {
   "cell_type": "code",
   "execution_count": 16,
   "id": "0585d417",
   "metadata": {
    "ExecuteTime": {
     "end_time": "2023-05-15T22:58:21.149654Z",
     "start_time": "2023-05-15T22:58:18.201811Z"
    }
   },
   "outputs": [
    {
     "data": {
      "image/png": "[encoded data removed]",
      "text/plain": [
       "<Figure size 1152x720 with 1 Axes>"
      ]
     },
     "metadata": {
      "needs_background": "light"
     },
     "output_type": "display_data"
    }
   ],
   "source": [
    "import matplotlib.pyplot as plt\n",
    "\n",
    "\n",
    "#fazer figura\n",
    "fig, ax = plt.subplots(1,1, figsize=(16,10) )\n",
    "calcula_juros_simples(C=100, taxa=0.10, prazo=24).reset_index().plot(kind='scatter',x='index', y='Juros', c='orange',ax=ax)\n",
    "calcula_juros_compostos(C=100, taxa=0.07, prazo=24).reset_index().plot(kind='scatter',x='index', y='Juros', c='darkblue', ax=ax)\n",
    "ax.set_xlabel('Prazo')\n",
    "plt.title('Juros Acumulados x Prazo')\n",
    "plt.show()"
   ]
  },
  {
   "cell_type": "code",
   "execution_count": 17,
   "id": "aae239b4",
   "metadata": {
    "ExecuteTime": {
     "end_time": "2023-05-15T22:58:28.939811Z",
     "start_time": "2023-05-15T22:58:28.234949Z"
    }
   },
   "outputs": [
    {
     "data": {
      "image/png": "[encoded data removed]",
      "text/plain": [
       "<Figure size 1152x720 with 1 Axes>"
      ]
     },
     "metadata": {
      "needs_background": "light"
     },
     "output_type": "display_data"
    }
   ],
   "source": [
    "#fazer figura\n",
    "fig, ax = plt.subplots(1,1, figsize=(16,10) )\n",
    "calcula_juros_simples(C=100, taxa=0.10, prazo=24).reset_index().plot(kind='scatter',x='index', y='Juros', c='orange',ax=ax)\n",
    "calcula_juros_compostos(C=100, taxa=0.10, prazo=24).reset_index().plot(kind='scatter',x='index', y='Juros', c='darkblue', ax=ax)\n",
    "ax.set_xlabel('Prazo')\n",
    "plt.title('Juros Acumulados x Prazo')\n",
    "plt.show()"
   ]
  },
  {
   "cell_type": "markdown",
   "id": "3715dfe7",
   "metadata": {},
   "source": [
    "Repare que, como temos <i>dois graus de liberdade</i>, ou seja, duas variáveis (prazo e taxa), precisamos definir uma e calcular a outra. Em outras palavras, precisamos achar a <i>taxa equivalente</i> para um <i>prazo de N meses</i>, por exemplo. O prazo será definido e aquela taxa só irá trazer a equivalência naquele prazo exato, como mostra o primeiro gráfico\n",
    "\n",
    "<b>Como converter uma taxa mensal simples para uma taxa mensal composta, de forma que elas sejam equivalentes em 12 meses (1 ano)?</b>\n",
    "\n",
    "- $i_{am}$ = taxa composta mensal\n",
    "- $i_{aa}$ = taxa composta anual\n",
    "\n",
    "- $r_{am}$ = taxa simples mensal\n",
    "- $r_{aa}$ = taxa simples anual"
   ]
  },
  {
   "cell_type": "markdown",
   "id": "c4b7341f",
   "metadata": {},
   "source": [
    "<b>1º Passo:</b> calculamos o fator composto ao ano (período de equivalência das taxas)\n",
    "\n",
    "Ex: $i_{am} = 10%, i_{aa} = ?$\n",
    "    \n",
    "Fator composto (mensal -> anual):\n",
    "\n",
    "- $(1 + i_{am})^{n_{am}} = (1 + i_{aa})^{n_{aa}}$\n",
    "- $(1 + i_{am})^{12}   = (1 + i_{aa})^1$\n",
    "- $i_{aa} = (1 + i_{am})^{12}  - 1$\n",
    "- $i_{aa} = 213%$"
   ]
  },
  {
   "cell_type": "code",
   "execution_count": 18,
   "id": "02a5c1b9",
   "metadata": {
    "ExecuteTime": {
     "end_time": "2023-05-15T22:58:50.552939Z",
     "start_time": "2023-05-15T22:58:50.541793Z"
    }
   },
   "outputs": [
    {
     "name": "stdout",
     "output_type": "stream",
     "text": [
      "213.84%\n"
     ]
    }
   ],
   "source": [
    "i_am = 10/100\n",
    "\n",
    "i_aa = (1 + i_am)**12 - 1\n",
    "print(f'{round(i_aa*100, 2)}%')"
   ]
  },
  {
   "cell_type": "markdown",
   "id": "dce5f5ef",
   "metadata": {},
   "source": [
    "- <b>2º Passo:</b> igualamos o fator anual composto com o simples\n",
    "- $(1 + i_{aa})^{n_{aa}} = (1 + r_{aa}*n_{aa})$\n",
    "- $(1 + i_{aa})^1    = (1 + r_{aa}*1)$\n",
    "- $(1 + i_{aa})      = (1 + r_{aa})$\n",
    "- $r_{aa} = i_{aa}$\n",
    "\n",
    "Obs: veja que as taxas no período equivalente (neste exemplo de 12 meses) são iguais\n",
    "\n",
    "Ex: $r_{aa} = i_{aa} = 213%$"
   ]
  },
  {
   "cell_type": "code",
   "execution_count": 19,
   "id": "55667852",
   "metadata": {
    "ExecuteTime": {
     "end_time": "2023-05-15T22:59:03.858852Z",
     "start_time": "2023-05-15T22:59:03.850308Z"
    }
   },
   "outputs": [],
   "source": [
    "r_aa = i_aa"
   ]
  },
  {
   "cell_type": "markdown",
   "id": "0db4de93",
   "metadata": {},
   "source": [
    "- <b>3º Passo:</b> convertemos a taxa simples anual para mensal\n",
    "<br>\n",
    "Ex: $r_{aa} = 213%, i_{am} = ?$\n",
    "\n",
    "- $(1 + r_{aa}^{n_{aa}}) = (1 + r_{am}^{n_{am}})$\n",
    "- $(1 + r_{aa}^{1}   ) = (1 + r_{am}^{12})$\n",
    "- $r_{am} = r_{aa}^{\\frac{1}{12}}$\n",
    "- $r_{am} = 17,82 \\%$"
   ]
  },
  {
   "cell_type": "code",
   "execution_count": 20,
   "id": "065f41e2",
   "metadata": {
    "ExecuteTime": {
     "end_time": "2023-05-15T22:59:18.620402Z",
     "start_time": "2023-05-15T22:59:18.611314Z"
    }
   },
   "outputs": [
    {
     "name": "stdout",
     "output_type": "stream",
     "text": [
      "17.82%\n"
     ]
    }
   ],
   "source": [
    "r_am = r_aa / 12\n",
    "print(f'{round(r_am*100, 2)}%')"
   ]
  },
  {
   "cell_type": "code",
   "execution_count": 21,
   "id": "e9fe1d30",
   "metadata": {
    "ExecuteTime": {
     "end_time": "2023-05-15T22:59:23.348805Z",
     "start_time": "2023-05-15T22:59:23.334669Z"
    }
   },
   "outputs": [
    {
     "name": "stdout",
     "output_type": "stream",
     "text": [
      "Valor futuro calculado via juros compostos: R$3138.43\n",
      "Valor futuro calculado via juros simples: R$3138.43\n"
     ]
    }
   ],
   "source": [
    "# Testando os valores calculados\n",
    "VP = 1000\n",
    "\n",
    "VF_c = VP * (1 + i_am)**12\n",
    "print(f'Valor futuro calculado via juros compostos: R${round(VF_c, 2)}')\n",
    "\n",
    "VF_s = VP * (1 + r_am * 12)\n",
    "print(f'Valor futuro calculado via juros simples: R${round(VF_s, 2)}')"
   ]
  },
  {
   "cell_type": "markdown",
   "id": "37e1292a",
   "metadata": {},
   "source": [
    "# Taxas contínuas\n",
    "\n",
    "Há uma terceira forma de capitalizar juros utilizando taxas contínuas. Este formato de taxas é utilizado em diveros modelos de apreçamento de produtos financeiros (que veremos nas próximas aulas), devido às vantagens das propriedades matemáticas do exponencial.\n",
    "\n",
    "A taxa contínua utiliza a premissa de que os juros são capitalizados de forma constante no tempo e são mensuradas pela expressão exponencial:\n",
    "\n",
    "$$ e^{r \\cdot t} = exp(r \\cdot t)$$\n",
    "\n",
    "Onde:\n",
    "\n",
    "- $e$ = número neperiano (ou exponencial)\n",
    "- $r$ = taxa contínua ao período\n",
    "- $t$ = período\n",
    "\n",
    "Comparando o fator de atualização do regime composto com o contínuo, temos:\n",
    "\n",
    "$$ (1 + i)^n = e^{r \\cdot t} $$\n",
    "\n",
    "Obs: $t$ e $n$ representam o prazo de capitalização, mas podem estar em períodos distintos. Por exmeplo: $i$ e $n$ definidos ao mês, enquanto $r$ e $t$ definidos ao ano.\n",
    "\n",
    "A partir da relação dos fatores acima, podemos calcular as taxas equivalentes:\n",
    "\n",
    "$$ ln(1 + i)^n = ln(e^{r \\cdot t}) $$\n",
    "$$ n \\cdot ln(1 + i) = r \\cdot t $$\n",
    "\n",
    "Supondo que ambas taxas e prazos sejama definidas no mesmo período, temos que $n$ = $t$ e:\n",
    "\n",
    "$$ r = ln(1 + i) $$\n",
    "\n",
    "E \n",
    "$$ e^r = 1 + i $$\n",
    "$$ i = e^r - 1 $$\n",
    "\n",
    "<b><i>Apesar de estar em último lugar, a taxa com composição contínua é a mais importante no universo de finanças quantitativas, pois em geral o modelos de apreçamento de ativos e derivativos partem da premissa de continuidade. Continuidade aqui sendo o conceito matemático de função contínua, ou seja, a taxa existe para todos os pontos da reta real. Desta forma, precisamos criar familiaridade com este tipo de composição para pode trabalhar com modelos mais rebuscados mais para frente.</i></b>"
   ]
  },
  {
   "cell_type": "markdown",
   "id": "ed9e104e",
   "metadata": {},
   "source": [
    "# Referências\n",
    "\n",
    "- NETO ASSAF, Alexandre. Matemática Financeira e suas Aplicações, Editora Atlas, 12ª edição, 2012.\n",
    "- Menezes, Marcio de. Matemática Financeira .IesdeBrasil, 2009.\n",
    "\n",
    "\n",
    "## Bibliotecas para Juros\n",
    "\n",
    "### Excel\n",
    "\n",
    "[Referência Microsoft](https://support.microsoft.com/pt-br/office/fun%C3%A7%C3%B5es-financeiras-refer%C3%AAncia-5658d81e-6035-4f24-89c1-fbf124c2b1d8)\n",
    "\n",
    "Principais funções:\n",
    "- VF(taxa,nper,pgto,[vp],[tipo]), calcula o valor futuro de um investimento com base em uma taxa de juros constante\n",
    "- VP(taxa, nper, pgto, [vf], [tipo]), calcula o valor presente de um empréstimo ou investimento com base em uma taxa de juros constante.\n",
    "- Taxa (nper, pgto, VP, [vf], [tipo], [suposição]), retorna a taxa de juros por período de anuidade\n",
    "- PGTO(taxa, nper, va, [vf], [tipo]), calcula o pagamento de um empréstimo de acordo com pagamentos constantes e com uma taxa de juros constante.\n",
    "- DURAÇÃOP(taxa, va, vf), retorna o número de períodos necessários para um investimento alcançar um valor especificado.\n",
    "\n",
    "### Python\n",
    "\n",
    "[Numpy Financial](https://numpy.org/numpy-financial/latest/)\n",
    "\n",
    "Principais funções:\n",
    "\n",
    "- fv(rate, nper, pmt, pv[, when]) Compute the future value.\n",
    "- ipmt(rate, per, nper, pv[, fv, when]) Compute the interest portion of a payment.\n",
    "- irr(values) Return the Internal Rate of Return (IRR).\n",
    "- mirr(values, finance_rate, reinvest_rate) Modified internal rate of return.\n",
    "- nper(rate, pmt, pv[, fv, when]) Compute the number of periodic payments.\n",
    "- npv(rate, values) Returns the NPV (Net Present Value) of a cash flow series.\n",
    "-  pmt(rate, nper, pv[, fv, when]) Compute the payment against loan principal plus interest.\n",
    "-  ppmt(rate, per, nper, pv[, fv, when]) Compute the payment against loan principal.\n",
    "- pv(rate, nper, pmt[, fv, when]) Compute the present value.\n",
    "- rate(nper, pmt, pv, fv[, when, guess, tol, …]) Compute the rate of interest per period."
   ]
  }
 ],
 "metadata": {
  "kernelspec": {
   "display_name": "Python 3 (ipykernel)",
   "language": "python",
   "name": "python3"
  },
  "language_info": {
   "codemirror_mode": {
    "name": "ipython",
    "version": 3
   },
   "file_extension": ".py",
   "mimetype": "text/x-python",
   "name": "python",
   "nbconvert_exporter": "python",
   "pygments_lexer": "ipython3",
   "version": "3.10.2"
  },
  "latex_envs": {
   "LaTeX_envs_menu_present": true,
   "autoclose": false,
   "autocomplete": true,
   "bibliofile": "biblio.bib",
   "cite_by": "apalike",
   "current_citInitial": 1,
   "eqLabelWithNumbers": true,
   "eqNumInitial": 1,
   "hotkeys": {
    "equation": "Ctrl-E",
    "itemize": "Ctrl-I"
   },
   "labels_anchors": false,
   "latex_user_defs": false,
   "report_style_numbering": false,
   "user_envs_cfg": false
  },
  "toc": {
   "base_numbering": 1,
   "nav_menu": {},
   "number_sections": true,
   "sideBar": true,
   "skip_h1_title": false,
   "title_cell": "Table of Contents",
   "title_sidebar": "Contents",
   "toc_cell": false,
   "toc_position": {},
   "toc_section_display": true,
   "toc_window_display": false
  },
  "varInspector": {
   "cols": {
    "lenName": 16,
    "lenType": 16,
    "lenVar": 40
   },
   "kernels_config": {
    "python": {
     "delete_cmd_postfix": "",
     "delete_cmd_prefix": "del ",
     "library": "var_list.py",
     "varRefreshCmd": "print(var_dic_list())"
    },
    "r": {
     "delete_cmd_postfix": ") ",
     "delete_cmd_prefix": "rm(",
     "library": "var_list.r",
     "varRefreshCmd": "cat(var_dic_list()) "
    }
   },
   "types_to_exclude": [
    "module",
    "function",
    "builtin_function_or_method",
    "instance",
    "_Feature"
   ],
   "window_display": false
  }
 },
 "nbformat": 4,
 "nbformat_minor": 5
}
