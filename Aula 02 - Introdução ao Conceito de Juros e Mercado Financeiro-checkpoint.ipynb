{
 "cells": [
  {
   "cell_type": "markdown",
   "id": "837565c7",
   "metadata": {},
   "source": [
    "# O Curso\n",
    "\n",
    "A ementa do curso foi desenhada e montada para termos o maior aproveitamento por parte do aluno, independente da sua base prévia de conhecimentos do mercado financeiro. O objetivo deste primeiro curso é introduzir os conceitos mais básicos sobre <b>finanças quantitativas</b>, que formarão a base dos conceitos usados em técnicas, modelos e estudos mais avançados. Aqui, abordaremos os seguintes tópicos:\n",
    "\n",
    "- <i>Aula 1: Introdução, Juros e Inflação</i>\n",
    "    - O objetivo desta aula é apresentar os conceitos de juros simples e juros compostos, suas diferenças e aplicações, assim como a formulação matemática que nos permite converter as diversas formas de juros em uma medida equivalente.\n",
    "    \n",
    "- <b><i>Aula 2: Introdução, Juros e Inflação</i></b>\n",
    "    - <b>O objetivo desta aula é apresentar os conceitos de inflação e taxa de desconto, para que o aluno seja capaz de avaliar o juro real pago por um investimento.</b>\n",
    "    \n",
    "- <i>Aula 3: ETTJ, Duration/Convexidade e Produtos de Renda Fixa</i>\n",
    "    - O objetivo desta aula é compreender o que é uma Estrutura a Termo de Taxas de Juros (ETTJ) e qual a sua finalidade principal no mercado financeiro.\n",
    "    \n",
    "- <i>Aula 4: ETTJ, Duration/Convexidade e Produtos de Renda Fixa</i>\n",
    "    - O objetivo desta aula é aprendermos as técnicas utilizadas para montarmos uma ETTJ com os insumos disponíveis no mercado.\n",
    "    \n",
    "- <i>Aula 5: ETTJ, Duration/Convexidade e Produtos de Renda Fixa</i>\n",
    "    - O objetivo desta aula é entender o conceito de <i>duration</i> e convexidade. Neste contexto, vamos aprender o que são estes conceitos e como calculamos eles no mercado.\n",
    "    \n",
    "- <i>Aula 6: ETTJ, Duration/Convexidade e Produtos de Renda Fixa</i>\n",
    "    - O objetivo desta aula é continuarmos explorando o conceito de duration e convexidade, mas em um cotnexto de exemplo prático. Vamos simular a aplicação deste conceito em uma tesouraria de banco, por exemplo (ALM).\n",
    "    \n",
    "- <i>Aula 7: Risco, Retorno e Métricas de Risco</i>\n",
    "    - O objetivo desta aula é entender o que significa, no contexto do Mercado Financeiro, o <i>risco</i> e o <i>retorno</i> que precisamos, tanto para gestão de risco de uma carteira, quanto para uma alocação correta dentro de um dado perfil de risco de uma carteira.\n",
    "    \n",
    "- <i>Aula 8: Risco, Retorno e Métricas de Risco</i>\n",
    "    - O objetivo desta aula é compreender os conceitos de <i>VaR</i> (<i>Value at Risk</i>) e <i>ES</i> (<i>Expected Shortfall</i>), que são duas métricas de risco clássicas e muito utilizadas na gestão de carteiras. Inclusive, estas métricas têm um caráter regulatório para bancos.\n",
    "    \n",
    "- <i>Aula 9: Risco, Retorno e Métricas de Risco</i>\n",
    "    - O objetivo desta aula é compreendermos a ideia de quebrar um produto - ou uma carteira - em <i>Fatores de Risco</i>. Também veremos o conceito de <i>Gregas</i>, porém sem um grande aprofundamento matemático, pois antes precisaríamos entender a matemática por trás dos <i>derivativos</i> - tal como a equação de <i>Black & Scholes.</i>\n",
    "    \n",
    "- <i>Aula 10: Projeto Final - Precificando uma NTN-F</i>\n",
    "    - O objetivo desta aula é utilizar os diversos conceitos passados durante o módulo para precificarmos uma NTN-F."
   ]
  },
  {
   "cell_type": "markdown",
   "id": "5dd411f7",
   "metadata": {},
   "source": [
    "# Inflação\n",
    "\n",
    "O conceito de inflação precisa estar claro para todos, para que a sua influência na economia como um toda possa ser compreendida. Este fenômeno é bastante comum em países subdesenvolvidos, como o Brasil, portanto muitas das análises de investimento levam em consideração a influência deste efeito nas decisões finais de alocação.\n",
    "\n",
    "## Dinâmica e Definição\n",
    "\n",
    "É importante que se entenda a relação entre o volume de moedas na economia e a oferta de bens e serviços e, além disso, como que esses fatores são influenciados pelas políticas monetárias supracitadas. A economia procura sempre manter um equilíbrio através principalmente do volume de moedas disponível e a oferta de bens e serviços. Se a disponibilidade de moeda em poder das pessoas se elevar, esse aumento provoca uma maior disposição dos agentes para consumir, forçando um equilíbrio da economia pela alta dos preços.\n",
    "\n",
    "Ao não se estabelecer um acréscimo na oferta de bens e serviços para atender ao crescimento da demanda (equilíbrio entre oferta e procura), o excesso de consumo pode causar falta de bens suficientes para atender a maior demanda. Nesse ponto, os preços tendem a se elevar, forçando também uma alta nos índices gerais de preços da economia: os consumidores irão dispender mais recursos para adquirir a mesma quantidade de bens e serviços. Esse é o fenômeno da **inflação**, entendida como uma elevação persistente nos preços da ampla maioria dos bens e serviços, fazendo subir os índices gerais de preços da economia. A taxa de inflação representa o aumento percentual verificado nos níveis gerais de preços.\n",
    "\n",
    "O fenômeno inverso à inflação é a **deflação**, que surge em caso de queda nos índices gerais de preços da economia. Esse fenômeno ocorre geralmente quando a oferta de bens e serviços for superior à demanda. Nesse caso, produtores/vendedores são forçados a reduzir os preços apra atrair os consumidores e reduzir o excesso de oferta.\n",
    "\n",
    "No caso da deflação, os agentes dispendem menos dinheiro para adquirir a mesma quantidade de bens e serviços na economia.\n",
    "\n",
    "No contexto de **inflação** os consumidores perdem poder de compra. Diante de uma alta generalizada dos preços, um número menor de pessoas estará em condições de manter seu padrão de consumo, consumindo um volume menor de bens e serviços. Em situação de **deflação** o produtor/vendedor perde margem de lucro, pois é forçado a oferecer seus produtos a um preço menor.\n",
    "\n",
    "A estabilidade da economia passa necessariamente pelo equilíbrio entre o volume disponível de moeda em poder das pessoas e a oferta de bens e serviços. Um excesso de dinheiro em circulação na economia gerado por uma emissão exagerada de papel-moeda para cobrir os gastos da União, sem a consequente geração de riqueza e aumento da oferta de bens e serviços, é a causa mais provável de inflação. O controle das variações nos índices gerais de preços é processado, principalmente pela adoção de políticas econômicas e atuação do Banco Central - como vimos acima.\n",
    "\n",
    "## Índices de Preços - Indicadores da Inflação\n",
    "\n",
    "Cada economia mede sua inlfação através de um índice geral de preços, que acompanha as variações de preços de um grupo selecionado de bens e serviços (chamado de *cesta*), e seguindo uma determinada metodologia de apuração. Nesse caso, a taxa de inflação é reconhecida como o percentual médio de aumento dos preços dessa cesta selecionada de bens e serviços em certo período.\n",
    "\n",
    "No Brasil, entre outros, são divulgados e utilizados pelo mercado os seguintes índices de preços: IGP-M/FGV (Índice Geral de Preços do Mercado), IGP-Di/FGV (Índice Geral de Preços - Disponibilidade Interna), IPC-Fipe/USP (Índice de Preços ao Consumidor), IPA/FGV (Índice de Preços por Atacado), INPC/Fundação IBGE (Índice Nacional de Preços ao Consumidor) etc.\n",
    "\n",
    "Vamos definir estes índices um pouco mais detalhadamente:\n",
    "\n",
    "- **IGP - *Índice Geral de Preços*:** É publicado todo mês pela *Fundação Getulio Vargas*, é uma medida da inflação brasileira. Apesar de ser bastante utilizado no mercado financeiro, o *IGP* não é a medida oficial da inflação no Brasil. O índice que mede a inflação brasileira é o *IPCA* - *Índice de Preços ao Consumidor Ampliado*. O *IGP* é uma medida ponderada do *IPA*, do *IPC* e do *INCC* (*Índice Nacional de Preços da Contrução Civil*). Este índice ainda se subdivide em três versões;\n",
    "\n",
    "- **IGP-DI:** Abrange as variações de preços verificadas entre o primeiro e o último dia do mês de referência;\n",
    "\n",
    "- **IGP-M:** Abrange as variações de preços verificadas entre o dia 21 do mês anterior ao de referência e o dia 20 do mês de referência;\n",
    "\n",
    "- **IGP-10:** Abrange as avriações de preços verificadas entre o dia 11 do mês anterior ao de referência e o dia 10 do mês de referência;\n",
    "\n",
    "- **IPC - *Índice de Preços ao Consumidor*:** Reflete a variação média de preços de um conjunto de bens e serviços no mercado de varejo. É publicado pela *FGV* e também pela *FIPE* (*FUndação Instituto de Pesquisas Econômicas/USP*);\n",
    "\n",
    "- **INPC e IPCA:** São apurados todo mês pelo *IBGE*. Estes dois índices medem a variação de preços de um conjunto de produtos e serviços consumidos pelas famílias. Comparam os preços verificados nos 30 dias do período de referência com os 30 dias do período-base. A população-objeto do *INPC* são famílias com rendimentos menais entre 1 e 8 salários-mínimos. O *IPCA* considera em sua metodologia de cálculo famílias com rendimentos mensais entre 1 e 40 salários-mínimos.\n",
    "\n",
    "Como podemos ver, o Brasil é um país que adora medir sua iflação em vários nichos e públicos distintos. Nos *USA* temos um indicador de inflação - o *CPI* (*Consumer Price Index*).\n",
    "\n",
    "Cada um destes índices têm uma importância diferente para a economia brasileira.\n",
    "\n",
    "O crescimento da economia e a inflação não devem seguir a mesma tendência, sob pena de provocar desequilíbrio na atividade econômica. Os investidores internacionais (bancos, fundos de pensão e fundos de investimentos, empresas multinacionais etc.) priorizam países que apresentam estáveis indicativos de crescimento econômico e baixos níveis de inflação.\n",
    "\n",
    "Em uma visão mais clássica, a inflação pode ser causada pelo lado dos custos, pelo lado da demanda, ou por uma conjugaçãod esses dois fatores. A **inflação de custos** é um processo de elevação das taxas de juros, salários, câmbio etc. que determina um acréscimo nos custos de produção. A **inflação de demanda**, por outro lado, é determinada pela expansão dos meios de pagamento acima da capacidade de crescimento apresentada pela economia, produzindo um excesso de recursos (rendimentos) em oferta na economia. Diante de maior pressão sobre a demanda de bens e serviços, ocorrem aumentos nos salários e preços em geral, dando origem a um processo inflacionário.\n",
    "\n",
    "Em geral, quando uma economia dá sinais de elevação de seus índices gerais de preços, as autoridades monetárias atuam sobre a atividade econômica de forma a manter o equilíbrio dos preços. Essa atuação sobre a economia é feita geralmente pelo aumento dos juros, tornando mais oneroso e desencorajadores todos os gastos de empresas e consumidores e provocando desaceleração da economia.\n",
    "\n",
    "Para o combate à inflação, as autoridades monetárias podem também decretar intervenções sobre o câmbio e controles sobre os preços e salários, reduzindo a capacidade de negociação (*barganha*) de certos agentes, como sindicatoes e grandes empresas.\n",
    "\n",
    "## Curiosidade - A Crise de 2008\n",
    "\n",
    "A título de curiosidade, vamos ver como a Crise do <i>Subprime</i> (Crise de 2008) afetou o Brasil e seus indicadores econômicos.\n",
    "\n",
    "<b><i>Timeline</i> da Crise:</b>\n",
    "\n",
    "- **Janeiro/2007:** Atingido pela crise, o *Countrywide Home Loans*, instituição financeira do setor de imóveis, é adquirido pelo *Bank of America*;\n",
    "\n",
    "- **Fevereiro/2007:** O Governo da Inglaterra nacionaliza o Banco *Northen Rock*;\n",
    "\n",
    "- **Março/2007:** O *JP Morgan* adquire, com a ajuda do Banco Central americano (*FED*), o Banco de Investimento *Bear Sterns*;\n",
    "\n",
    "- **Setembro/2007:** O Tesouro dos *USA* assume o controle das empresas de hipoteca *Freddie Mac* e *Fannie Mae*;\n",
    "\n",
    "- **Setembro/2008:** O Banco de Investimento *Merril Lynch* é vendido com urgência para o *Bank of America*;\n",
    "\n",
    "- **Setembro/2008:** O Governo dos *USA* nacionaliza a seguradora *American International Group* (*AIG*);\n",
    "\n",
    "- **Setembro/2008:** O *JP Morgan* compra, com a ajuda do Governo, o *Washington Mutual*;\n",
    "\n",
    "- **Setembro/2008:** O Banco *Bradford & Bingley* é estatizado na Grã-Bretanha;\n",
    "\n",
    "- **Outubro/2008:** O *Wells Fargo* adquire o Banco *Wachovia*;\n",
    "\n",
    "- **Outubro/2008:** O Congresso dos *USA* aprova pacote de socorro financeiro às instituições financeiras no montante de US\\$ 700 bilhões;\n",
    "\n",
    "- **Outubro/2008:** Os Bancos Centrais dos *USA*, Europa e Inglaterra, em ação coordenada decidem cortar as taxas de juros visando conter a desaceleração da economia.\n",
    "\n",
    "Mas e no Brasil? O que aconteceu?\n",
    "\n",
    "Para o Brasil podemos apontar as principais consequências da crise:\n",
    "\n",
    "- Falta de crédito. Com a crise internacional, os bancos, em todo o mundo, tornaram-se mais cautelosos, diminuindo o volume de empréstimos e elevando as taxs de juros cobradas. Essa situação pode itnerferir na capacidade de crescimento das empresas brasileiras e, também, nas empresas estrangeiras que planejam investir no Brasil;\n",
    "\n",
    "- As Bolsas de Valores sofreram fortes quedas no ano de 2008 e elevado bastante sua volatilidade. A desvalorização das ações afeta os investidores pela formação de perdas e, também, as empresas em sua busca de fontes de financiamento;\n",
    "\n",
    "- A valorização verificada no Dólar americano em relação ao Real brasileiro promove um encarecimento das importações, podendo alimentar a inflação na economia. Por outro lado, a queda do Real diante do Dólar traz benefícios aos exportadores, tornando nossos produtos mais competitivos em preços.\n",
    "\n",
    "<hr>\n",
    "\n",
    "[*Curiosidade*](https://www.cnnbrasil.com.br/business/em-quanto-tempo-a-bolsa-se-recuperara-na-crise-de-2008-demorou-2307-dias/#:~:text=Na%20crise%20de%202008%2C%20demorou%202.307%20dias,-Bolsa%20despencou%2040&text=O%20tombo%20do%20Ibovespa%2C%20principal,Paulo%2C%20continua%20assustando%20os%20investidores.&text=Outras%20crises%2C%20por%C3%A9m%2C%20evidenciam%20que,se%20recupera%20com%20o%20tempo.)\n",
    "\n",
    "[*Referência inflação*](https://www.ibge.gov.br/explica/inflacao.php)\n",
    "\n",
    "[*Histórico IPCA*](https://www.idinheiro.com.br/tabelas/tabela-ipca/)\n",
    "\n",
    "[*Histórico IPCA download*](https://www.ibge.gov.br/estatisticas/economicas/precos-e-custos/9256-indice-nacional-de-precos-ao-consumidor-amplo.html?t=series-historicas&utm_source=landing&utm_medium=explica&utm_campaign=inflacao#plano-real-mes)\n",
    "\n",
    "<hr>"
   ]
  },
  {
   "cell_type": "markdown",
   "id": "0fbb033e",
   "metadata": {},
   "source": [
    "# Taxa Nominal e Taxa Efetiva\n",
    "\n",
    "A taxa real representa o encargo (ou receita) financeiro, calculado livre dos efeitos inflacionários. A utilização de taxas reais no mercado financeiro permite que se apure quanto se ganhou (ou perdeu) verdadeiramente, sem a interferência das variações verificadas nos preços.\n",
    "\n",
    "A conhecida formulação de *Fischer* permite que se apurem de uma taxa de juros os efeitos da inflação, sendo obtida pela relação:\n",
    "\n",
    "$$i_{efetiva} = [(1 + i_{real}) \\cdot (1 + i_{Inflação})] - 1$$\n",
    "\n",
    "Onde:\n",
    "\n",
    "- $i_{efetiva}$: Taxa efetiva de juros que incorpora uma expectativa de inflação (ou taxa operante);\n",
    "\n",
    "- $i_{real}$: Taxa real de juros, depurada dos efeitos inflacionários;\n",
    "\n",
    "- $i_{inflação}$: Taxa de inflação, considerada por um índice de preços.\n",
    "\n",
    "Em outras palavras.\n",
    "\n",
    "A **taxa nominal** de juros contempla os efeitos da inflação. Ela representa o valor que será pago ao final do período analisado.\n",
    "\n",
    "Em contratos como empréstimos, ela é calculada levando em consideração, além da inflação, o *spread* comercial da operação e o risco de crédito do tomador.\n",
    "\n",
    "A **taxa real** de juros não tem o efeito inflacionário, por isso ela tende a ser menor que a taxa nominal. Ela representa o quanto de fato será valorizado acima da inflação.\n",
    "\n",
    "A taxa de inflação pode ser dada pela diferença entre as taxas de juros real e nominal.\n",
    "\n",
    "$$(1 + i_N) = (1 + i_{Infl}) \\cdot (1 + i_R)$$\n",
    "\n",
    "Sendo:\n",
    "\n",
    "- $i_N$ = taxa nominal\n",
    "- $i_{Infl}$ = taxa de inflação\n",
    "- $i_R$ = taxa real"
   ]
  },
  {
   "cell_type": "markdown",
   "id": "664b5c61",
   "metadata": {},
   "source": [
    "<b>Exemplo 1</b>\n",
    "<br><br>\n",
    "<i>Sabe-se que o custo de um empréstimo em dólar atinge, em determinado período, 15% ao ano mais variação cambial. A taxa cobrada de 15% é definida como <b>real</b>, sendo obtida acima da variação cambial do período. Ao se admitir em 8,5% a desvalorização da moeda nacional em relação ao dólar no período da operação, chega-se a um custo efetivo total igual a quanto?</i>"
   ]
  },
  {
   "cell_type": "code",
   "execution_count": 1,
   "id": "7613eeba",
   "metadata": {
    "ExecuteTime": {
     "end_time": "2023-05-15T23:19:10.361843Z",
     "start_time": "2023-05-15T23:19:10.334631Z"
    }
   },
   "outputs": [
    {
     "name": "stdout",
     "output_type": "stream",
     "text": [
      "Taxa efetiva: 24.77%\n"
     ]
    }
   ],
   "source": [
    "i_real = 15/100\n",
    "i_desv = 8.5/100\n",
    "\n",
    "i_efe = ((1 + i_real) * (1 + i_desv)) - 1\n",
    "print(f'Taxa efetiva: {round(i_efe*100, 2)}%')"
   ]
  },
  {
   "cell_type": "markdown",
   "id": "be5fe3a7",
   "metadata": {},
   "source": [
    "Essa taxa encontrada incorpora a taxa real de 15% a.a. mais a variação cambial do período, sendo denominada também de taxa <i>prefixada</i>. Vale a pena observarmos que a taxa efetiva não é a simples soma da taxa real mais a taxa de inflação; representa, mais adequadamente, a capitalização exponencial dessas duas taxas.\n",
    "\n",
    "Por meio da expressão de <i>Fischer</i> é possível deduzir-se a taxa real, isto é:\n",
    "\n",
    "$$i_{real} = \\frac{1 + i_{efetiva}}{1 + i_{inflação}} - 1$$\n",
    "\n",
    "Os dados do exemplo acima indicam que a taxa nominal (aparente) é de XX%, calculada a partir de uma taxa real de juros de 15% e de variação cambial de 8,5%. Por outro lado, se a variação cambial não seguir a inflação da economia, a taxa real (líquida da inflação) apurada é outra, retratando a diferente taxa de inflação."
   ]
  },
  {
   "cell_type": "markdown",
   "id": "df4b172d",
   "metadata": {},
   "source": [
    "<b>Exemplo 2</b>\n",
    "<br><br>\n",
    "<i>Desta forma, ao se admitir uma inflação de 10% no período da operação, taxa superior aos 8,5% de variação cambial, a taxa real do empréstimo pela inflação é menor. Quanto seria essa taxa?</i>"
   ]
  },
  {
   "cell_type": "code",
   "execution_count": 2,
   "id": "6190e51c",
   "metadata": {
    "ExecuteTime": {
     "end_time": "2023-05-15T23:20:19.736762Z",
     "start_time": "2023-05-15T23:20:19.721582Z"
    }
   },
   "outputs": [
    {
     "name": "stdout",
     "output_type": "stream",
     "text": [
      "Taxa real: 13.43%\n"
     ]
    }
   ],
   "source": [
    "i_inf = 10/100\n",
    "i_real = ((1+i_efe) / (1+i_inf) - 1)\n",
    "print(f'Taxa real: {round(i_real*100, 2)}%')"
   ]
  },
  {
   "cell_type": "markdown",
   "id": "60adc5c9",
   "metadata": {},
   "source": [
    "<b>Exemplo 3</b>\n",
    "<br><br>\n",
    "<i>Um CDB pagou uma taxa efetiva de juros de 2,2% em determinado mês. Sabendo-se que a inflação do período atingiu 0,9%, determinar a rentabilidade real oferecida por esse título.</i>"
   ]
  },
  {
   "cell_type": "code",
   "execution_count": 3,
   "id": "d6af6fd3",
   "metadata": {
    "ExecuteTime": {
     "end_time": "2023-05-15T23:20:53.171159Z",
     "start_time": "2023-05-15T23:20:53.162375Z"
    }
   },
   "outputs": [
    {
     "name": "stdout",
     "output_type": "stream",
     "text": [
      "Taxa real: 1.29%\n"
     ]
    }
   ],
   "source": [
    "i_efetiva = 2.2/100\n",
    "i_inf = 0.9/100\n",
    "\n",
    "i_real = ((1 + i_efetiva) / (1 + i_inf) - 1)\n",
    "print(f'Taxa real: {round(i_real*100, 2)}%')"
   ]
  },
  {
   "cell_type": "markdown",
   "id": "f8b44170",
   "metadata": {},
   "source": [
    "<b>Exemplo 4</b>\n",
    "<br><br>\n",
    "<i>Imagine que você investiu R$ 100 mil a uma taxa de 10%, por um ano. Nesse período a inflação foi de 5%\n",
    "Dá para dizer que você ficou 10% mais rico?*</i>"
   ]
  },
  {
   "cell_type": "code",
   "execution_count": 4,
   "id": "795df555",
   "metadata": {
    "ExecuteTime": {
     "end_time": "2023-05-15T23:21:20.902353Z",
     "start_time": "2023-05-15T23:21:20.893446Z"
    }
   },
   "outputs": [
    {
     "name": "stdout",
     "output_type": "stream",
     "text": [
      "4.76% de taxa real\n"
     ]
    }
   ],
   "source": [
    "i_real = (1+0.10)/(1+0.05) - 1\n",
    "print(f\"{100*i_real:.2f}% de taxa real\")"
   ]
  },
  {
   "cell_type": "markdown",
   "id": "fe8139e5",
   "metadata": {},
   "source": [
    "<b>Exemplo ilustrativo - Ganho real de uma aplicação financeira</b>\n",
    "\n",
    "Se um investimento prometer pagar uma taxa de juros nominal (aparente), o retorno fica diretamente dependente da inflação esperada. Quanto <i>maior</i> for a inflação, <i>menor</i> o retorno real auferido pelo aplicador.\n",
    "\n",
    "Por exemplo, se um título prometer uma remuneração nominal (aparente) de 10% a.a., tem-se os seguintes retornos reais para diferentes taxas de inflação:"
   ]
  },
  {
   "cell_type": "code",
   "execution_count": 5,
   "id": "c4322ac5",
   "metadata": {
    "ExecuteTime": {
     "end_time": "2023-05-15T23:21:58.053850Z",
     "start_time": "2023-05-15T23:21:56.559409Z"
    }
   },
   "outputs": [
    {
     "data": {
      "text/html": [
       "<div>\n",
       "<style scoped>\n",
       "    .dataframe tbody tr th:only-of-type {\n",
       "        vertical-align: middle;\n",
       "    }\n",
       "\n",
       "    .dataframe tbody tr th {\n",
       "        vertical-align: top;\n",
       "    }\n",
       "\n",
       "    .dataframe thead th {\n",
       "        text-align: right;\n",
       "    }\n",
       "</style>\n",
       "<table border=\"1\" class=\"dataframe\">\n",
       "  <thead>\n",
       "    <tr style=\"text-align: right;\">\n",
       "      <th></th>\n",
       "      <th>Inflação</th>\n",
       "      <th>Taxa Real</th>\n",
       "    </tr>\n",
       "  </thead>\n",
       "  <tbody>\n",
       "    <tr>\n",
       "      <th>0</th>\n",
       "      <td>3</td>\n",
       "      <td>6.80</td>\n",
       "    </tr>\n",
       "    <tr>\n",
       "      <th>1</th>\n",
       "      <td>4</td>\n",
       "      <td>5.77</td>\n",
       "    </tr>\n",
       "    <tr>\n",
       "      <th>2</th>\n",
       "      <td>5</td>\n",
       "      <td>4.76</td>\n",
       "    </tr>\n",
       "    <tr>\n",
       "      <th>3</th>\n",
       "      <td>6</td>\n",
       "      <td>3.77</td>\n",
       "    </tr>\n",
       "    <tr>\n",
       "      <th>4</th>\n",
       "      <td>7</td>\n",
       "      <td>2.80</td>\n",
       "    </tr>\n",
       "    <tr>\n",
       "      <th>5</th>\n",
       "      <td>8</td>\n",
       "      <td>1.85</td>\n",
       "    </tr>\n",
       "    <tr>\n",
       "      <th>6</th>\n",
       "      <td>9</td>\n",
       "      <td>0.92</td>\n",
       "    </tr>\n",
       "    <tr>\n",
       "      <th>7</th>\n",
       "      <td>10</td>\n",
       "      <td>0.00</td>\n",
       "    </tr>\n",
       "    <tr>\n",
       "      <th>8</th>\n",
       "      <td>11</td>\n",
       "      <td>-0.90</td>\n",
       "    </tr>\n",
       "  </tbody>\n",
       "</table>\n",
       "</div>"
      ],
      "text/plain": [
       "   Inflação  Taxa Real\n",
       "0         3       6.80\n",
       "1         4       5.77\n",
       "2         5       4.76\n",
       "3         6       3.77\n",
       "4         7       2.80\n",
       "5         8       1.85\n",
       "6         9       0.92\n",
       "7        10       0.00\n",
       "8        11      -0.90"
      ]
     },
     "execution_count": 5,
     "metadata": {},
     "output_type": "execute_result"
    }
   ],
   "source": [
    "import pandas as pd\n",
    "\n",
    "i_inf = [3, 4, 5, 6, 7, 8, 9, 10, 11]\n",
    "i_nom = 10/100\n",
    "\n",
    "i_real = []\n",
    "for idx, i in enumerate(i_inf):\n",
    "    i_real.append(round(((1 + i_nom) / (1 + i/100) - 1)*100, 2))\n",
    "    \n",
    "df = pd.DataFrame(i_inf, columns=['Inflação'])\n",
    "df['Taxa Real'] = i_real\n",
    "df"
   ]
  },
  {
   "cell_type": "markdown",
   "id": "07d5e432",
   "metadata": {},
   "source": [
    "# Taxa Básica de Juros\n",
    "\n",
    "A taxa básica de juros da economia brasileira é definida pela taxa SELIC. Esta taxa, fixada pelo Banco Central, é a taxa de referência no mercado financeiro, exercendo influências diretas sobre o volume da dívida pública, oferta de crédito, nível de inflação, entre outros indicadores econômicos importantes.\n",
    "\n",
    "A SELIC é usada também para estabelecer o custo do dinheiro nas operações de mercado aberto com títulos públicos (*open market*). A taxa média dessas operações em um dia é conhecida no mercado por Taxa Média SELIC (TMS). Assim, a taxa conhecida por SELIC é uma taca \"*over*\", válida para dias úteis, e definida para operações realizadas com títulos públicos de emissão do Governo Federal, e registrados no SIstema Especial de Liquidação e Custódia (Selic).\n",
    "\n",
    "A taxa SELIC é admitida como a de mais baixo risco no mercado financeiro nacional, sendo referência para as demais taxas de juros do mercado. O Banco Central do Brasil, através do COPOM - Comitê de Política Monetária - fixa a taxa SELIC regularmente. Todo dia, ainda é divulgada a taxa média diária praticada nas operações com títulos públicos.\n",
    "\n",
    "A metodologia de cálculo da taxa média diária adotada pelo Banco Central é a seguinte:\n",
    "\n",
    "$$SELIC_{media} = \\bigg[\\bigg(\\frac{\\sum_{j=1}^n F_j + V_j}{\\sum_{j=1}^n V_j}\\bigg)^{252}\\bigg] - 1$$\n",
    "\n",
    "Onde:\n",
    "\n",
    "- $F_j$: É o fator diário da taxa de juros de cada operação;\n",
    "\n",
    "- $V_j$: Valor de cada operação;\n",
    "\n",
    "- $252$: Número de dias úteis anuais definido pelo Banco Central.\n",
    "\n",
    "Por orientação do BACEN, a taxa SELIC é expressa em termos anuais (taxa ao ano *over* - a.a.o.), fixando-se o ano em 252 dias úteis. Desta forma, a descapitalização da SELIC para dia útil, ou sua capitalização para ano *over* é feita como vimos na aula passada:\n",
    "\n",
    "$$SELIC_{du} = (1 + SELIC_{a.a.o.})^{\\frac{1}{du}} - 1$$\n",
    "\n",
    "Onde:\n",
    "\n",
    "- $SELIC_{du}$: Taxa por dia útil;\n",
    "\n",
    "- $SELIC_{a.a.o.}$: Taxa ao ano *over*;\n",
    "\n",
    "- $du$: Número de dias úteis (em geral $du = 252$).\n",
    "\n",
    "## Desmembrando a Taxa SELIC\n",
    "\n",
    "A taxa SELIC de um determinado período pode ser decomposta em duas partes: taxa real de juros e taxa de inflação. A taxa real, por seu lado, pode também cobrir a taxa livre de risco (taxa pura) e o risco da ocnjuntura (risco da economia). Assim, a taxa SELIC é composta da seguinte maneira:\n",
    "\n",
    "$$SELIC = [(1 + i_{REAL}) \\cdot (1+i_{INFLACAO})] - 1$$\n",
    "\n",
    "Onde:\n",
    "\n",
    "- $i_{REAL}$: É a taxa real de juros;\n",
    "\n",
    "- $i_{INFLACAO}$: É a taxa de inflação.\n",
    "\n",
    "Como:\n",
    "\n",
    "$$i_{REAL} = [(1 + i_{PURA}) \\cdot (1 + i_{RISCO})] - 1$$\n",
    "\n",
    "Onde:\n",
    "\n",
    "- $i_{PURA}$: É a taxa livre de risco da economia;\n",
    "\n",
    "- $i_{RISCO}$: É o risco mínimo da economia.\n",
    "\n",
    "Podemos, então, apresentar a taxa SELIC como a capitalização de seus diversos componentes:\n",
    "\n",
    "$$SELIC = [(1 + i_{PURA}) \\cdot (1 + i_{RISCO}) \\cdot (1 + i_{INFLACAO})] - 1$$"
   ]
  },
  {
   "cell_type": "markdown",
   "id": "8c19bf1c",
   "metadata": {},
   "source": [
    "<b>Exemplo 5</b>\n",
    "<br><br>\n",
    "<i>Vamos considerar a taxa SELIC fixada em 15,5% a.a.o. e a taxa de inflação prevista para o período de 4,8%. Supondo uma taxa livre de risco de 6% a.a., calcule o risco da economia embutido nos juros básicos do mercado.</i>"
   ]
  },
  {
   "cell_type": "code",
   "execution_count": 6,
   "id": "a41a2891",
   "metadata": {
    "ExecuteTime": {
     "end_time": "2023-05-15T23:23:09.539738Z",
     "start_time": "2023-05-15T23:23:09.527288Z"
    }
   },
   "outputs": [
    {
     "name": "stdout",
     "output_type": "stream",
     "text": [
      "Taxa de risco da economia: 3.97%\n"
     ]
    }
   ],
   "source": [
    "i_selic = 15.5/100\n",
    "i_inf = 4.8/100\n",
    "i_lr = 6/100\n",
    "\n",
    "i_risco = (1 + i_selic) / ((1 + i_inf) * (1 + i_lr)) - 1\n",
    "print(f'Taxa de risco da economia: {round(i_risco*100, 2)}%')"
   ]
  },
  {
   "cell_type": "markdown",
   "id": "1d4fb9db",
   "metadata": {},
   "source": [
    "# Contextualização\n",
    "\n",
    "A Taxa Meta Selic, também é conhecida como taxa básica de juros. É a taxa oficial de juros brasileira, definida pelo Conselho Monetário Nacional (CMN) no Comitê de Política Monetária (COPOM), que ocorre a cada 45 dias.\n",
    "\n",
    "Além disso, ela foi criada no Brasil em março de 1999 e é considerada a taxa que ajuda controlar a inflação. Quando a inflação cresce, o governo aumenta a taxa Meta Selic. Com isso, ele induz a redução do consumo (uma vez que vale mais a pena manter e aplicar seu dinheiro do que gastá-lo comprando bens de consumo). Com a redução de demanda, os preços tendem a cair e, portanto, a inflação tende a cair.\n",
    "\n",
    "[Histórico da meta de inflação](https://www.bcb.gov.br/controleinflacao/historicometas)\n",
    "\n",
    "[Taxa SELIC](https://www.bcb.gov.br/controleinflacao/taxaselic)\n",
    "\n",
    "Outro conceito relacionado à taxa básica de juros se refere ao risco das operações. A taxa básica de juros é considerada a **taxa livre de risco** (*risk free rate*), pois representa apenas a valorização mínima do dinheiro no tempo, desconsiderando *spreads* comerciais e de risco de crédito.\n",
    "\n",
    "# Referências\n",
    "\n",
    "- NETO ASSAF, Alexandre. Matemática Financeira e suas Aplicações, Editora Atlas, 12ªedição, 2012.\n",
    "- Menezes, Marcio de. Matemática Financeira .IesdeBrasil, 2009.\n",
    "- [IBGE Explica: Inflação](https://www.ibge.gov.br/explica/inflacao.php)\n",
    "- [Banco Central: O que é inflação](https://www.bcb.gov.br/controleinflacao/oqueinflacao)\n",
    "- [Histórico Taxa de juros](https://www.bcb.gov.br/controleinflacao/historicotaxasjuros)\n"
   ]
  }
 ],
 "metadata": {
  "kernelspec": {
   "display_name": "Python 3 (ipykernel)",
   "language": "python",
   "name": "python3"
  },
  "language_info": {
   "codemirror_mode": {
    "name": "ipython",
    "version": 3
   },
   "file_extension": ".py",
   "mimetype": "text/x-python",
   "name": "python",
   "nbconvert_exporter": "python",
   "pygments_lexer": "ipython3",
   "version": "3.10.2"
  },
  "latex_envs": {
   "LaTeX_envs_menu_present": true,
   "autoclose": false,
   "autocomplete": true,
   "bibliofile": "biblio.bib",
   "cite_by": "apalike",
   "current_citInitial": 1,
   "eqLabelWithNumbers": true,
   "eqNumInitial": 1,
   "hotkeys": {
    "equation": "Ctrl-E",
    "itemize": "Ctrl-I"
   },
   "labels_anchors": false,
   "latex_user_defs": false,
   "report_style_numbering": false,
   "user_envs_cfg": false
  },
  "toc": {
   "base_numbering": 1,
   "nav_menu": {},
   "number_sections": true,
   "sideBar": true,
   "skip_h1_title": false,
   "title_cell": "Table of Contents",
   "title_sidebar": "Contents",
   "toc_cell": false,
   "toc_position": {},
   "toc_section_display": true,
   "toc_window_display": false
  },
  "varInspector": {
   "cols": {
    "lenName": 16,
    "lenType": 16,
    "lenVar": 40
   },
   "kernels_config": {
    "python": {
     "delete_cmd_postfix": "",
     "delete_cmd_prefix": "del ",
     "library": "var_list.py",
     "varRefreshCmd": "print(var_dic_list())"
    },
    "r": {
     "delete_cmd_postfix": ") ",
     "delete_cmd_prefix": "rm(",
     "library": "var_list.r",
     "varRefreshCmd": "cat(var_dic_list()) "
    }
   },
   "types_to_exclude": [
    "module",
    "function",
    "builtin_function_or_method",
    "instance",
    "_Feature"
   ],
   "window_display": false
  }
 },
 "nbformat": 4,
 "nbformat_minor": 5
}
