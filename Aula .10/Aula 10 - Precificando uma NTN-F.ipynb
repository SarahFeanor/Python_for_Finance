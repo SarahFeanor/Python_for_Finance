{
 "cells": [
  {
   "cell_type": "markdown",
   "id": "9dc3cd23",
   "metadata": {},
   "source": [
    "# O Curso\n",
    "\n",
    "A ementa do curso foi desenhada e montada para termos o maior aproveitamento por parte do aluno, independente da sua base prévia de conhecimentos do mercado financeiro. O objetivo deste primeiro curso é introduzir os conceitos mais básicos sobre <b>finanças quantitativas</b>, que formarão a base dos conceitos usados em técnicas, modelos e estudos mais avançados. Aqui, abordaremos os seguintes tópicos:\n",
    "\n",
    "- <i>Aula 1: Introdução, Juros e Inflação</i>\n",
    "    - O objetivo desta aula é apresentar os conceitos de juros simples e juros compostos, suas diferenças e aplicações, assim como a formulação matemática que nos permite converter as diversas formas de juros em uma medida equivalente.\n",
    "    \n",
    "- <i>Aula 2: Introdução, Juros e Inflação</i>\n",
    "    - O objetivo desta aula é apresentar os conceitos de inflação e taxa de desconto, para que o aluno seja capaz de avaliar o juro real pago por um investimento.\n",
    "    \n",
    "- <i>Aula 3: ETTJ, Duration/Convexidade e Produtos de Renda Fixa</i>\n",
    "    - O objetivo desta aula é compreender o que é uma Estrutura a Termo de Taxas de Juros (ETTJ) e qual a sua finalidade principal no mercado financeiro.\n",
    "    \n",
    "- <i>Aula 4: ETTJ, Duration/Convexidade e Produtos de Renda Fixa</i>\n",
    "    - O objetivo desta aula é aprendermos as técnicas utilizadas para montarmos uma ETTJ com os insumos disponíveis no mercado.\n",
    "    \n",
    "- <i>Aula 5: ETTJ, Duration/Convexidade e Produtos de Renda Fixa</i>\n",
    "    - O objetivo desta aula é entender o conceito de <i>duration</i> e convexidade. Neste contexto, vamos aprender o que são estes conceitos e como calculamos eles no mercado.\n",
    "    \n",
    "- <i>Aula 6: ETTJ, Duration/Convexidade e Produtos de Renda Fixa</i>\n",
    "    - O objetivo desta aula é continuarmos explorando o conceito de duration e convexidade, mas em um cotnexto de exemplo prático. Vamos simular a aplicação deste conceito em uma tesouraria de banco, por exemplo (ALM).\n",
    "    \n",
    "- <i>Aula 7: Risco, Retorno e Métricas de Risco</i>\n",
    "    - O objetivo desta aula é entender o que significa, no contexto do Mercado Financeiro, o <i>risco</i> e o <i>retorno</i> que precisamos, tanto para gestão de risco de uma carteira, quanto para uma alocação correta dentro de um dado perfil de risco de uma carteira.\n",
    "    \n",
    "- <i>Aula 8: Risco, Retorno e Métricas de Risco</i>\n",
    "    - O objetivo desta aula é compreender os conceitos de <i>VaR</i> (<i>Value at Risk</i>) e <i>ES</i> (<i>Expected Shortfall</i>), que são duas métricas de risco clássicas e muito utilizadas na gestão de carteiras. Inclusive, estas métricas têm um caráter regulatório para bancos.\n",
    "    \n",
    "- <i>Aula 9: Risco, Retorno e Métricas de Risco</i>\n",
    "    - O objetivo desta aula é compreendermos a ideia de quebrar um produto - ou uma carteira - em <i>Fatores de Risco</i>. Também veremos o conceito de <i>Gregas</i>, porém sem um grande aprofundamento matemático, pois antes precisaríamos entender a matemática por trás dos <i>derivativos</i> - tal como a equação de <i>Black & Scholes.</i>\n",
    "    \n",
    "- <i><b>Aula 10: Projeto Final - Precificando uma NTN-F</b></i>\n",
    "    - <b>O objetivo desta aula é utilizar os diversos conceitos passados durante o módulo para precificarmos uma NTN-F.</b>"
   ]
  },
  {
   "cell_type": "markdown",
   "id": "f12409c8",
   "metadata": {},
   "source": [
    "# Introdução\n",
    "\n",
    "## Motivação\n",
    "\n",
    "Utilizando o conhecimento obtido no curso até este ponto, já temos em mãos o ferramental necessário para construir diversas calculadoras e análises dentro do contexto de Renda Fixa do mercado financeiro. A construção de ferramentas mais complexas vai depender do aprofundamento e completo entendimento de conceitos que passamos de forma mais superficial aqui - até pela necessidade de conhecimentos matemáticos mais avançados em alguns casos. Porém, para muitas coisas no Mercado Financeiro, não precisamos levar à mão ferramentas complexas. A exemplo disto, vamos fazer um projeto muito interessante e que resulta em uma calculadora importante. Vamos Precificar uma NTN-F.\n",
    "<br>\n",
    "\n",
    "## O que é uma NTN-F?\n",
    "\n",
    "A Nota do Tesouro Nacional - Série F (sigla NTN-F) é simplesmente o nome antigo do que hoje a plataforma do Tesouro Direto chama de \"Tesouro Prefixado com Juros Semestrais\". A mudança do nome é devido ao fato de a plataforma desejar tornar os investimentos mais acessíveis ao público de varejo do país e, desta forma, deixar o nome mais intuitivo para o investidor inexperiente.\n",
    "<br>\n",
    "Este título tem três características principais:\n",
    "1. É um título prefixado, ou seja, sua taxa é fixada no momento da compra;\n",
    "2. É um título que paga cupons semestrais, ou seja, ele possui uma <b>taxa de cupom</b> e um fluxo de caixa durante sua vida;\n",
    "3. É um título emitido pelo tesouro Nacional, ou seja, não possui embutido em sua taxa nenhum <i>spread</i> de crédito. Em outras palavras, ele não possui nenhuma remuneração adicional pelo risco de calote - o risco deste título é o que chamamo de <b>risco soberano</b> - e usamos estes títulos soberanos para, posteriormente, calcular quanto de <b>prêmio de risco</b> as emissões corporativas estão pagando."
   ]
  },
  {
   "cell_type": "markdown",
   "id": "bbf41aad",
   "metadata": {},
   "source": [
    "# Precificando o Título\n",
    "\n",
    "Vamos fazer a precificação do título em passo-a-passo.\n",
    "<br>\n",
    "A primeira coisa que precisamos obter são as características do título. Para isto, podemos cotar a taxa em uma instituição, ou, a título de didática, podemos olhar na própria plataforma do tesouro Direto. Lá veremos a seguinte taxa para a data de consulta:\n",
    "<br>\n",
    "![Tela do tesouro Direto](tela-tesouro-direto.png)\n",
    "\n",
    "Aqui podemos identificar as seguintes informações-chave:\n",
    "1. A taxa ofertada é de 11,37%;\n",
    "2. O título vence em 01/01/2033;\n",
    "<br>\n",
    "\n",
    "Além disso, sabemos que este produto (basta ler no descritivo do produto no próprio site do Tesouro Direto) que:\n",
    "1. Ele paga cupons semestrais com uma taxa de cupom de 10% a.a.;\n",
    "2. Este título vale, no vencimento R$ 1.000,00.\n",
    "<br>\n",
    "\n",
    "Com estas informações em mãos, podemos começar a implementar nossa precificação."
   ]
  },
  {
   "cell_type": "markdown",
   "id": "756f41a7",
   "metadata": {},
   "source": [
    "## Passo 1\n",
    "\n",
    "O primeiro passo é importarmos as bibliotecas que vamos usar neste projeto, e inicializar as variáveis características do títulos que vamos precificar."
   ]
  },
  {
   "cell_type": "code",
   "execution_count": 1,
   "id": "0b9c0534",
   "metadata": {
    "ExecuteTime": {
     "end_time": "2023-06-05T17:31:26.415659Z",
     "start_time": "2023-06-05T17:31:25.441063Z"
    }
   },
   "outputs": [],
   "source": [
    "import numpy as np\n",
    "import pandas as pd\n",
    "\n",
    "from datetime import datetime, date\n",
    "from dateutil.relativedelta import relativedelta\n",
    "\n",
    "VF = 1000\n",
    "taxaTitulo = 0.1137    # 11,37% a.a.\n",
    "taxaCupom = 0.1000     # 10% a.a.\n",
    "periodicidadeCupom = 2 # 2 vezes ao ano (semestral)!\n",
    "vencimento = date(2033, 1, 1)"
   ]
  },
  {
   "cell_type": "markdown",
   "id": "fa004abc",
   "metadata": {},
   "source": [
    "## Passo 2\n",
    "\n",
    "O segundo passo é buscarmos, no site da ANBIMA, o calendário de feriados bancários, pois sabemos que a NTN-F remunera o investidor em <b>dias úteis</b>.\n",
    "\n",
    "P.S.: Site da ANBIMA: https://www.anbima.com.br/feriados/"
   ]
  },
  {
   "cell_type": "code",
   "execution_count": 2,
   "id": "293b2aa0",
   "metadata": {
    "ExecuteTime": {
     "end_time": "2023-06-05T17:31:26.430664Z",
     "start_time": "2023-06-05T17:31:26.419661Z"
    }
   },
   "outputs": [],
   "source": [
    "def buscaCalendarioANBIMA() -> pd.DataFrame:\n",
    "    calendario = pd.read_excel('https://www.anbima.com.br/feriados/arqs/feriados_nacionais.xls')\n",
    "    calendario.dropna(subset=['Dia da Semana', 'Feriado'], how='any', inplace=True)\n",
    "    calendario = calendario[['Data']]\n",
    "    calendario['Data'] = [x.date() for x in calendario['Data']]\n",
    "    \n",
    "    return calendario"
   ]
  },
  {
   "cell_type": "code",
   "execution_count": 3,
   "id": "129872a3",
   "metadata": {
    "ExecuteTime": {
     "end_time": "2023-06-05T17:31:26.819349Z",
     "start_time": "2023-06-05T17:31:26.433677Z"
    }
   },
   "outputs": [
    {
     "data": {
      "text/html": [
       "<div>\n",
       "<style scoped>\n",
       "    .dataframe tbody tr th:only-of-type {\n",
       "        vertical-align: middle;\n",
       "    }\n",
       "\n",
       "    .dataframe tbody tr th {\n",
       "        vertical-align: top;\n",
       "    }\n",
       "\n",
       "    .dataframe thead th {\n",
       "        text-align: right;\n",
       "    }\n",
       "</style>\n",
       "<table border=\"1\" class=\"dataframe\">\n",
       "  <thead>\n",
       "    <tr style=\"text-align: right;\">\n",
       "      <th></th>\n",
       "      <th>Data</th>\n",
       "    </tr>\n",
       "  </thead>\n",
       "  <tbody>\n",
       "    <tr>\n",
       "      <th>0</th>\n",
       "      <td>2001-01-01</td>\n",
       "    </tr>\n",
       "    <tr>\n",
       "      <th>1</th>\n",
       "      <td>2001-02-26</td>\n",
       "    </tr>\n",
       "    <tr>\n",
       "      <th>2</th>\n",
       "      <td>2001-02-27</td>\n",
       "    </tr>\n",
       "  </tbody>\n",
       "</table>\n",
       "</div>"
      ],
      "text/plain": [
       "         Data\n",
       "0  2001-01-01\n",
       "1  2001-02-26\n",
       "2  2001-02-27"
      ]
     },
     "execution_count": 3,
     "metadata": {},
     "output_type": "execute_result"
    }
   ],
   "source": [
    "calendarioFeriados = buscaCalendarioANBIMA()\n",
    "calendarioFeriados.head(3)"
   ]
  },
  {
   "cell_type": "markdown",
   "id": "1bb19ae0",
   "metadata": {},
   "source": [
    "## Passo 3\n",
    "\n",
    "O terceiro passo é montarmos o calendário de datas relevantes para o título, ou seja, precisamos obter a data de cada evento na vida deste título - fazendo correções em caso de datas que caiam nos finais de semana ou feriados!"
   ]
  },
  {
   "cell_type": "code",
   "execution_count": 4,
   "id": "4e79ac76",
   "metadata": {
    "ExecuteTime": {
     "end_time": "2023-06-05T17:31:26.835357Z",
     "start_time": "2023-06-05T17:31:26.823350Z"
    }
   },
   "outputs": [],
   "source": [
    "def montandoDatasFluxo(vcto: date, calendario: pd.DataFrame) -> list:\n",
    "    hoje = date.today()\n",
    "    while hoje.weekday() == 5 or hoje.weekday() == 6 or hoje in calendario['Data'].values.tolist():\n",
    "        hoje = hoje - relativedelta(days=1)\n",
    "        \n",
    "    datasRelevantes = []\n",
    "    dataRelevante = vcto\n",
    "    while dataRelevante >= hoje:\n",
    "        dataAuxiliar = dataRelevante\n",
    "        \n",
    "        while dataAuxiliar.weekday() == 5 or dataAuxiliar.weekday() == 6 or dataAuxiliar in calendario['Data'].values.tolist():\n",
    "            dataAuxiliar = dataAuxiliar + relativedelta(days=1)\n",
    "            \n",
    "        datasRelevantes.append(dataAuxiliar)\n",
    "        \n",
    "        dataRelevante = dataRelevante - relativedelta(months=6)\n",
    "        \n",
    "    return datasRelevantes"
   ]
  },
  {
   "cell_type": "code",
   "execution_count": 5,
   "id": "4527a171",
   "metadata": {
    "ExecuteTime": {
     "end_time": "2023-06-05T17:31:26.850880Z",
     "start_time": "2023-06-05T17:31:26.838360Z"
    }
   },
   "outputs": [
    {
     "data": {
      "text/plain": [
       "[datetime.date(2033, 1, 3),\n",
       " datetime.date(2032, 7, 1),\n",
       " datetime.date(2032, 1, 2)]"
      ]
     },
     "execution_count": 5,
     "metadata": {},
     "output_type": "execute_result"
    }
   ],
   "source": [
    "datasFluxos = montandoDatasFluxo(vcto=vencimento, calendario=calendarioFeriados)\n",
    "datasFluxos[:3]"
   ]
  },
  {
   "cell_type": "markdown",
   "id": "0a58e9d7",
   "metadata": {},
   "source": [
    "## Passo 4\n",
    "\n",
    "O quarto passo é determinarmos qual o <b>Valor Futuro</b> que vai acontecer nestas datas de interesse que obtivemos."
   ]
  },
  {
   "cell_type": "code",
   "execution_count": 6,
   "id": "b8b6ff2e",
   "metadata": {
    "ExecuteTime": {
     "end_time": "2023-06-05T17:31:26.866882Z",
     "start_time": "2023-06-05T17:31:26.852881Z"
    }
   },
   "outputs": [],
   "source": [
    "def montandoValoresFuturosFluxo(valorFace: float, taxaCupom: float, datasInteresse: list, perCpm: int) -> list:\n",
    "    valorCupom = round(valorFace * round((1+taxaCupom)**((12/perCpm)/12) - 1, 8), 6)\n",
    "    cupons = []\n",
    "    for idx, i in enumerate(datasInteresse):\n",
    "        if idx == 0:\n",
    "            cupons.append(valorFace+valorCupom)\n",
    "        else:\n",
    "            cupons.append(valorCupom)\n",
    "    \n",
    "    return cupons"
   ]
  },
  {
   "cell_type": "code",
   "execution_count": 7,
   "id": "1d7f4090",
   "metadata": {
    "ExecuteTime": {
     "end_time": "2023-06-05T17:31:26.882880Z",
     "start_time": "2023-06-05T17:31:26.869903Z"
    }
   },
   "outputs": [
    {
     "data": {
      "text/plain": [
       "[1048.80885, 48.80885, 48.80885]"
      ]
     },
     "execution_count": 7,
     "metadata": {},
     "output_type": "execute_result"
    }
   ],
   "source": [
    "fluxoValoresFuturos = montandoValoresFuturosFluxo(valorFace=VF, taxaCupom=taxaCupom, datasInteresse=datasFluxos, perCpm=periodicidadeCupom)\n",
    "fluxoValoresFuturos[:3]"
   ]
  },
  {
   "cell_type": "markdown",
   "id": "5f7bbe0c",
   "metadata": {},
   "source": [
    "## Passo 5\n",
    "\n",
    "O quinto passo é obtermos o <b>Valor Presente</b> dos fluxos de caixa que vão ocorrer. Como já temos as datas destes fluxos e o valor destes fluxos, precisamos criar a inteligência para trazer cada um a valor presente, dada a sua distância temporal da data de precificação (hoje).\n",
    "\n",
    "Aproveitando que, neste ponto do projeto, já teremos todas as variáveis calculadas, podemos mandar a função já retornar o <i>dataframe</i> final pronto para visualizarmos!"
   ]
  },
  {
   "cell_type": "code",
   "execution_count": 8,
   "id": "dfa0df79",
   "metadata": {
    "ExecuteTime": {
     "end_time": "2023-06-05T17:31:26.898881Z",
     "start_time": "2023-06-05T17:31:26.885890Z"
    }
   },
   "outputs": [],
   "source": [
    "def montandoValoresPresentesFluxo(taxa: float, datas: list, valoresFuturos: list, calFeriados: list) -> pd.DataFrame:\n",
    "    hoje = date.today()\n",
    "    while hoje.weekday() == 5 or hoje.weekday() == 6 or hoje in calFeriados['Data'].values.tolist():\n",
    "        hoje = hoje - relativedelta(days=1)\n",
    "    \n",
    "    numeroDUs = []\n",
    "    valorCupom = []\n",
    "    fatores = []\n",
    "    for idx, i in enumerate(datas):\n",
    "        dus = np.busday_count(hoje, i, holidays=[x.strftime('%Y-%m-%d') for x in calFeriados['Data'].values.tolist()])-1\n",
    "        fator = round(1 / (1+taxa)**(dus/252), 9)\n",
    "        valPres = round(valoresFuturos[idx] * fator, 9)\n",
    "        \n",
    "        numeroDUs.append(dus)\n",
    "        fatores.append(fator)\n",
    "        valorCupom.append(valPres)\n",
    "    \n",
    "    dfFluxos = pd.DataFrame()\n",
    "    dfFluxos['Data'] = datas\n",
    "    dfFluxos['Dias Úteis'] = numeroDUs\n",
    "    dfFluxos['Valor Futuro'] = valoresFuturos\n",
    "    dfFluxos['Valor Presente'] = valorCupom\n",
    "    dfFluxos['Fator'] = fatores\n",
    "    dfFluxos.sort_values(by=['Data'], inplace=True, ignore_index=True)\n",
    "    \n",
    "    return dfFluxos"
   ]
  },
  {
   "cell_type": "code",
   "execution_count": 9,
   "id": "a10d9763",
   "metadata": {
    "ExecuteTime": {
     "end_time": "2023-06-05T17:31:27.155897Z",
     "start_time": "2023-06-05T17:31:26.900881Z"
    }
   },
   "outputs": [
    {
     "data": {
      "text/html": [
       "<div>\n",
       "<style scoped>\n",
       "    .dataframe tbody tr th:only-of-type {\n",
       "        vertical-align: middle;\n",
       "    }\n",
       "\n",
       "    .dataframe tbody tr th {\n",
       "        vertical-align: top;\n",
       "    }\n",
       "\n",
       "    .dataframe thead th {\n",
       "        text-align: right;\n",
       "    }\n",
       "</style>\n",
       "<table border=\"1\" class=\"dataframe\">\n",
       "  <thead>\n",
       "    <tr style=\"text-align: right;\">\n",
       "      <th></th>\n",
       "      <th>Data</th>\n",
       "      <th>Dias Úteis</th>\n",
       "      <th>Valor Futuro</th>\n",
       "      <th>Valor Presente</th>\n",
       "      <th>Fator</th>\n",
       "    </tr>\n",
       "  </thead>\n",
       "  <tbody>\n",
       "    <tr>\n",
       "      <th>0</th>\n",
       "      <td>2023-07-03</td>\n",
       "      <td>18</td>\n",
       "      <td>48.80885</td>\n",
       "      <td>48.434853</td>\n",
       "      <td>0.992338</td>\n",
       "    </tr>\n",
       "    <tr>\n",
       "      <th>1</th>\n",
       "      <td>2024-01-02</td>\n",
       "      <td>143</td>\n",
       "      <td>48.80885</td>\n",
       "      <td>45.915516</td>\n",
       "      <td>0.940721</td>\n",
       "    </tr>\n",
       "    <tr>\n",
       "      <th>2</th>\n",
       "      <td>2024-07-01</td>\n",
       "      <td>267</td>\n",
       "      <td>48.80885</td>\n",
       "      <td>43.545826</td>\n",
       "      <td>0.892171</td>\n",
       "    </tr>\n",
       "    <tr>\n",
       "      <th>3</th>\n",
       "      <td>2025-01-02</td>\n",
       "      <td>397</td>\n",
       "      <td>48.80885</td>\n",
       "      <td>41.192682</td>\n",
       "      <td>0.843959</td>\n",
       "    </tr>\n",
       "    <tr>\n",
       "      <th>4</th>\n",
       "      <td>2025-07-01</td>\n",
       "      <td>519</td>\n",
       "      <td>48.80885</td>\n",
       "      <td>39.100140</td>\n",
       "      <td>0.801087</td>\n",
       "    </tr>\n",
       "    <tr>\n",
       "      <th>5</th>\n",
       "      <td>2026-01-02</td>\n",
       "      <td>650</td>\n",
       "      <td>48.80885</td>\n",
       "      <td>36.971431</td>\n",
       "      <td>0.757474</td>\n",
       "    </tr>\n",
       "    <tr>\n",
       "      <th>6</th>\n",
       "      <td>2026-07-01</td>\n",
       "      <td>772</td>\n",
       "      <td>48.80885</td>\n",
       "      <td>35.093324</td>\n",
       "      <td>0.718995</td>\n",
       "    </tr>\n",
       "    <tr>\n",
       "      <th>7</th>\n",
       "      <td>2027-01-04</td>\n",
       "      <td>900</td>\n",
       "      <td>48.80885</td>\n",
       "      <td>33.225324</td>\n",
       "      <td>0.680723</td>\n",
       "    </tr>\n",
       "    <tr>\n",
       "      <th>8</th>\n",
       "      <td>2027-07-01</td>\n",
       "      <td>1023</td>\n",
       "      <td>48.80885</td>\n",
       "      <td>31.524040</td>\n",
       "      <td>0.645867</td>\n",
       "    </tr>\n",
       "    <tr>\n",
       "      <th>9</th>\n",
       "      <td>2028-01-03</td>\n",
       "      <td>1151</td>\n",
       "      <td>48.80885</td>\n",
       "      <td>29.846031</td>\n",
       "      <td>0.611488</td>\n",
       "    </tr>\n",
       "    <tr>\n",
       "      <th>10</th>\n",
       "      <td>2028-07-03</td>\n",
       "      <td>1275</td>\n",
       "      <td>48.80885</td>\n",
       "      <td>28.305684</td>\n",
       "      <td>0.579929</td>\n",
       "    </tr>\n",
       "    <tr>\n",
       "      <th>11</th>\n",
       "      <td>2029-01-02</td>\n",
       "      <td>1400</td>\n",
       "      <td>48.80885</td>\n",
       "      <td>26.833365</td>\n",
       "      <td>0.549764</td>\n",
       "    </tr>\n",
       "    <tr>\n",
       "      <th>12</th>\n",
       "      <td>2029-07-02</td>\n",
       "      <td>1524</td>\n",
       "      <td>48.80885</td>\n",
       "      <td>25.448501</td>\n",
       "      <td>0.521391</td>\n",
       "    </tr>\n",
       "    <tr>\n",
       "      <th>13</th>\n",
       "      <td>2030-01-02</td>\n",
       "      <td>1650</td>\n",
       "      <td>48.80885</td>\n",
       "      <td>24.114490</td>\n",
       "      <td>0.494060</td>\n",
       "    </tr>\n",
       "    <tr>\n",
       "      <th>14</th>\n",
       "      <td>2030-07-01</td>\n",
       "      <td>1773</td>\n",
       "      <td>48.80885</td>\n",
       "      <td>22.879722</td>\n",
       "      <td>0.468762</td>\n",
       "    </tr>\n",
       "    <tr>\n",
       "      <th>15</th>\n",
       "      <td>2031-01-02</td>\n",
       "      <td>1903</td>\n",
       "      <td>48.80885</td>\n",
       "      <td>21.643340</td>\n",
       "      <td>0.443431</td>\n",
       "    </tr>\n",
       "    <tr>\n",
       "      <th>16</th>\n",
       "      <td>2031-07-01</td>\n",
       "      <td>2025</td>\n",
       "      <td>48.80885</td>\n",
       "      <td>20.543883</td>\n",
       "      <td>0.420905</td>\n",
       "    </tr>\n",
       "    <tr>\n",
       "      <th>17</th>\n",
       "      <td>2032-01-02</td>\n",
       "      <td>2156</td>\n",
       "      <td>48.80885</td>\n",
       "      <td>19.425422</td>\n",
       "      <td>0.397990</td>\n",
       "    </tr>\n",
       "    <tr>\n",
       "      <th>18</th>\n",
       "      <td>2032-07-01</td>\n",
       "      <td>2280</td>\n",
       "      <td>48.80885</td>\n",
       "      <td>18.422881</td>\n",
       "      <td>0.377450</td>\n",
       "    </tr>\n",
       "    <tr>\n",
       "      <th>19</th>\n",
       "      <td>2033-01-03</td>\n",
       "      <td>2408</td>\n",
       "      <td>1048.80885</td>\n",
       "      <td>374.800380</td>\n",
       "      <td>0.357358</td>\n",
       "    </tr>\n",
       "  </tbody>\n",
       "</table>\n",
       "</div>"
      ],
      "text/plain": [
       "          Data  Dias Úteis  Valor Futuro  Valor Presente     Fator\n",
       "0   2023-07-03          18      48.80885       48.434853  0.992338\n",
       "1   2024-01-02         143      48.80885       45.915516  0.940721\n",
       "2   2024-07-01         267      48.80885       43.545826  0.892171\n",
       "3   2025-01-02         397      48.80885       41.192682  0.843959\n",
       "4   2025-07-01         519      48.80885       39.100140  0.801087\n",
       "5   2026-01-02         650      48.80885       36.971431  0.757474\n",
       "6   2026-07-01         772      48.80885       35.093324  0.718995\n",
       "7   2027-01-04         900      48.80885       33.225324  0.680723\n",
       "8   2027-07-01        1023      48.80885       31.524040  0.645867\n",
       "9   2028-01-03        1151      48.80885       29.846031  0.611488\n",
       "10  2028-07-03        1275      48.80885       28.305684  0.579929\n",
       "11  2029-01-02        1400      48.80885       26.833365  0.549764\n",
       "12  2029-07-02        1524      48.80885       25.448501  0.521391\n",
       "13  2030-01-02        1650      48.80885       24.114490  0.494060\n",
       "14  2030-07-01        1773      48.80885       22.879722  0.468762\n",
       "15  2031-01-02        1903      48.80885       21.643340  0.443431\n",
       "16  2031-07-01        2025      48.80885       20.543883  0.420905\n",
       "17  2032-01-02        2156      48.80885       19.425422  0.397990\n",
       "18  2032-07-01        2280      48.80885       18.422881  0.377450\n",
       "19  2033-01-03        2408    1048.80885      374.800380  0.357358"
      ]
     },
     "execution_count": 9,
     "metadata": {},
     "output_type": "execute_result"
    }
   ],
   "source": [
    "df = montandoValoresPresentesFluxo(taxa=taxaTitulo, datas=datasFluxos, valoresFuturos=fluxoValoresFuturos, calFeriados=calendarioFeriados)\n",
    "df"
   ]
  },
  {
   "cell_type": "markdown",
   "id": "706accd4",
   "metadata": {},
   "source": [
    "## Passo 6\n",
    "\n",
    "O sexto passo é obtermos o Preço Unitário (na sigla PU) do título que estamos precificando. O preço de um título de Renda Fixa soberano não é nada mais e nada menos do que a soma de todos os fluxos de caixa que esperamos receber por ele. Faz sentido?\n",
    "<br>\n",
    "Você concorda que ninguém estaria disposto a pagar mais do que $X$ reais para receber $X$ reais em valor futuro. E se esse título valesse menos, todos os participantes informados de mercado iriam aplicar nele até que seu preço fosse corrigido (pela lei da oferta - maior a demanda pelos títulos e com oferta limitada, aumenta seu valor novamente). Desta forma, podemos dizer que o preço do título vai ser exatamente o somatório da coluna \"Valor Presente\"."
   ]
  },
  {
   "cell_type": "code",
   "execution_count": 10,
   "id": "731cb503",
   "metadata": {
    "ExecuteTime": {
     "end_time": "2023-06-05T17:31:27.171895Z",
     "start_time": "2023-06-05T17:31:27.162901Z"
    }
   },
   "outputs": [
    {
     "name": "stdout",
     "output_type": "stream",
     "text": [
      "O preço do título deve ser: R$967.27\n"
     ]
    }
   ],
   "source": [
    "PU = round(sum(df['Valor Presente']), 6)\n",
    "print(f'O preço do título deve ser: R${round(PU, 2)}')"
   ]
  },
  {
   "cell_type": "markdown",
   "id": "3f5e8cd1",
   "metadata": {},
   "source": [
    "# Obtendo algumas métricas de sensibilidade\n",
    "\n",
    "Agora que somos capazes de precificar uma NTN-F, podemos também calcular sua <i>duration</i> e sua convexidade para termos uma noção de <b>sensibilidade</b> do preço deste título - essa sensibilidade serve tanto para gestão de risco quanto para gestão do portfolio em si."
   ]
  },
  {
   "cell_type": "markdown",
   "id": "3f2017cb",
   "metadata": {},
   "source": [
    "## <i>Duration</i>"
   ]
  },
  {
   "cell_type": "code",
   "execution_count": 13,
   "id": "19ac2277",
   "metadata": {
    "ExecuteTime": {
     "end_time": "2023-06-05T17:34:17.913933Z",
     "start_time": "2023-06-05T17:34:17.907515Z"
    }
   },
   "outputs": [
    {
     "data": {
      "text/plain": [
       "1514.92"
      ]
     },
     "execution_count": 13,
     "metadata": {},
     "output_type": "execute_result"
    }
   ],
   "source": [
    "duration = 0\n",
    "for idx, i in enumerate(df['Valor Presente']):\n",
    "    duration += i * df['Dias Úteis'].iloc[idx]\n",
    "    \n",
    "duration = duration / sum(df['Valor Presente'])\n",
    "round(duration, 2)"
   ]
  },
  {
   "cell_type": "markdown",
   "id": "c1d55c4f",
   "metadata": {},
   "source": [
    "Lembrando a equação que define a <i>duration</i>, temos:\n",
    "$$\\Delta P = -D \\cdot P \\cdot \\Delta y$$\n",
    "\n",
    "Então podemos verificar, através da <i>duration</i>, <b>quanto irá variar o PU de um título dada uma variação em sua taxa</b>."
   ]
  },
  {
   "cell_type": "code",
   "execution_count": 17,
   "id": "caa01f10",
   "metadata": {
    "ExecuteTime": {
     "end_time": "2023-06-05T17:42:59.614013Z",
     "start_time": "2023-06-05T17:42:59.596019Z"
    }
   },
   "outputs": [
    {
     "name": "stdout",
     "output_type": "stream",
     "text": [
      "A sensibilidade do título a uma variação de 0,01% na taxa é de: R$-0.58\n"
     ]
    }
   ],
   "source": [
    "variacaoPU = -duration/252*PU*0.0001 # Variação de 0,01%, que seria 1 basis points\n",
    "print(f'A sensibilidade do título a uma variação de 0,01% na taxa é de: R${round(variacaoPU, 2)}')"
   ]
  },
  {
   "cell_type": "markdown",
   "id": "d652b5af",
   "metadata": {},
   "source": [
    "No código acima a divisão por 252 se deve ao fato de precisarmos saber a <i>duration</i> <b>em anos</b> do título!\n",
    "<br>\n",
    "Pelo cálculo acima, fica claro percebermos o quanto o preço do título é sensível à sua taxa. Podemos perceber também que, quanto maior a <i>duration</i>, maior é esta sensibilidade, de forma que teremos mais <b>volatilidade</b> no preço de títulos mais longos."
   ]
  },
  {
   "cell_type": "markdown",
   "id": "8a60adb8",
   "metadata": {},
   "source": [
    "## Convexidade"
   ]
  },
  {
   "cell_type": "code",
   "execution_count": 21,
   "id": "fe1154a3",
   "metadata": {
    "ExecuteTime": {
     "end_time": "2023-06-05T17:52:42.325532Z",
     "start_time": "2023-06-05T17:52:42.309534Z"
    }
   },
   "outputs": [
    {
     "data": {
      "text/plain": [
       "48.42"
      ]
     },
     "execution_count": 21,
     "metadata": {},
     "output_type": "execute_result"
    }
   ],
   "source": [
    "convexidade = 0\n",
    "for idx, i in enumerate(df['Valor Presente']):\n",
    "    convexidade += i * (df['Dias Úteis'].iloc[idx]/252)**2 # Já estou anualizando aqui!\n",
    "    \n",
    "convexidade = convexidade / sum(df['Valor Presente'])\n",
    "round(convexidade, 2)"
   ]
  },
  {
   "cell_type": "markdown",
   "id": "8ce1ca50",
   "metadata": {},
   "source": [
    "Lembrando que podemos expandir agora a equação do preço do título com uma segunda derivada da expansão de <i>Taylor</i>, ficando com:\n",
    "$$\\Delta P = -DP \\Delta y + \\frac{1}{2} C P (\\Delta y)^2$$\n",
    "<br>\n",
    "Podemos, então, agregar mais este termo na equação de sensibilidade do título!"
   ]
  },
  {
   "cell_type": "code",
   "execution_count": 22,
   "id": "904e16b9",
   "metadata": {
    "ExecuteTime": {
     "end_time": "2023-06-05T17:55:26.778085Z",
     "start_time": "2023-06-05T17:55:26.771099Z"
    }
   },
   "outputs": [
    {
     "name": "stdout",
     "output_type": "stream",
     "text": [
      "A sensibilidade do título a uma variação de 0,01% na taxa é de: R$-0.58\n"
     ]
    }
   ],
   "source": [
    "variacaoPU2 = -duration/252*PU*0.0001 + 0.5*convexidade*PU*(0.0001)**2 # Variação de 0,01%, que seria 1 basis point\n",
    "print(f'A sensibilidade do título a uma variação de 0,01% na taxa é de: R${round(variacaoPU2, 2)}')"
   ]
  },
  {
   "cell_type": "code",
   "execution_count": 23,
   "id": "e8ffa9ba",
   "metadata": {
    "ExecuteTime": {
     "end_time": "2023-06-05T17:55:55.712034Z",
     "start_time": "2023-06-05T17:55:55.696405Z"
    }
   },
   "outputs": [
    {
     "data": {
      "text/plain": [
       "0.00023418248785589402"
      ]
     },
     "execution_count": 23,
     "metadata": {},
     "output_type": "execute_result"
    }
   ],
   "source": [
    "abs(variacaoPU - variacaoPU2)"
   ]
  }
 ],
 "metadata": {
  "kernelspec": {
   "display_name": "Python 3 (ipykernel)",
   "language": "python",
   "name": "python3"
  },
  "language_info": {
   "codemirror_mode": {
    "name": "ipython",
    "version": 3
   },
   "file_extension": ".py",
   "mimetype": "text/x-python",
   "name": "python",
   "nbconvert_exporter": "python",
   "pygments_lexer": "ipython3",
   "version": "3.10.2"
  },
  "latex_envs": {
   "LaTeX_envs_menu_present": true,
   "autoclose": false,
   "autocomplete": true,
   "bibliofile": "biblio.bib",
   "cite_by": "apalike",
   "current_citInitial": 1,
   "eqLabelWithNumbers": true,
   "eqNumInitial": 1,
   "hotkeys": {
    "equation": "Ctrl-E",
    "itemize": "Ctrl-I"
   },
   "labels_anchors": false,
   "latex_user_defs": false,
   "report_style_numbering": false,
   "user_envs_cfg": false
  },
  "toc": {
   "base_numbering": 1,
   "nav_menu": {},
   "number_sections": true,
   "sideBar": true,
   "skip_h1_title": false,
   "title_cell": "Table of Contents",
   "title_sidebar": "Contents",
   "toc_cell": false,
   "toc_position": {},
   "toc_section_display": true,
   "toc_window_display": false
  },
  "varInspector": {
   "cols": {
    "lenName": 16,
    "lenType": 16,
    "lenVar": 40
   },
   "kernels_config": {
    "python": {
     "delete_cmd_postfix": "",
     "delete_cmd_prefix": "del ",
     "library": "var_list.py",
     "varRefreshCmd": "print(var_dic_list())"
    },
    "r": {
     "delete_cmd_postfix": ") ",
     "delete_cmd_prefix": "rm(",
     "library": "var_list.r",
     "varRefreshCmd": "cat(var_dic_list()) "
    }
   },
   "types_to_exclude": [
    "module",
    "function",
    "builtin_function_or_method",
    "instance",
    "_Feature"
   ],
   "window_display": false
  }
 },
 "nbformat": 4,
 "nbformat_minor": 5
}
