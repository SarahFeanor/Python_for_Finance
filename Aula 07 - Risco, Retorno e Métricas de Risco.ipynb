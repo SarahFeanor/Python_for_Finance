{
 "cells": [
  {
   "cell_type": "markdown",
   "id": "792624b6",
   "metadata": {},
   "source": [
    "# O Curso\n",
    "\n",
    "A ementa do curso foi desenhada e montada para termos o maior aproveitamento por parte do aluno, independente da sua base prévia de conhecimentos do mercado financeiro. O objetivo deste primeiro curso é introduzir os conceitos mais básicos sobre <b>finanças quantitativas</b>, que formarão a base dos conceitos usados em técnicas, modelos e estudos mais avançados. Aqui, abordaremos os seguintes tópicos:\n",
    "\n",
    "- <i>Aula 1: Introdução, Juros e Inflação</i>\n",
    "    - O objetivo desta aula é apresentar os conceitos de juros simples e juros compostos, suas diferenças e aplicações, assim como a formulação matemática que nos permite converter as diversas formas de juros em uma medida equivalente.\n",
    "    \n",
    "- <i>Aula 2: Introdução, Juros e Inflação</i>\n",
    "    - O objetivo desta aula é apresentar os conceitos de inflação e taxa de desconto, para que o aluno seja capaz de avaliar o juro real pago por um investimento.\n",
    "    \n",
    "- <i>Aula 3: ETTJ, Duration/Convexidade e Produtos de Renda Fixa</i>\n",
    "    - O objetivo desta aula é compreender o que é uma Estrutura a Termo de Taxas de Juros (ETTJ) e qual a sua finalidade principal no mercado financeiro.\n",
    "    \n",
    "- <i>Aula 4: ETTJ, Duration/Convexidade e Produtos de Renda Fixa</i>\n",
    "    - O objetivo desta aula é aprendermos as técnicas utilizadas para montarmos uma ETTJ com os insumos disponíveis no mercado.\n",
    "    \n",
    "- <i>Aula 5: ETTJ, Duration/Convexidade e Produtos de Renda Fixa</i>\n",
    "    - O objetivo desta aula é entender o conceito de <i>duration</i> e convexidade. Neste contexto, vamos aprender o que são estes conceitos e como calculamos eles no mercado.\n",
    "    \n",
    "- <i>Aula 6: ETTJ, Duration/Convexidade e Produtos de Renda Fixa</i>\n",
    "    - O objetivo desta aula é continuarmos explorando o conceito de duration e convexidade, mas em um cotnexto de exemplo prático. Vamos simular a aplicação deste conceito em uma tesouraria de banco, por exemplo (ALM).\n",
    "    \n",
    "- <i><b>Aula 7: Risco, Retorno e Métricas de Risco</b></i>\n",
    "    - <b>O objetivo desta aula é entender o que significa, no contexto do Mercado Financeiro, o <i>risco</i> e o <i>retorno</i> que precisamos, tanto para gestão de risco de uma carteira, quanto para uma alocação correta dentro de um dado perfil de risco de uma carteira.</b>\n",
    "    \n",
    "- <i>Aula 8: Risco, Retorno e Métricas de Risco</i>\n",
    "    - O objetivo desta aula é compreender os conceitos de <i>VaR</i> (<i>Value at Risk</i>) e <i>ES</i> (<i>Expected Shortfall</i>), que são duas métricas de risco clássicas e muito utilizadas na gestão de carteiras. Inclusive, estas métricas têm um caráter regulatório para bancos.\n",
    "    \n",
    "- <i>Aula 9: Risco, Retorno e Métricas de Risco</i>\n",
    "    - O objetivo desta aula é compreendermos a ideia de quebrar um produto - ou uma carteira - em <i>Fatores de Risco</i>. Também veremos o conceito de <i>Gregas</i>, porém sem um grande aprofundamento matemático, pois antes precisaríamos entender a matemática por trás dos <i>derivativos</i> - tal como a equação de <i>Black & Scholes.</i>\n",
    "    \n",
    "- <i>Aula 10: Projeto Final - Precificando uma NTN-F</i>\n",
    "    - O objetivo desta aula é utilizar os diversos conceitos passados durante o módulo para precificarmos uma NTN-F."
   ]
  },
  {
   "cell_type": "markdown",
   "id": "f6f34da2",
   "metadata": {},
   "source": [
    "# Introdução\n",
    "\n",
    "As decisões financeiras são tomadas em um ambiente\n",
    "de incerteza com relação ao futuro.\n",
    "\n",
    "Parte-se do pressuposto que todo investidor tem aversão ao risco e prefere maximizar o retorno de seus investimentos.\n",
    "\n",
    "Portanto, o retorno exigido depende do risco do investimento!\n",
    "\n",
    "- Quanto menor o risco, menor o retorno esperado.\n",
    "- Quanto maior o retorno esperado, maior o risco.\n",
    "\n",
    "Como mensurar o risco e o retorno esperado de um investimento?"
   ]
  },
  {
   "cell_type": "markdown",
   "id": "9913524a",
   "metadata": {},
   "source": [
    "# Retorno Esperado\n",
    "Representa uma média dos vários resultados esperados (valores possíveis) ponderada pela probabilidade atribuída a cada valor.\n",
    "\n",
    "Pode ser calculado o retorno absoluto (em valor financeiro) ou o retorno relativo (em valor percentual).\n",
    "\n",
    "**Exemplo 1**\n",
    "\n",
    "Considere que uma ação tenha apresentado o seguite histórico de variações:\n",
    "\n",
    "| Dia | Preço|\n",
    "|-----|------|\n",
    "|1 | R\\\\$ 10,00|\n",
    "|2 | R\\\\$ 15,00|\n",
    "|3 | R\\\\$  8,00|\n",
    "\n",
    "- O retorno absoluto do dia 1 para o dia 2 foi de R\\\\$ 5,00.\n",
    "- O retorno absoluto do período (dia 1 ao dia 3) foi de R\\\\$ -2,00.\n",
    "- O retorno relativo do dia 1 para o dia 2 foi de 50\\% (5,00 / 10,00).\n",
    "- O retorno relativo do dia 1 para o dia 3 foi de -20\\% (o preço caiu R\\\\$ 2,00 e valia originalmente R\\\\$ 10,00)."
   ]
  },
  {
   "cell_type": "code",
   "execution_count": 3,
   "id": "e623e655",
   "metadata": {
    "ExecuteTime": {
     "end_time": "2023-05-29T21:03:57.146888Z",
     "start_time": "2023-05-29T21:03:56.869035Z"
    }
   },
   "outputs": [
    {
     "ename": "ConnectionError",
     "evalue": "ERR#0015: error 403, try again later.",
     "output_type": "error",
     "traceback": [
      "\u001b[1;31m---------------------------------------------------------------------------\u001b[0m",
      "\u001b[1;31mConnectionError\u001b[0m                           Traceback (most recent call last)",
      "Input \u001b[1;32mIn [3]\u001b[0m, in \u001b[0;36m<cell line: 7>\u001b[1;34m()\u001b[0m\n\u001b[0;32m      2\u001b[0m \u001b[38;5;28;01mimport\u001b[39;00m \u001b[38;5;21;01minvestpy\u001b[39;00m \u001b[38;5;28;01mas\u001b[39;00m \u001b[38;5;21;01minv\u001b[39;00m\n\u001b[0;32m      5\u001b[0m \u001b[38;5;66;03m# Ler a base\u001b[39;00m\n\u001b[0;32m      6\u001b[0m \u001b[38;5;66;03m# db_USD = pd.read_csv('series_dolar.csv', sep=';', decimal = ',')\u001b[39;00m\n\u001b[1;32m----> 7\u001b[0m db_USD \u001b[38;5;241m=\u001b[39m \u001b[43minv\u001b[49m\u001b[38;5;241;43m.\u001b[39;49m\u001b[43mcurrency_crosses\u001b[49m\u001b[38;5;241;43m.\u001b[39;49m\u001b[43mget_currency_cross_historical_data\u001b[49m\u001b[43m(\u001b[49m\u001b[38;5;124;43m'\u001b[39;49m\u001b[38;5;124;43mUSD/BRL\u001b[39;49m\u001b[38;5;124;43m'\u001b[39;49m\u001b[43m,\u001b[49m\n\u001b[0;32m      8\u001b[0m \u001b[43m                                                                 \u001b[49m\u001b[38;5;124;43m'\u001b[39;49m\u001b[38;5;124;43m04/01/2021\u001b[39;49m\u001b[38;5;124;43m'\u001b[39;49m\u001b[43m,\u001b[49m\n\u001b[0;32m      9\u001b[0m \u001b[43m                                                                 \u001b[49m\u001b[38;5;124;43m'\u001b[39;49m\u001b[38;5;124;43m07/12/2021\u001b[39;49m\u001b[38;5;124;43m'\u001b[39;49m\u001b[43m,\u001b[49m\n\u001b[0;32m     10\u001b[0m \u001b[43m                                                                 \u001b[49m\u001b[43mas_json\u001b[49m\u001b[38;5;241;43m=\u001b[39;49m\u001b[38;5;28;43;01mFalse\u001b[39;49;00m\u001b[43m,\u001b[49m\n\u001b[0;32m     11\u001b[0m \u001b[43m                                                                 \u001b[49m\u001b[43morder\u001b[49m\u001b[38;5;241;43m=\u001b[39;49m\u001b[38;5;124;43m'\u001b[39;49m\u001b[38;5;124;43mascending\u001b[39;49m\u001b[38;5;124;43m'\u001b[39;49m\u001b[43m,\u001b[49m\n\u001b[0;32m     12\u001b[0m \u001b[43m                                                                 \u001b[49m\u001b[43minterval\u001b[49m\u001b[38;5;241;43m=\u001b[39;49m\u001b[38;5;124;43m'\u001b[39;49m\u001b[38;5;124;43mDaily\u001b[39;49m\u001b[38;5;124;43m'\u001b[39;49m\u001b[43m)\u001b[49m\n\u001b[0;32m     13\u001b[0m db_USD\u001b[38;5;241m.\u001b[39mreset_index(drop\u001b[38;5;241m=\u001b[39m\u001b[38;5;28;01mFalse\u001b[39;00m, inplace\u001b[38;5;241m=\u001b[39m\u001b[38;5;28;01mTrue\u001b[39;00m)\n\u001b[0;32m     14\u001b[0m db_USD \u001b[38;5;241m=\u001b[39m db_USD\u001b[38;5;241m.\u001b[39mloc[:,[\u001b[38;5;124m'\u001b[39m\u001b[38;5;124mDate\u001b[39m\u001b[38;5;124m'\u001b[39m, \u001b[38;5;124m'\u001b[39m\u001b[38;5;124mClose\u001b[39m\u001b[38;5;124m'\u001b[39m]]\n",
      "File \u001b[1;32m~\\AppData\\Local\\Programs\\Python\\Python310\\lib\\site-packages\\investpy\\currency_crosses.py:674\u001b[0m, in \u001b[0;36mget_currency_cross_historical_data\u001b[1;34m(currency_cross, from_date, to_date, as_json, order, interval)\u001b[0m\n\u001b[0;32m    671\u001b[0m req \u001b[38;5;241m=\u001b[39m requests\u001b[38;5;241m.\u001b[39mpost(url, headers\u001b[38;5;241m=\u001b[39mhead, data\u001b[38;5;241m=\u001b[39mparams)\n\u001b[0;32m    673\u001b[0m \u001b[38;5;28;01mif\u001b[39;00m req\u001b[38;5;241m.\u001b[39mstatus_code \u001b[38;5;241m!=\u001b[39m \u001b[38;5;241m200\u001b[39m:\n\u001b[1;32m--> 674\u001b[0m     \u001b[38;5;28;01mraise\u001b[39;00m \u001b[38;5;167;01mConnectionError\u001b[39;00m(\n\u001b[0;32m    675\u001b[0m         \u001b[38;5;124m\"\u001b[39m\u001b[38;5;124mERR#0015: error \u001b[39m\u001b[38;5;124m\"\u001b[39m \u001b[38;5;241m+\u001b[39m \u001b[38;5;28mstr\u001b[39m(req\u001b[38;5;241m.\u001b[39mstatus_code) \u001b[38;5;241m+\u001b[39m \u001b[38;5;124m\"\u001b[39m\u001b[38;5;124m, try again later.\u001b[39m\u001b[38;5;124m\"\u001b[39m\n\u001b[0;32m    676\u001b[0m     )\n\u001b[0;32m    678\u001b[0m \u001b[38;5;28;01mif\u001b[39;00m \u001b[38;5;129;01mnot\u001b[39;00m req\u001b[38;5;241m.\u001b[39mtext:\n\u001b[0;32m    679\u001b[0m     \u001b[38;5;28;01mcontinue\u001b[39;00m\n",
      "\u001b[1;31mConnectionError\u001b[0m: ERR#0015: error 403, try again later."
     ]
    }
   ],
   "source": [
    "import pandas as pd\n",
    "import investpy as inv\n",
    "\n",
    "\n",
    "# Ler a base\n",
    "# db_USD = pd.read_csv('series_dolar.csv', sep=';', decimal = ',')\n",
    "db_USD = inv.currency_crosses.get_currency_cross_historical_data('USD/BRL',\n",
    "                                                                 '04/01/2021',\n",
    "                                                                 '07/12/2021',\n",
    "                                                                 as_json=False,\n",
    "                                                                 order='ascending',\n",
    "                                                                 interval='Daily')\n",
    "db_USD.reset_index(drop=False, inplace=True)\n",
    "db_USD = db_USD.loc[:,['Date', 'Close']]\n",
    "\n",
    "# Ajustando nome das colunas\n",
    "db_USD.columns =  ['Data_base', 'Preco']\n",
    "\n",
    "# Colocar o preço anterior numa coluna ao lado\n",
    "db_USD['Preco_D-1'] = db_USD['Preco'].shift(1)\n",
    "# Retorno simples financeiro (P_t - P(t-1))\n",
    "db_USD['Retorno_Simples'] = db_USD['Preco'] - db_USD['Preco_D-1']\n",
    "# Retorno relativo: (P_t - P_(t-1))/P_(t-1)\n",
    "db_USD['Retorno_Relativo'] = db_USD['Retorno_Simples']/db_USD['Preco_D-1']\n",
    "#db_USD['Retorno'] = db_USD['Preco']/db_USD['Preco'].shift(-1) - 1\n",
    "db_USD"
   ]
  },
  {
   "cell_type": "code",
   "execution_count": 2,
   "id": "76bb3931",
   "metadata": {
    "ExecuteTime": {
     "end_time": "2023-05-29T21:03:55.152120Z",
     "start_time": "2023-05-29T21:03:55.125206Z"
    }
   },
   "outputs": [
    {
     "data": {
      "text/plain": [
       "1.0739130434782609"
      ]
     },
     "execution_count": 2,
     "metadata": {},
     "output_type": "execute_result"
    }
   ],
   "source": [
    "R3 = 45.8/46-1\n",
    "R4 = 48.9/45.8-1\n",
    "R5 = 49.4/48.9-1\n",
    "\n",
    "1*(1+R3)*(1+R4)*(1+R5)"
   ]
  },
  {
   "cell_type": "code",
   "execution_count": 4,
   "id": "e35850b9",
   "metadata": {
    "ExecuteTime": {
     "end_time": "2023-05-29T21:04:24.743077Z",
     "start_time": "2023-05-29T21:04:24.727001Z"
    }
   },
   "outputs": [
    {
     "data": {
      "text/plain": [
       "0.038461538461538325"
      ]
     },
     "execution_count": 4,
     "metadata": {},
     "output_type": "execute_result"
    }
   ],
   "source": [
    "(51.3/49.4) - 1"
   ]
  },
  {
   "cell_type": "code",
   "execution_count": 5,
   "id": "a44719a0",
   "metadata": {
    "ExecuteTime": {
     "end_time": "2023-05-29T21:04:36.334039Z",
     "start_time": "2023-05-29T21:04:36.164693Z"
    }
   },
   "outputs": [
    {
     "ename": "ConnectionError",
     "evalue": "ERR#0015: error 403, try again later.",
     "output_type": "error",
     "traceback": [
      "\u001b[1;31m---------------------------------------------------------------------------\u001b[0m",
      "\u001b[1;31mConnectionError\u001b[0m                           Traceback (most recent call last)",
      "Input \u001b[1;32mIn [5]\u001b[0m, in \u001b[0;36m<cell line: 5>\u001b[1;34m()\u001b[0m\n\u001b[0;32m      1\u001b[0m \u001b[38;5;66;03m# Retorno de 20 dias\u001b[39;00m\n\u001b[0;32m      2\u001b[0m \n\u001b[0;32m      3\u001b[0m \u001b[38;5;66;03m# Ler a base\u001b[39;00m\n\u001b[0;32m      4\u001b[0m \u001b[38;5;66;03m# db_USD = pd.read_csv('series_dolar.csv', sep=';', decimal = ',')\u001b[39;00m\n\u001b[1;32m----> 5\u001b[0m db_USD_2 \u001b[38;5;241m=\u001b[39m \u001b[43minv\u001b[49m\u001b[38;5;241;43m.\u001b[39;49m\u001b[43mcurrency_crosses\u001b[49m\u001b[38;5;241;43m.\u001b[39;49m\u001b[43mget_currency_cross_historical_data\u001b[49m\u001b[43m(\u001b[49m\u001b[38;5;124;43m'\u001b[39;49m\u001b[38;5;124;43mUSD/BRL\u001b[39;49m\u001b[38;5;124;43m'\u001b[39;49m\u001b[43m,\u001b[49m\n\u001b[0;32m      6\u001b[0m \u001b[43m                                                                 \u001b[49m\u001b[38;5;124;43m'\u001b[39;49m\u001b[38;5;124;43m04/01/2021\u001b[39;49m\u001b[38;5;124;43m'\u001b[39;49m\u001b[43m,\u001b[49m\n\u001b[0;32m      7\u001b[0m \u001b[43m                                                                 \u001b[49m\u001b[38;5;124;43m'\u001b[39;49m\u001b[38;5;124;43m07/12/2021\u001b[39;49m\u001b[38;5;124;43m'\u001b[39;49m\u001b[43m,\u001b[49m\n\u001b[0;32m      8\u001b[0m \u001b[43m                                                                 \u001b[49m\u001b[43mas_json\u001b[49m\u001b[38;5;241;43m=\u001b[39;49m\u001b[38;5;28;43;01mFalse\u001b[39;49;00m\u001b[43m,\u001b[49m\n\u001b[0;32m      9\u001b[0m \u001b[43m                                                                 \u001b[49m\u001b[43morder\u001b[49m\u001b[38;5;241;43m=\u001b[39;49m\u001b[38;5;124;43m'\u001b[39;49m\u001b[38;5;124;43mascending\u001b[39;49m\u001b[38;5;124;43m'\u001b[39;49m\u001b[43m,\u001b[49m\n\u001b[0;32m     10\u001b[0m \u001b[43m                                                                 \u001b[49m\u001b[43minterval\u001b[49m\u001b[38;5;241;43m=\u001b[39;49m\u001b[38;5;124;43m'\u001b[39;49m\u001b[38;5;124;43mDaily\u001b[39;49m\u001b[38;5;124;43m'\u001b[39;49m\u001b[43m)\u001b[49m\n\u001b[0;32m     11\u001b[0m db_USD_2\u001b[38;5;241m.\u001b[39mreset_index(drop\u001b[38;5;241m=\u001b[39m\u001b[38;5;28;01mFalse\u001b[39;00m, inplace\u001b[38;5;241m=\u001b[39m\u001b[38;5;28;01mTrue\u001b[39;00m)\n\u001b[0;32m     12\u001b[0m db_USD_2 \u001b[38;5;241m=\u001b[39m db_USD_2\u001b[38;5;241m.\u001b[39mloc[:,[\u001b[38;5;124m'\u001b[39m\u001b[38;5;124mDate\u001b[39m\u001b[38;5;124m'\u001b[39m, \u001b[38;5;124m'\u001b[39m\u001b[38;5;124mClose\u001b[39m\u001b[38;5;124m'\u001b[39m]]\n",
      "File \u001b[1;32m~\\AppData\\Local\\Programs\\Python\\Python310\\lib\\site-packages\\investpy\\currency_crosses.py:674\u001b[0m, in \u001b[0;36mget_currency_cross_historical_data\u001b[1;34m(currency_cross, from_date, to_date, as_json, order, interval)\u001b[0m\n\u001b[0;32m    671\u001b[0m req \u001b[38;5;241m=\u001b[39m requests\u001b[38;5;241m.\u001b[39mpost(url, headers\u001b[38;5;241m=\u001b[39mhead, data\u001b[38;5;241m=\u001b[39mparams)\n\u001b[0;32m    673\u001b[0m \u001b[38;5;28;01mif\u001b[39;00m req\u001b[38;5;241m.\u001b[39mstatus_code \u001b[38;5;241m!=\u001b[39m \u001b[38;5;241m200\u001b[39m:\n\u001b[1;32m--> 674\u001b[0m     \u001b[38;5;28;01mraise\u001b[39;00m \u001b[38;5;167;01mConnectionError\u001b[39;00m(\n\u001b[0;32m    675\u001b[0m         \u001b[38;5;124m\"\u001b[39m\u001b[38;5;124mERR#0015: error \u001b[39m\u001b[38;5;124m\"\u001b[39m \u001b[38;5;241m+\u001b[39m \u001b[38;5;28mstr\u001b[39m(req\u001b[38;5;241m.\u001b[39mstatus_code) \u001b[38;5;241m+\u001b[39m \u001b[38;5;124m\"\u001b[39m\u001b[38;5;124m, try again later.\u001b[39m\u001b[38;5;124m\"\u001b[39m\n\u001b[0;32m    676\u001b[0m     )\n\u001b[0;32m    678\u001b[0m \u001b[38;5;28;01mif\u001b[39;00m \u001b[38;5;129;01mnot\u001b[39;00m req\u001b[38;5;241m.\u001b[39mtext:\n\u001b[0;32m    679\u001b[0m     \u001b[38;5;28;01mcontinue\u001b[39;00m\n",
      "\u001b[1;31mConnectionError\u001b[0m: ERR#0015: error 403, try again later."
     ]
    }
   ],
   "source": [
    "# Retorno de 20 dias\n",
    "\n",
    "# Ler a base\n",
    "# db_USD = pd.read_csv('series_dolar.csv', sep=';', decimal = ',')\n",
    "db_USD_2 = inv.currency_crosses.get_currency_cross_historical_data('USD/BRL',\n",
    "                                                                 '04/01/2021',\n",
    "                                                                 '07/12/2021',\n",
    "                                                                 as_json=False,\n",
    "                                                                 order='ascending',\n",
    "                                                                 interval='Daily')\n",
    "db_USD_2.reset_index(drop=False, inplace=True)\n",
    "db_USD_2 = db_USD_2.loc[:,['Date', 'Close']]\n",
    "\n",
    "# Ajustando nome das colunas\n",
    "db_USD_2.columns =  ['Data_base', 'Preco']\n",
    "\n",
    "# Pego o preço de 20 dias atrás\n",
    "db_USD_2['Preco_D-20'] = db_USD_2['Preco'].shift(1)\n",
    "db_USD_2['Retorno_Simples'] = db_USD_2['Preco'] - db_USD_2['Preco_D-20']\n",
    "db_USD_2['Retorno_Relativo'] = db_USD_2['Retorno_Simples']/db_USD_2['Preco_D-20']\n",
    "\n",
    "# Calculando o rel relativo diretamente em uma linha, usando a outra fórmula: P_t/P_(t-1) - 1\n",
    "#db_USD['Retorno'] = db_USD['Preco']/db_USD['Preco'].shift(-20) - 1\n",
    "db_USD_2"
   ]
  },
  {
   "cell_type": "code",
   "execution_count": 6,
   "id": "24553925",
   "metadata": {
    "ExecuteTime": {
     "end_time": "2023-05-29T21:04:44.286274Z",
     "start_time": "2023-05-29T21:04:43.542784Z"
    }
   },
   "outputs": [
    {
     "ename": "NameError",
     "evalue": "name 'db_USD_2' is not defined",
     "output_type": "error",
     "traceback": [
      "\u001b[1;31m---------------------------------------------------------------------------\u001b[0m",
      "\u001b[1;31mNameError\u001b[0m                                 Traceback (most recent call last)",
      "Input \u001b[1;32mIn [6]\u001b[0m, in \u001b[0;36m<cell line: 5>\u001b[1;34m()\u001b[0m\n\u001b[0;32m      3\u001b[0m \u001b[38;5;66;03m# Gráfico da série temporal de preços\u001b[39;00m\n\u001b[0;32m      4\u001b[0m plt\u001b[38;5;241m.\u001b[39mfigure(figsize\u001b[38;5;241m=\u001b[39m(\u001b[38;5;241m20\u001b[39m,\u001b[38;5;241m12\u001b[39m))\n\u001b[1;32m----> 5\u001b[0m plt\u001b[38;5;241m.\u001b[39mplot(\u001b[43mdb_USD_2\u001b[49m[\u001b[38;5;124m'\u001b[39m\u001b[38;5;124mData_base\u001b[39m\u001b[38;5;124m'\u001b[39m], db_USD_2[\u001b[38;5;124m'\u001b[39m\u001b[38;5;124mPreco\u001b[39m\u001b[38;5;124m'\u001b[39m])\n",
      "\u001b[1;31mNameError\u001b[0m: name 'db_USD_2' is not defined"
     ]
    },
    {
     "data": {
      "text/plain": [
       "<Figure size 1440x864 with 0 Axes>"
      ]
     },
     "metadata": {},
     "output_type": "display_data"
    }
   ],
   "source": [
    "import matplotlib.pyplot as plt\n",
    "\n",
    "# Gráfico da série temporal de preços\n",
    "plt.figure(figsize=(20,12))\n",
    "plt.plot(db_USD_2['Data_base'], db_USD_2['Preco'])"
   ]
  },
  {
   "cell_type": "code",
   "execution_count": 7,
   "id": "e2388b05",
   "metadata": {
    "ExecuteTime": {
     "end_time": "2023-05-29T21:04:50.276178Z",
     "start_time": "2023-05-29T21:04:50.236942Z"
    }
   },
   "outputs": [
    {
     "ename": "NameError",
     "evalue": "name 'db_USD_2' is not defined",
     "output_type": "error",
     "traceback": [
      "\u001b[1;31m---------------------------------------------------------------------------\u001b[0m",
      "\u001b[1;31mNameError\u001b[0m                                 Traceback (most recent call last)",
      "Input \u001b[1;32mIn [7]\u001b[0m, in \u001b[0;36m<cell line: 4>\u001b[1;34m()\u001b[0m\n\u001b[0;32m      1\u001b[0m \u001b[38;5;66;03m# Gráfico da série temporal de retornos relativos\u001b[39;00m\n\u001b[0;32m      2\u001b[0m \u001b[38;5;66;03m# essa série é centrada no zero, diferente dos preços\u001b[39;00m\n\u001b[0;32m      3\u001b[0m plt\u001b[38;5;241m.\u001b[39mfigure(figsize\u001b[38;5;241m=\u001b[39m(\u001b[38;5;241m20\u001b[39m,\u001b[38;5;241m12\u001b[39m))\n\u001b[1;32m----> 4\u001b[0m plt\u001b[38;5;241m.\u001b[39mplot(\u001b[43mdb_USD_2\u001b[49m[\u001b[38;5;124m'\u001b[39m\u001b[38;5;124mData_base\u001b[39m\u001b[38;5;124m'\u001b[39m], db_USD_2[\u001b[38;5;124m'\u001b[39m\u001b[38;5;124mRetorno_Relativo\u001b[39m\u001b[38;5;124m'\u001b[39m])\n",
      "\u001b[1;31mNameError\u001b[0m: name 'db_USD_2' is not defined"
     ]
    },
    {
     "data": {
      "text/plain": [
       "<Figure size 1440x864 with 0 Axes>"
      ]
     },
     "metadata": {},
     "output_type": "display_data"
    }
   ],
   "source": [
    "# Gráfico da série temporal de retornos relativos\n",
    "# essa série é centrada no zero, diferente dos preços\n",
    "plt.figure(figsize=(20,12))\n",
    "plt.plot(db_USD_2['Data_base'], db_USD_2['Retorno_Relativo'])"
   ]
  },
  {
   "cell_type": "markdown",
   "id": "2e6a7899",
   "metadata": {},
   "source": [
    "## Definições Formais\n",
    "\n",
    "Sejam:\n",
    "\n",
    "- $P_t$: o preço no instante $t$;\n",
    "- $R^{Abs}_t$: o retorno absoluto;\n",
    "- $R^{Rel}_t$: o retorno relativo;\n",
    "\n",
    "Podemos calcular os retornos como:\n",
    "\n",
    "$$ R^{Abs}_t = P_t - P_{t-1} $$ \n",
    "\n",
    "$$ R^{Rel}_t = \\frac{P_t  - P_{t-1}}{P_{t-1}} $$\n",
    "\n",
    "Ou:\n",
    "\n",
    "$$ R^{Rel}_t = \\frac{R^{Abs}_t}{P_{t-1}} $$\n",
    "\n",
    "Ou:\n",
    "\n",
    "$$ R^{Rel}_t = \\frac{P_t}{P_{t-1}} - 1$$\n",
    "\n",
    "Também podemos calcular o retorno logaritmo, ou log-Retorno:\n",
    "\n",
    "$$ r^{Rel}_t = ln\\frac{P_t}{P_{t-1}}$$"
   ]
  },
  {
   "cell_type": "code",
   "execution_count": 8,
   "id": "8b31659a",
   "metadata": {
    "ExecuteTime": {
     "end_time": "2023-05-29T21:05:20.272763Z",
     "start_time": "2023-05-29T21:05:20.239233Z"
    }
   },
   "outputs": [
    {
     "ename": "NameError",
     "evalue": "name 'db_USD_2' is not defined",
     "output_type": "error",
     "traceback": [
      "\u001b[1;31m---------------------------------------------------------------------------\u001b[0m",
      "\u001b[1;31mNameError\u001b[0m                                 Traceback (most recent call last)",
      "Input \u001b[1;32mIn [8]\u001b[0m, in \u001b[0;36m<cell line: 5>\u001b[1;34m()\u001b[0m\n\u001b[0;32m      1\u001b[0m \u001b[38;5;28;01mimport\u001b[39;00m \u001b[38;5;21;01mnumpy\u001b[39;00m \u001b[38;5;28;01mas\u001b[39;00m \u001b[38;5;21;01mnp\u001b[39;00m\n\u001b[0;32m      3\u001b[0m \u001b[38;5;66;03m# Cálculo de log-retorno\u001b[39;00m\n\u001b[0;32m      4\u001b[0m \u001b[38;5;66;03m# Primeiro calculo P_t/P_(t-1)\u001b[39;00m\n\u001b[1;32m----> 5\u001b[0m db_USD_2[\u001b[38;5;124m'\u001b[39m\u001b[38;5;124mlog-Ret_1d\u001b[39m\u001b[38;5;124m'\u001b[39m] \u001b[38;5;241m=\u001b[39m \u001b[43mdb_USD_2\u001b[49m[\u001b[38;5;124m'\u001b[39m\u001b[38;5;124mPreco\u001b[39m\u001b[38;5;124m'\u001b[39m]\u001b[38;5;241m/\u001b[39mdb_USD_2[\u001b[38;5;124m'\u001b[39m\u001b[38;5;124mPreco\u001b[39m\u001b[38;5;124m'\u001b[39m]\u001b[38;5;241m.\u001b[39mshift(\u001b[38;5;241m1\u001b[39m)\n\u001b[0;32m      6\u001b[0m \u001b[38;5;66;03m# Depois aplico o log no resultado acima\u001b[39;00m\n\u001b[0;32m      7\u001b[0m db_USD_2[\u001b[38;5;124m'\u001b[39m\u001b[38;5;124mlog-Ret_1d\u001b[39m\u001b[38;5;124m'\u001b[39m] \u001b[38;5;241m=\u001b[39m db_USD_2[\u001b[38;5;124m'\u001b[39m\u001b[38;5;124mlog-Ret_1d\u001b[39m\u001b[38;5;124m'\u001b[39m]\u001b[38;5;241m.\u001b[39mapply(\u001b[38;5;28;01mlambda\u001b[39;00m x: np\u001b[38;5;241m.\u001b[39mlog(x)) \n",
      "\u001b[1;31mNameError\u001b[0m: name 'db_USD_2' is not defined"
     ]
    }
   ],
   "source": [
    "import numpy as np\n",
    "\n",
    "# Cálculo de log-retorno\n",
    "# Primeiro calculo P_t/P_(t-1)\n",
    "db_USD_2['log-Ret_1d'] = db_USD_2['Preco']/db_USD_2['Preco'].shift(1)\n",
    "# Depois aplico o log no resultado acima\n",
    "db_USD_2['log-Ret_1d'] = db_USD_2['log-Ret_1d'].apply(lambda x: np.log(x)) \n",
    "\n",
    "# Essa série também é centrada no zero e, como os retornos relativos são pequenos (centrados no zero, entre -2% e 3%), \n",
    "# o log-retorno fica bem parecido - mas não é igual!\n",
    "db_USD_2"
   ]
  },
  {
   "cell_type": "code",
   "execution_count": 9,
   "id": "7e49af5d",
   "metadata": {
    "ExecuteTime": {
     "end_time": "2023-05-29T21:05:26.654934Z",
     "start_time": "2023-05-29T21:05:26.613161Z"
    }
   },
   "outputs": [
    {
     "ename": "NameError",
     "evalue": "name 'db_USD' is not defined",
     "output_type": "error",
     "traceback": [
      "\u001b[1;31m---------------------------------------------------------------------------\u001b[0m",
      "\u001b[1;31mNameError\u001b[0m                                 Traceback (most recent call last)",
      "Input \u001b[1;32mIn [9]\u001b[0m, in \u001b[0;36m<cell line: 4>\u001b[1;34m()\u001b[0m\n\u001b[0;32m      1\u001b[0m \u001b[38;5;66;03m# Gráfico da série dos log-retornos de 1 dia\u001b[39;00m\n\u001b[0;32m      2\u001b[0m \u001b[38;5;66;03m# É bem parecido com os retornos relativos, pois os valores são próximos de zero (-2% a 3%)\u001b[39;00m\n\u001b[0;32m      3\u001b[0m plt\u001b[38;5;241m.\u001b[39mfigure(figsize\u001b[38;5;241m=\u001b[39m(\u001b[38;5;241m20\u001b[39m,\u001b[38;5;241m12\u001b[39m))\n\u001b[1;32m----> 4\u001b[0m plt\u001b[38;5;241m.\u001b[39mplot(\u001b[43mdb_USD\u001b[49m[\u001b[38;5;124m'\u001b[39m\u001b[38;5;124mData_base\u001b[39m\u001b[38;5;124m'\u001b[39m], db_USD[\u001b[38;5;124m'\u001b[39m\u001b[38;5;124mlog-Ret_1d\u001b[39m\u001b[38;5;124m'\u001b[39m])\n",
      "\u001b[1;31mNameError\u001b[0m: name 'db_USD' is not defined"
     ]
    },
    {
     "data": {
      "text/plain": [
       "<Figure size 1440x864 with 0 Axes>"
      ]
     },
     "metadata": {},
     "output_type": "display_data"
    }
   ],
   "source": [
    "# Gráfico da série dos log-retornos de 1 dia\n",
    "# É bem parecido com os retornos relativos, pois os valores são próximos de zero (-2% a 3%)\n",
    "plt.figure(figsize=(20,12))\n",
    "plt.plot(db_USD['Data_base'], db_USD['log-Ret_1d'])"
   ]
  },
  {
   "cell_type": "code",
   "execution_count": 10,
   "id": "3da5268d",
   "metadata": {
    "ExecuteTime": {
     "end_time": "2023-05-29T21:05:34.566856Z",
     "start_time": "2023-05-29T21:05:34.558309Z"
    }
   },
   "outputs": [
    {
     "ename": "SyntaxError",
     "evalue": "invalid syntax (1919709156.py, line 7)",
     "output_type": "error",
     "traceback": [
      "\u001b[1;36m  Input \u001b[1;32mIn [10]\u001b[1;36m\u001b[0m\n\u001b[1;33m    ret1 = 10% # retorno do primeiro dia\u001b[0m\n\u001b[1;37m               ^\u001b[0m\n\u001b[1;31mSyntaxError\u001b[0m\u001b[1;31m:\u001b[0m invalid syntax\n"
     ]
    }
   ],
   "source": [
    "# Dada uma série de retornos diários, como calcular o retorno acumulado de um período maior?\n",
    "# Há duas formas:\n",
    "# 1. Por retorno relativo simples\n",
    "\n",
    "# Exemplo acumulando os retornos por 2 dias\n",
    "P1 =  100 # Preço original\n",
    "ret1 = 10% # retorno do primeiro dia\n",
    "ret2 = -10% # retorno do segundo dia\n",
    "\n",
    "P2 = 110 = 100 + 10% # Preço dps de 1 dia (aplica-se o primeiro retorno)\n",
    "P3 = 110 - 11 = 99 # Preço dps de mais um dia, a partir do preço anterior P2\n",
    "\n",
    "# A conta a ser feita é compor os retornos (semelhante a juros compostos)\n",
    "P3 = P1*(1 + ret1)*(1 + ret2) "
   ]
  },
  {
   "cell_type": "code",
   "execution_count": 11,
   "id": "a147a56b",
   "metadata": {
    "ExecuteTime": {
     "end_time": "2023-05-29T21:05:41.568008Z",
     "start_time": "2023-05-29T21:05:41.556468Z"
    }
   },
   "outputs": [
    {
     "data": {
      "text/plain": [
       "99.00000000000001"
      ]
     },
     "execution_count": 11,
     "metadata": {},
     "output_type": "execute_result"
    }
   ],
   "source": [
    "# 2. Por log-retornos: fica mais fácil, pois basta somar os log-retornos, com auxílio de uma transformação\n",
    "# convertemos todos os retornos para log-retornos\n",
    "# no fim, retiramos o log, aplicando o exp\n",
    "\n",
    "import numpy as np\n",
    "P1 =  100 # preço original\n",
    "ret1 = 0.10 # Primeiro retorno simples\n",
    "ret2 = -0.10 # segundo retorno simples\n",
    "logret1 = np.log(110/100) # primeiro log-retorno\n",
    "logret2 = np.log(99/110) # segundo log-retorno\n",
    "\n",
    "# conta anterior por retorno simples\n",
    "# P3 = P1*(1 + ret1)*(1 + ret2)\n",
    "#P3\n",
    "\n",
    "# P1 * e^(soma dos log-retornos do período)\n",
    "\n",
    "# Conta por log-retornos:\n",
    "P3 = P1*np.exp(logret1 + logret2)\n",
    "\n",
    "# Chega no mesmo resultado\n",
    "P3"
   ]
  },
  {
   "cell_type": "code",
   "execution_count": 12,
   "id": "a6378735",
   "metadata": {
    "ExecuteTime": {
     "end_time": "2023-05-29T21:05:49.557034Z",
     "start_time": "2023-05-29T21:05:49.525218Z"
    }
   },
   "outputs": [
    {
     "ename": "NameError",
     "evalue": "name 'db_USD_2' is not defined",
     "output_type": "error",
     "traceback": [
      "\u001b[1;31m---------------------------------------------------------------------------\u001b[0m",
      "\u001b[1;31mNameError\u001b[0m                                 Traceback (most recent call last)",
      "Input \u001b[1;32mIn [12]\u001b[0m, in \u001b[0;36m<cell line: 4>\u001b[1;34m()\u001b[0m\n\u001b[0;32m      1\u001b[0m \u001b[38;5;66;03m# Retornos esperados\u001b[39;00m\n\u001b[0;32m      2\u001b[0m \n\u001b[0;32m      3\u001b[0m \u001b[38;5;66;03m# Simples\u001b[39;00m\n\u001b[1;32m----> 4\u001b[0m media1 \u001b[38;5;241m=\u001b[39m \u001b[43mdb_USD_2\u001b[49m[\u001b[38;5;124m'\u001b[39m\u001b[38;5;124mlog-Ret_1d\u001b[39m\u001b[38;5;124m'\u001b[39m]\u001b[38;5;241m.\u001b[39mmean()\n\u001b[0;32m      6\u001b[0m \u001b[38;5;66;03m#log-retorno esperado\u001b[39;00m\n\u001b[0;32m      7\u001b[0m media2 \u001b[38;5;241m=\u001b[39m db_USD_2[\u001b[38;5;124m'\u001b[39m\u001b[38;5;124mRetorno_Relativo\u001b[39m\u001b[38;5;124m'\u001b[39m]\u001b[38;5;241m.\u001b[39mmean()\n",
      "\u001b[1;31mNameError\u001b[0m: name 'db_USD_2' is not defined"
     ]
    }
   ],
   "source": [
    "# Retornos esperados\n",
    "\n",
    "# Simples\n",
    "media1 = db_USD_2['log-Ret_1d'].mean()\n",
    "\n",
    "#log-retorno esperado\n",
    "media2 = db_USD_2['Retorno_Relativo'].mean()\n",
    "\n",
    "print(f'Média log-retorno: {media1*100}% e média retorno: {media2*100}%')"
   ]
  },
  {
   "cell_type": "markdown",
   "id": "2f52c215",
   "metadata": {},
   "source": [
    "## Observação\n",
    "\n",
    "Muitas vezes, ao calcular retornos de preços de ações, é comum considerar os dividendos pagos em cada instante e, portanto, pode ser necessário realizar o seguinte ajuste:\n",
    "\n",
    "$$P_t = P^{Orig}_t + D_t$$\n",
    "\n",
    "Onde $D_t$ representa os dividendos pagos no instante $t$.\n"
   ]
  },
  {
   "cell_type": "markdown",
   "id": "e0ccc1cb",
   "metadata": {},
   "source": [
    "## Carteira Composta\n",
    "\n",
    "O retorno esperado de uma **carteira composta** por mais de um ativo é definido pela média ponderada do retorno de cada ativo em relação a sua participação no total da carteira.\n",
    "\n",
    "$$ E[R_P] = \\sum_{i=1}^n R_i \\cdot W_i $$\n",
    "\n",
    "Onde:\n",
    "- $R_i$ é o retorno esperado do ativo $i$\n",
    "- $W_i$ é a quantidade do ativo $i$ na carteira $P$, que pode ser dada em percentual ou em valor financeiro.\n"
   ]
  },
  {
   "cell_type": "markdown",
   "id": "985049eb",
   "metadata": {},
   "source": [
    "**Exemplo 2**\n",
    "\n",
    "*Suponha que você possui uma carteira com a seguinte relação de ativos:*\n",
    "\n",
    "| Ativo | Quantidade | Retorno esperado|\n",
    "|-------|------------|-----------------|\n",
    "|Ação A | R\\\\$ 1.000,00| 25\\%\n",
    "|Moeda B| R\\\\$ 5.000,00| 10\\% \n",
    "|Ação C | R\\\\$ 3.000,00| 15\\%\n",
    "\n",
    "*Qual é o retorno esperado da carteira?*\n",
    "\n",
    "$$ E[R_P] = 1.000,00 \\cdot 25\\% + 5.000,00 \\cdot 10\\% +  3.000,00 \\cdot 15\\% $$\n",
    "\n",
    "$$ E[R_P] = R\\$ 1.200,00 $$\n",
    "\n",
    "O retorno financeiro esperado é de R\\\\$1.200,00."
   ]
  },
  {
   "cell_type": "code",
   "execution_count": 13,
   "id": "f5cd812b",
   "metadata": {
    "ExecuteTime": {
     "end_time": "2023-05-29T21:06:43.830049Z",
     "start_time": "2023-05-29T21:06:43.811957Z"
    }
   },
   "outputs": [
    {
     "data": {
      "text/plain": [
       "0.13333333333333333"
      ]
     },
     "execution_count": 13,
     "metadata": {},
     "output_type": "execute_result"
    }
   ],
   "source": [
    "# Calcular o retorno da carteira em percentual\n",
    "ret_A = 0.25\n",
    "ret_B = 0.1\n",
    "ret_C = 0.15\n",
    "\n",
    "# Forma 1:\n",
    "# Converter as qtdes em percentual da carteira\n",
    "perc_A = 1000/9000\n",
    "perc_B = 5000/9000\n",
    "perc_C = 3000/9000\n",
    "\n",
    "# Calcular pela mesma fórmula acima, mas usando os percentuais, ao invés do valor financeiro\n",
    "ret_esp_P = perc_A*ret_A + perc_B*ret_B + perc_C*ret_C\n",
    "ret_esp_P"
   ]
  },
  {
   "cell_type": "code",
   "execution_count": 14,
   "id": "42e732aa",
   "metadata": {
    "ExecuteTime": {
     "end_time": "2023-05-29T21:06:49.946891Z",
     "start_time": "2023-05-29T21:06:49.936972Z"
    }
   },
   "outputs": [
    {
     "data": {
      "text/plain": [
       "0.13333333333333333"
      ]
     },
     "execution_count": 14,
     "metadata": {},
     "output_type": "execute_result"
    }
   ],
   "source": [
    "# Segunda forma\n",
    "# Retorno financeiro da carteira para retorno relativo\n",
    "# Calcula o retorno financeiro da carteira (fórmula apresentada no início)\n",
    "ret_fin_P = 1200\n",
    "valor_P = 9000\n",
    "\n",
    "# Divide este retorno pelo valor da carteira total\n",
    "ret_fin_P = ret_fin_P/valor_P\n",
    "# Retorno percentual da carteira\n",
    "ret_fin_P"
   ]
  },
  {
   "cell_type": "markdown",
   "id": "9d95d2c2",
   "metadata": {},
   "source": [
    "# Risco\n",
    "Capacidade de se mensurar o estado de incerteza de\n",
    "uma decisão mediante o conhecimento das probabilidades\n",
    "de ocorrência de determinados resultados.\n",
    "\n",
    "Todo ativo possui duas componentes de riscos:\n",
    "\n",
    "- **Risco sistemático** (não diversificável): É inerente a todos os ativos e determinado por eventos externos à empresa e não pode ser eliminado pela diversificação.\n",
    "- **Risco não sistemático** (diversificável): Identificado nas características do próprio ativo\n",
    "(intrínseco) e pode ser total ou parcialmente diluído pela diversificação da carteira.\n",
    "\n",
    "**Risco Total = Risco Sistemático + Risco Não Sistemático**\n",
    "\n",
    "O risco é mensurado por medidas de dispersão, como desvio padrão ou variância e possui uma forte relação com o conceito de **volatilidade**.\n",
    "\n",
    "\n",
    "Volatilidade representa uma variação e há inúmeras formas de mensurar ou projetar esta característica de um ativo ou um portfólio. Há três enfoques para o cálculo de volatilidades:\n",
    "\n",
    "1. Uma maneira é equacionar um preço de mercado observado com o preço modelado de uma opção. Obtemos o que se chama **volatilidade implícita**, que usualmente é baseada na fórmula de Black-Scholes para opções européias. Essa fórmula supõe normalidade dos preços e volatilidade constante.\n",
    "\n",
    "2. Outra maneira é modelar diretamente a volatilidade da série de retornos, usando alguma família, como a dos modelos ARCH; obtemos a chamada **volatilidade estatística**.\n",
    "\n",
    "3. Uma alternativa é modelar a volatilidade por meio de uma média de uma função dos últimos *k* retornos, digamos. Obtemos o que se chama de **volatilidade histórica**. Podemos considerar os quadrados dos retornos ou os valores absolutos dos retornos nesta média móvel.\n",
    "}\n",
    "Os valores obtidos pelas diversas abordagens acima descritas podem ser muito diferentes. De qualquer modo, a volatilidade é uma medida de variabilidade de preços de ativos, e normalmente é difícil prever variações de preços.\n",
    "\n",
    "Quando possuímos os dados históricos, é comum mensurarmos o risco utilizando o cálculo de desvio padrão da amostra disponível.\n",
    "\n",
    "\n",
    "Seja:\n",
    "\n",
    "$$ \\mu = E[R] = \\frac{1}{N} \\sum_{t=1}^{N} R_t $$\n",
    "\n",
    "O retorno médio do ativo. O desvio padrão de um ativo calculado a partir de uma amostra de preços ou retornos é calculado da seguinte forma:\n",
    "\n",
    "$$ \\sigma_t = \\sqrt{\\sum_{i=1}^n(R_t - E[R])^2} $$\n",
    "\n",
    "Onde:\n",
    "- $R_t$ é o retorno do ativo na data $t$;\n",
    "- $E[R]$ é o retorno médio do ativo.\n",
    "\n",
    "Um modelo típico para a volatilidade é da forma:\n",
    "\n",
    "$$ R_t = \\mu_t + \\sigma_t \\cdot \\epsilon_t $$"
   ]
  },
  {
   "cell_type": "markdown",
   "id": "b2639705",
   "metadata": {},
   "source": [
    "**Exemplo 3**\n",
    "\n",
    "Voltando aos dados do investimento no exemplo 1:\n",
    "\n",
    "| Dia | Preço|\n",
    "|-----|------|\n",
    "|1 | R\\\\$ 10,00|\n",
    "|2 | R\\\\$ 15,00|\n",
    "|3 | R\\\\$  8,00|\n",
    "\n",
    "O retorno esperado é:\n",
    "\n",
    "$$ E[R] = (10 + 15 + 8) / 3 $$\n",
    "\n",
    "$$ E[R] = 11,00 $$\n",
    "\n",
    "O desvio será dado por:\n",
    "\n",
    "$$ \\sigma^2 = (10 - 11)^2 + (15 - 11)^2 + (8 - 11)^2 = 26$$\n",
    "\n",
    "$$ \\sigma = \\sqrt 26 = 5,099 $$"
   ]
  },
  {
   "cell_type": "code",
   "execution_count": 15,
   "id": "3be22b54",
   "metadata": {
    "ExecuteTime": {
     "end_time": "2023-05-29T21:07:27.328860Z",
     "start_time": "2023-05-29T21:07:27.316221Z"
    }
   },
   "outputs": [
    {
     "name": "stdout",
     "output_type": "stream",
     "text": [
      "Esperança: 11.0, Variância: 26.0, Desvio padrão: 5.1\n"
     ]
    }
   ],
   "source": [
    "p1 = 10\n",
    "p2 = 15\n",
    "p3 = 8\n",
    "\n",
    "esp = (p1 + p2 + p3) / 3\n",
    "\n",
    "sigma_quad = (p1 - esp)**2 + (p2 - esp)**2 + (p3 - esp)**2\n",
    "\n",
    "sigma = np.sqrt(sigma_quad)\n",
    "print(f'Esperança: {esp}, Variância: {sigma_quad}, Desvio padrão: {round(sigma, 2)}')"
   ]
  },
  {
   "cell_type": "markdown",
   "id": "232c6526",
   "metadata": {},
   "source": [
    "# Aversão ao Risco e Seleção Racional\n",
    "As decisões de investimento em situação de incerteza deve considerar as preferências do investidor em relação ao conflito risco/retorno.\n",
    "\n",
    "É esperado que o investidor defina como objetivo maximizar sua utilidade esperada (satisfação proporcionada pelo consumo de determinado bem). Ao comparar alternativas é possível construir escalas de preferências, representadas pelas **curvas de indiferença**.\n",
    "\n",
    "A curva de indiferença representa a escala de preferência do investidor diante do conflito risco/retorno.\n",
    "\n",
    "Qualquer combinação inserida sobre a curva de\n",
    "indiferença é igualmente desejável.\n",
    "\n",
    "![Curvas de aversão ao risco - investidores agressivos](Imagens/07_01_Curva_Aversao.JPG)\n",
    "\n",
    "Representam investidores com perfil mais agressivo, que aceitam mais risco.\n",
    "\n",
    "![Curvas de aversão ao risco - investidores conservadores](Imagens/07_02_Curva_Aversao.JPG)\n",
    "\n",
    "Representam investidores com maior aversão ao risco, perfil mais conservador.\n",
    "\n",
    "![Curvas de aversão ao risco - investidores sem aversão a risco](Imagens/07_03_Curva_Aversao.JPG)\n",
    "\n",
    "À esquerda: mesmo retorno para qualquer nível de risco. À direita: mesmo risco para qualquer nível de retorno.\n",
    "\n",
    "A **seleção racional** consiste na decisão de buscar o maior retorno esperado para o mais baixo grau de risco.\n",
    "\n",
    "![Curvas de aversão ao risco - investidores sem aversão a risco](Imagens/07_04_Seleção_Racional.JPG)\n"
   ]
  },
  {
   "cell_type": "markdown",
   "id": "5f4b98cc",
   "metadata": {},
   "source": [
    "# Diversificação\n",
    "A ideia fundamental da diversificação é que o risco particular de um ativo é diferente de seu risco quando mantido em carteira. Uma grande vantagem das carteiras é que elas permitem que se reduza o risco mediante um processo de diversificação dos ativos que a compõem.\n",
    "\n",
    "![Curvas de aversão ao risco - investidores sem aversão a risco](Imagens/07_05_Diversificação.JPG)\n",
    "\n",
    "- Quanto maior a quantidade de ativos na carteira, menor o risco, compensando o risco não sistemático de um ativo com outros.\n",
    "- A partir de certo número de ativos na carteira, o risco se mantém estável, devido à parte não diversificável (risco sistemático).\n",
    "\n",
    "Para o cálculo do risco de um portfólio, é necessário levar em consideração não somente a participação e o risco de cada ativo individualmente, mas também como os ativos se correlacionam.\n"
   ]
  },
  {
   "cell_type": "markdown",
   "id": "e92b0686",
   "metadata": {},
   "source": [
    "**Exemplo 4**\n",
    "\n",
    "Se possuirmos dois ativos com correlação perfeitamente negativa, ou seja, quando o valor de um aumenta, o outro diminui na mesma magnitude, como mostrado na figura abaixo:\n",
    "\n",
    "![Curvas de aversão ao risco - investidores sem aversão a risco](Imagens/07_06_Correl_Negativa.JPG)\n",
    "\n",
    "Neste caso, o retorno da carteira será constante. E não havendo variação, não há risco.\n",
    "\n",
    "Num cenário oposto, em que são compostos dois ativos com correlação fortemente positiva, ambos aumentam ou decrescem ao mesmo tempo, ampliando a magnitude dos ganhos e das perdas da carteira. \n",
    "\n",
    "![Curvas de aversão ao risco - investidores sem aversão a risco](Imagens/07_07_Correl_Positiva.JPG)\n",
    "\n",
    "Neste caso, temos como resultado uma carteira com maior variação e, portanto, maior risco.\n"
   ]
  },
  {
   "cell_type": "markdown",
   "id": "bdf4074f",
   "metadata": {},
   "source": [
    "# Risco de  um Portfólio\n",
    "Sabendo que o risco de um portfólio com mais de um ativo deve considerar, além da variação (ou desvio padrão) de cada ativo, a correlação entre eles, podemos definir formalmente o cálculo considerando estas variáveis.\n",
    "\n",
    "O risco de um portfólio com dois ativos pode ser mensurado de acordo com a seguinte definição:\n",
    "\n",
    "$$ \\sigma_P = \\sqrt{(W_A^2 \\cdot \\sigma_A^2) + (W_B^2 \\cdot \\sigma_B^2) + 2 \\cdot W_A \\cdot W_b \\cdot Cov_{A,B}} $$\n",
    "\n",
    "Onde:\n",
    "\n",
    "- $W_i$: percentual da carteira aplicado no ativo *i*;\n",
    "- $\\sigma^2_i$: variância dos retornos do ativo *i*;\n",
    "- $COV_{A,B}$: covariância entre os ativos A e B.\n",
    "\n",
    "\n",
    "A covariância pode ser calculada e função dos desvios padrão dos ativos e da correlação entre eles:\n",
    "\n",
    "$$ COV_{A,B} = \\rho_{A,B} \\cdot \\sigma_A \\cdot \\sigma_B $$\n",
    "\n",
    "A generalização para o desvio padrão de uma carteira com *n* ativos é:\n",
    "\n",
    "$$ \\sigma_P = \\sqrt{ \\sum_{i=1}^{N} \\sum_{j=1}^{N} W_i \\cdot W_j \\cdot Cov_{i,i}} $$\n",
    "\n",
    "Ou:\n",
    "\n",
    "$$ \\sigma_P = \\sqrt{ \\sum_{i=1}^{N} \\sum_{j=1}^{N} W_i \\cdot W_j \\cdot \\rho_{i,j} \\cdot \\sigma_i \\cdot \\sigma_j } $$\n"
   ]
  },
  {
   "cell_type": "code",
   "execution_count": 16,
   "id": "f881b2ef",
   "metadata": {
    "ExecuteTime": {
     "end_time": "2023-05-29T21:09:24.484938Z",
     "start_time": "2023-05-29T21:09:23.052207Z"
    }
   },
   "outputs": [
    {
     "ename": "ConnectionError",
     "evalue": "ERR#0015: error 403, try again later.",
     "output_type": "error",
     "traceback": [
      "\u001b[1;31m---------------------------------------------------------------------------\u001b[0m",
      "\u001b[1;31mConnectionError\u001b[0m                           Traceback (most recent call last)",
      "Input \u001b[1;32mIn [16]\u001b[0m, in \u001b[0;36m<cell line: 8>\u001b[1;34m()\u001b[0m\n\u001b[0;32m      6\u001b[0m df_curncy \u001b[38;5;241m=\u001b[39m pd\u001b[38;5;241m.\u001b[39mDataFrame()\n\u001b[0;32m      8\u001b[0m \u001b[38;5;28;01mfor\u001b[39;00m idx, i \u001b[38;5;129;01min\u001b[39;00m \u001b[38;5;28menumerate\u001b[39m(curncy):\n\u001b[1;32m----> 9\u001b[0m     db \u001b[38;5;241m=\u001b[39m \u001b[43minv\u001b[49m\u001b[38;5;241;43m.\u001b[39;49m\u001b[43mcurrency_crosses\u001b[49m\u001b[38;5;241;43m.\u001b[39;49m\u001b[43mget_currency_cross_historical_data\u001b[49m\u001b[43m(\u001b[49m\u001b[43mi\u001b[49m\u001b[43m,\u001b[49m\n\u001b[0;32m     10\u001b[0m \u001b[43m                                                                 \u001b[49m\u001b[38;5;124;43m'\u001b[39;49m\u001b[38;5;124;43m01/01/2015\u001b[39;49m\u001b[38;5;124;43m'\u001b[39;49m\u001b[43m,\u001b[49m\n\u001b[0;32m     11\u001b[0m \u001b[43m                                                                 \u001b[49m\u001b[38;5;124;43m'\u001b[39;49m\u001b[38;5;124;43m31/12/2021\u001b[39;49m\u001b[38;5;124;43m'\u001b[39;49m\u001b[43m,\u001b[49m\n\u001b[0;32m     12\u001b[0m \u001b[43m                                                                 \u001b[49m\u001b[43mas_json\u001b[49m\u001b[38;5;241;43m=\u001b[39;49m\u001b[38;5;28;43;01mFalse\u001b[39;49;00m\u001b[43m,\u001b[49m\n\u001b[0;32m     13\u001b[0m \u001b[43m                                                                 \u001b[49m\u001b[43morder\u001b[49m\u001b[38;5;241;43m=\u001b[39;49m\u001b[38;5;124;43m'\u001b[39;49m\u001b[38;5;124;43mascending\u001b[39;49m\u001b[38;5;124;43m'\u001b[39;49m\u001b[43m,\u001b[49m\n\u001b[0;32m     14\u001b[0m \u001b[43m                                                                 \u001b[49m\u001b[43minterval\u001b[49m\u001b[38;5;241;43m=\u001b[39;49m\u001b[38;5;124;43m'\u001b[39;49m\u001b[38;5;124;43mDaily\u001b[39;49m\u001b[38;5;124;43m'\u001b[39;49m\u001b[43m)\u001b[49m\n\u001b[0;32m     15\u001b[0m     db\u001b[38;5;241m.\u001b[39mreset_index(drop\u001b[38;5;241m=\u001b[39m\u001b[38;5;28;01mFalse\u001b[39;00m, inplace\u001b[38;5;241m=\u001b[39m\u001b[38;5;28;01mTrue\u001b[39;00m)\n\u001b[0;32m     16\u001b[0m     db \u001b[38;5;241m=\u001b[39m db\u001b[38;5;241m.\u001b[39mloc[:,[\u001b[38;5;124m'\u001b[39m\u001b[38;5;124mDate\u001b[39m\u001b[38;5;124m'\u001b[39m, \u001b[38;5;124m'\u001b[39m\u001b[38;5;124mClose\u001b[39m\u001b[38;5;124m'\u001b[39m]]\n",
      "File \u001b[1;32m~\\AppData\\Local\\Programs\\Python\\Python310\\lib\\site-packages\\investpy\\currency_crosses.py:674\u001b[0m, in \u001b[0;36mget_currency_cross_historical_data\u001b[1;34m(currency_cross, from_date, to_date, as_json, order, interval)\u001b[0m\n\u001b[0;32m    671\u001b[0m req \u001b[38;5;241m=\u001b[39m requests\u001b[38;5;241m.\u001b[39mpost(url, headers\u001b[38;5;241m=\u001b[39mhead, data\u001b[38;5;241m=\u001b[39mparams)\n\u001b[0;32m    673\u001b[0m \u001b[38;5;28;01mif\u001b[39;00m req\u001b[38;5;241m.\u001b[39mstatus_code \u001b[38;5;241m!=\u001b[39m \u001b[38;5;241m200\u001b[39m:\n\u001b[1;32m--> 674\u001b[0m     \u001b[38;5;28;01mraise\u001b[39;00m \u001b[38;5;167;01mConnectionError\u001b[39;00m(\n\u001b[0;32m    675\u001b[0m         \u001b[38;5;124m\"\u001b[39m\u001b[38;5;124mERR#0015: error \u001b[39m\u001b[38;5;124m\"\u001b[39m \u001b[38;5;241m+\u001b[39m \u001b[38;5;28mstr\u001b[39m(req\u001b[38;5;241m.\u001b[39mstatus_code) \u001b[38;5;241m+\u001b[39m \u001b[38;5;124m\"\u001b[39m\u001b[38;5;124m, try again later.\u001b[39m\u001b[38;5;124m\"\u001b[39m\n\u001b[0;32m    676\u001b[0m     )\n\u001b[0;32m    678\u001b[0m \u001b[38;5;28;01mif\u001b[39;00m \u001b[38;5;129;01mnot\u001b[39;00m req\u001b[38;5;241m.\u001b[39mtext:\n\u001b[0;32m    679\u001b[0m     \u001b[38;5;28;01mcontinue\u001b[39;00m\n",
      "\u001b[1;31mConnectionError\u001b[0m: ERR#0015: error 403, try again later."
     ]
    }
   ],
   "source": [
    "import numpy as np\n",
    "import seaborn as sns\n",
    "\n",
    "\n",
    "curncy = ['BRL/USD', 'GBP/USD', 'CNY/USD', 'EUR/USD']#, 'JPY/USD']\n",
    "df_curncy = pd.DataFrame()\n",
    "\n",
    "for idx, i in enumerate(curncy):\n",
    "    db = inv.currency_crosses.get_currency_cross_historical_data(i,\n",
    "                                                                 '01/01/2015',\n",
    "                                                                 '31/12/2021',\n",
    "                                                                 as_json=False,\n",
    "                                                                 order='ascending',\n",
    "                                                                 interval='Daily')\n",
    "    db.reset_index(drop=False, inplace=True)\n",
    "    db = db.loc[:,['Date', 'Close']]\n",
    "    \n",
    "    db.columns =  ['Data', i]\n",
    "    if idx == 0:\n",
    "        df_curncy = db\n",
    "    else:\n",
    "        df_curncy[i] = db[i]\n",
    "\n",
    "df_curncy.set_index(['Data'], inplace=True)\n",
    "# df_curncy.dropna(how='any', axis=0, inplace=True)\n",
    "\n",
    "weights = np.ones(len(curncy))/len(curncy)\n",
    "\n",
    "df_curncy_port = df_curncy.dot(weights)\n",
    "\n",
    "df_curncy_port_ret = df_curncy_port.pct_change()[1:]\n",
    "df_curncy = df_curncy.pct_change()[1:]\n",
    "\n",
    "df_curncy_meanret = df_curncy.mean()\n",
    "df_curncy_meanret_port = df_curncy_port_ret.mean()\n",
    "\n",
    "df_curncy_cumret = (1 + df_curncy).cumprod()\n",
    "df_curncy_port_cumret = (1 + df_curncy_port_ret).cumprod()\n",
    "\n",
    "retorno_port = np.sum(weights * df_curncy_meanret)\n",
    "\n",
    "df_curncy_cov = df_curncy.cov() * 252 # Este produto é devido aos retornos serem diários (Dias Úteis), então precisamos\n",
    "                                      # anualizar a covariância\n",
    "# sns.heatmap(df_curncy.corr(), vmin=-1, vmax=1)\n",
    "\n",
    "portif_var = np.dot(weights.T, np.dot(df_curncy_cov, weights))\n",
    "portif_risco = np.sqrt(portif_var)\n",
    "\n",
    "print(f'Retorno portfolio: {round(retorno_port*100*np.sqrt(252), 4)}%, Risco portfolio: {round(portif_risco*100, 4)}%')"
   ]
  },
  {
   "cell_type": "code",
   "execution_count": 17,
   "id": "5bf49875",
   "metadata": {
    "ExecuteTime": {
     "end_time": "2023-05-29T21:09:29.887846Z",
     "start_time": "2023-05-29T21:09:29.859147Z"
    }
   },
   "outputs": [
    {
     "ename": "NameError",
     "evalue": "name 'df_curncy_port_cumret' is not defined",
     "output_type": "error",
     "traceback": [
      "\u001b[1;31m---------------------------------------------------------------------------\u001b[0m",
      "\u001b[1;31mNameError\u001b[0m                                 Traceback (most recent call last)",
      "Input \u001b[1;32mIn [17]\u001b[0m, in \u001b[0;36m<cell line: 2>\u001b[1;34m()\u001b[0m\n\u001b[0;32m      1\u001b[0m plt\u001b[38;5;241m.\u001b[39mfigure(figsize\u001b[38;5;241m=\u001b[39m(\u001b[38;5;241m20\u001b[39m,\u001b[38;5;241m12\u001b[39m))\n\u001b[1;32m----> 2\u001b[0m plt\u001b[38;5;241m.\u001b[39mplot(\u001b[43mdf_curncy_port_cumret\u001b[49m);\n\u001b[0;32m      3\u001b[0m plt\u001b[38;5;241m.\u001b[39mgrid(visible\u001b[38;5;241m=\u001b[39m\u001b[38;5;124m'\u001b[39m\u001b[38;5;124mon\u001b[39m\u001b[38;5;124m'\u001b[39m)\n\u001b[0;32m      4\u001b[0m plt\u001b[38;5;241m.\u001b[39mshow()\n",
      "\u001b[1;31mNameError\u001b[0m: name 'df_curncy_port_cumret' is not defined"
     ]
    },
    {
     "data": {
      "text/plain": [
       "<Figure size 1440x864 with 0 Axes>"
      ]
     },
     "metadata": {},
     "output_type": "display_data"
    }
   ],
   "source": [
    "plt.figure(figsize=(20,12))\n",
    "plt.plot(df_curncy_port_cumret);\n",
    "plt.grid(visible='on')\n",
    "plt.show()"
   ]
  }
 ],
 "metadata": {
  "kernelspec": {
   "display_name": "Python 3 (ipykernel)",
   "language": "python",
   "name": "python3"
  },
  "language_info": {
   "codemirror_mode": {
    "name": "ipython",
    "version": 3
   },
   "file_extension": ".py",
   "mimetype": "text/x-python",
   "name": "python",
   "nbconvert_exporter": "python",
   "pygments_lexer": "ipython3",
   "version": "3.10.2"
  },
  "latex_envs": {
   "LaTeX_envs_menu_present": true,
   "autoclose": false,
   "autocomplete": true,
   "bibliofile": "biblio.bib",
   "cite_by": "apalike",
   "current_citInitial": 1,
   "eqLabelWithNumbers": true,
   "eqNumInitial": 1,
   "hotkeys": {
    "equation": "Ctrl-E",
    "itemize": "Ctrl-I"
   },
   "labels_anchors": false,
   "latex_user_defs": false,
   "report_style_numbering": false,
   "user_envs_cfg": false
  },
  "toc": {
   "base_numbering": 1,
   "nav_menu": {},
   "number_sections": true,
   "sideBar": true,
   "skip_h1_title": false,
   "title_cell": "Table of Contents",
   "title_sidebar": "Contents",
   "toc_cell": false,
   "toc_position": {},
   "toc_section_display": true,
   "toc_window_display": false
  },
  "varInspector": {
   "cols": {
    "lenName": 16,
    "lenType": 16,
    "lenVar": 40
   },
   "kernels_config": {
    "python": {
     "delete_cmd_postfix": "",
     "delete_cmd_prefix": "del ",
     "library": "var_list.py",
     "varRefreshCmd": "print(var_dic_list())"
    },
    "r": {
     "delete_cmd_postfix": ") ",
     "delete_cmd_prefix": "rm(",
     "library": "var_list.r",
     "varRefreshCmd": "cat(var_dic_list()) "
    }
   },
   "types_to_exclude": [
    "module",
    "function",
    "builtin_function_or_method",
    "instance",
    "_Feature"
   ],
   "window_display": false
  }
 },
 "nbformat": 4,
 "nbformat_minor": 5
}
