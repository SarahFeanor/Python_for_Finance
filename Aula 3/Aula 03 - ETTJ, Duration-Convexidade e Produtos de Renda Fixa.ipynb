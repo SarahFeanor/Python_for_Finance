{
 "cells": [
  {
   "cell_type": "markdown",
   "id": "084d7497",
   "metadata": {},
   "source": [
    "# O Curso\n",
    "\n",
    "A ementa do curso foi desenhada e montada para termos o maior aproveitamento por parte do aluno, independente da sua base prévia de conhecimentos do mercado financeiro. O objetivo deste primeiro curso é introduzir os conceitos mais básicos sobre <b>finanças quantitativas</b>, que formarão a base dos conceitos usados em técnicas, modelos e estudos mais avançados. Aqui, abordaremos os seguintes tópicos:\n",
    "\n",
    "- <i>Aula 1: Introdução, Juros e Inflação</i>\n",
    "    - O objetivo desta aula é apresentar os conceitos de juros simples e juros compostos, suas diferenças e aplicações, assim como a formulação matemática que nos permite converter as diversas formas de juros em uma medida equivalente.\n",
    "    \n",
    "- <i>Aula 2: Introdução, Juros e Inflação</i>\n",
    "    - O objetivo desta aula é apresentar os conceitos de inflação e taxa de desconto, para que o aluno seja capaz de avaliar o juro real pago por um investimento.\n",
    "    \n",
    "- <i><b>Aula 3: ETTJ, Duration/Convexidade e Produtos de Renda Fixa</b></i>\n",
    "    - <b>O objetivo desta aula é compreender o que é uma Estrutura a Termo de Taxas de Juros (ETTJ) e qual a sua finalidade principal no mercado financeiro.</b>\n",
    "    \n",
    "- <i>Aula 4: ETTJ, Duration/Convexidade e Produtos de Renda Fixa</i>\n",
    "    - O objetivo desta aula é aprendermos as técnicas utilizadas para montarmos uma ETTJ com os insumos disponíveis no mercado.\n",
    "    \n",
    "- <i>Aula 5: ETTJ, Duration/Convexidade e Produtos de Renda Fixa</i>\n",
    "    - O objetivo desta aula é entender o conceito de <i>duration</i> e convexidade. Neste contexto, vamos aprender o que são estes conceitos e como calculamos eles no mercado.\n",
    "    \n",
    "- <i>Aula 6: ETTJ, Duration/Convexidade e Produtos de Renda Fixa</i>\n",
    "    - O objetivo desta aula é continuarmos explorando o conceito de duration e convexidade, mas em um cotnexto de exemplo prático. Vamos simular a aplicação deste conceito em uma tesouraria de banco, por exemplo (ALM).\n",
    "    \n",
    "- <i>Aula 7: Risco, Retorno e Métricas de Risco</i>\n",
    "    - O objetivo desta aula é entender o que significa, no contexto do Mercado Financeiro, o <i>risco</i> e o <i>retorno</i> que precisamos, tanto para gestão de risco de uma carteira, quanto para uma alocação correta dentro de um dado perfil de risco de uma carteira.\n",
    "    \n",
    "- <i>Aula 8: Risco, Retorno e Métricas de Risco</i>\n",
    "    - O objetivo desta aula é compreender os conceitos de <i>VaR</i> (<i>Value at Risk</i>) e <i>ES</i> (<i>Expected Shortfall</i>), que são duas métricas de risco clássicas e muito utilizadas na gestão de carteiras. Inclusive, estas métricas têm um caráter regulatório para bancos.\n",
    "    \n",
    "- <i>Aula 9: Risco, Retorno e Métricas de Risco</i>\n",
    "    - O objetivo desta aula é compreendermos a ideia de quebrar um produto - ou uma carteira - em <i>Fatores de Risco</i>. Também veremos o conceito de <i>Gregas</i>, porém sem um grande aprofundamento matemático, pois antes precisaríamos entender a matemática por trás dos <i>derivativos</i> - tal como a equação de <i>Black & Scholes.</i>\n",
    "    \n",
    "- <i>Aula 10: Projeto Final - Precificando uma NTN-F</i>\n",
    "    - O objetivo desta aula é utilizar os diversos conceitos passados durante o módulo para precificarmos uma NTN-F."
   ]
  },
  {
   "cell_type": "markdown",
   "id": "f50cf2f6",
   "metadata": {},
   "source": [
    "# O que é uma Estrutura a Termo de Taxas de Juros (ETTJ)?\n",
    "\n",
    "Uma <b>Estrutura a Termo de Taxas de Juros (ETTJ)</b> é uma representação gráfica ou uma função matemática que mostra a relação entre os prazos de vencimento e as taxas de juros de diferentes instrumentos financeiros de renda fixa. Essa estrutura é usada para visualizar como as taxas de juros variam ao longo do tempo e como essas variações podem afetar os preços dos títulos de dívida.\n",
    "\n",
    "A ETTJ é construída com base em dados reais do mercado, capturando as taxas de juros observadas em diferentes pontos no tempo para diferentes prazos de vencimento. Normalmente, as taxas de juros utilizadas na construção da ETTJ são aquelas de títulos do governo, como títulos do Tesouro, que são considerados ativos livres de risco.\n",
    "\n",
    "A curva da ETTJ pode assumir diferentes formatos, como sendo ascendente (curva normal), descendente (curva invertida) ou plana, refletindo as expectativas do mercado em relação às taxas de juros futuras. Geralmente, a ETTJ apresenta uma inclinação positiva, indicando que as taxas de juros de prazos mais longos são maiores do que as taxas de prazos mais curtos.\n",
    "\n",
    "A ETTJ é uma ferramenta fundamental para a precificação de instrumentos financeiros de renda fixa, como títulos e derivativos. Os investidores e analistas utilizam a ETTJ para estimar o valor presente dos fluxos de caixa futuros associados aos títulos, levando em consideração as expectativas de taxas de juros futuras. Além disso, a ETTJ também fornece insights sobre a política monetária, as condições econômicas e as expectativas do mercado, sendo uma importante referência para tomada de decisões de investimento e gerenciamento de riscos."
   ]
  },
  {
   "cell_type": "markdown",
   "id": "b693531b",
   "metadata": {
    "ExecuteTime": {
     "end_time": "2023-05-18T00:21:48.203362Z",
     "start_time": "2023-05-18T00:21:48.198353Z"
    }
   },
   "source": [
    "# Estrutura a Termo de Taxas de Juros (Curva de Juros)\n",
    "\n",
    "\n",
    "Vamos definir o título *zero-coupon* como um papel que paga exatamente 1 unidade monetária no seu vencimento.\n",
    "\n",
    "Suponha que $P(t,T)$ é o preço observado em $t$ de um título *zero-coupon* que paga 1 unidade monetária no vencimento $T$. Por possuir apenas 1 fluxo de caixa, podemos estabelecer uma relação direta entre seu preço e a taxa a ser aplicada no seu apreçamento.\n",
    "\n",
    "Se desejarmos obter uma taxa discreta, podemos utilizar a seguinte equação:\n",
    "\n",
    "$$ P(t,T) = \\frac{1}{(1 + r)^{(T-t)}} $$\n",
    "\n",
    "$$ r = \\bigg(\\frac{1}{P(t,T)}\\bigg)^{\\frac{1}{T-t}} - 1 $$\n",
    "\n",
    "Se desejarmos obter uma taxa contínua:\n",
    "\n",
    "$$ P(t,T) = e^{-r(T-t)} $$\n",
    "\n",
    "$$ r = -\\frac{ln (P(t,T))}{T-t}$$\n",
    "\n",
    "Para motivar o conceito da Estrutura a Termo da Taxa de Juros (ETTJ), vamos analisar os preços de referência divulgados pela ANBIMA para as LTNs de 17/01/2022, conforme figuras a seguir.\n",
    "\n",
    "![](Imagens\\16_02_LTN_PUs.png)\n",
    "**Figura 1** - Preços unitários (PUs) das LTNs por vencimento, na data base de 17/01/2022.\n",
    "\n",
    "\n",
    "É mais fácial interpretar o gráfico em relação às taxas implícitas para cada vencimento em vez de observar diretamente os preços.\n",
    "\n",
    "Na figura a seguir visualizamos a taxa implícita para cada movimento, que pode ser calculada a partir da segunda equação apresentada acima. Este gráfico representa a estrutura a termo de taxa de juros (ETTJ) para as LTNs.\n",
    "\n",
    "![](Imagens\\16_01_LTN_Taxas.png)\n",
    "**Figura 2** - Taxas das LTNs por vencimento, na data base de 17/01/2022.\n",
    "\n",
    "De forma conceitual, a ETTJ expressa a relação entre a taxa de juros e o tempo de maturidade de um ativo financeiro. Esta taxa é obtida com base nos preços dos ativos e derivativos negociados em mercado e, associada a uma dada maturidade $T$. Pode ser interpretada como o retorno de um título *zero-coupon* no vencimento $T$.\n",
    "\n",
    "A ETTJ mostra como o investidor se comporta com relação ao risco e, dessa forma, como as taxas de juros são influenciadas pela formação de expectativas dos agentes econômicos. Ao longo do tempo, a ETTJ pode oscilar de diferentes formas, em decorrência de choques diferenciados sobre as taxas de juros associadas a cada vencimento. Tal variabilidade temporal da ETTJ é que submete os instrumentos de renda fixa ao aarisco de mercado.\n",
    "\n",
    "O conhecimento sobre os preços dos títulos *zero-coupon* nos permite realizar o apreçamento de um título arbitrário com um número qualquer de fluxos de caixa, pois podemos enxergar este título genérico como sendo uma carteira de títulos *zero-coupon*. Além disso, podemos avaliar oportunidades de arbitragem e modelar previsões sobre o comportamento futuro das taxas de juros."
   ]
  },
  {
   "cell_type": "markdown",
   "id": "e09d6cbd",
   "metadata": {},
   "source": [
    "## Formato da Curva de Juros\n",
    "\n",
    "Existem muitas teorias que buscam explicar o formato da ETTJ. A mais intuitiva delas é a teoria das expectativas. Essa teoria determina que as taxas de juros de longo prazo refletem a taxa de juros de curto prazo esperada no futuro. A interpretação dessa teoria sugere, por exemplo, que para o investidor seria indiferente adquirir um título com prazo de 1 ano e carregá-lo até seu vencimento ou adquirir um título de 2 anos e vendê-lo após 1 ano, caso as condições de mercado não se alterassem.\n",
    "\n",
    "Outra teoria, chamada de teoria da segmentação de mercado, defende que não existe necessariamente uma relação entre taxas de juros de curto, médio e longo prazo. A teoria se apoia na afirmação de que existem investidores específicos para cada um dos três nichos de mercado. Neste caso, a taxa de juros de curto prazo é determinada pela oferta e demanda do mercado de títulos de curto, a taxa de médio prazo é determinada pelos títulos de médio prazo e analogamente para longo prazo.\n",
    "\n",
    "Já a teoria da preferência por liquidez afirma que investidores não são indiferentes ao risco. Os investidores estão frequentemente interessados em instrumentos de maturidade mais curta, uma vez que títulos mais longos são mais arriscados, pois seu preço é mais sensível a uma dada mudança na taxa de juros. Esse fato cria uma remuneração adicional, exigida pelos agentes sobre um título de maior maturação, conhecida como prêmio pela liquidez. O pressuposto básico dessa teoria é que ativos com diferentes prazos de vencimento não se constituem em substitutos perfeitos uns dos outros.\n",
    "\n",
    "Por exemplo, suponha que temos um título que paga 2 unidades monetárias em $t=1$ e 4 em $t=2$. Se conhecemos $P(0,1)$ e $P(0,2)$, o preço desse título em $t-0$ seria dado por:\n",
    "\n",
    "$$ P_{título} = 2P(0,1) + 4P(0,2) $$"
   ]
  },
  {
   "cell_type": "markdown",
   "id": "7af43bf5",
   "metadata": {},
   "source": [
    "## Taxa *Forward*\n",
    "\n",
    "Conforme já mencionado, um título *zero-coupon* não possui pagamentos intermediários ou cupons, sendo todo o pagamento de juros e principal recebido no seu vencimento. A taxa de juros de um título *zero-coupon* também é chamada de taxa de juros à vista ou **taxa spot**.\n",
    "\n",
    "As taxas *forward* são as taxas de juros implícitas pelas taxas à vista entre períodos de tempo no futuro. Resumidamente, são taxas projetadas entre duas datas futuras. O mercado utiliza projeções de taxas *forward* como um indicador do comportamento esperado da taxa no futuro.\n",
    "\n",
    "Utilizando um argumento de não arbitragem, poderemos determinar a taxa *forward* a partir das taxas *spot*.\n",
    "\n",
    "Se estamos no instante de tempo $t$, podemos contratar uma taxa *forward* que irá valer para o período entre duas datas futuras $T_1$ e $T_2$ ($T_1 <T_2$). Seja $F_t(T_1, T_2)$ o fator de correção associado à taxa *forward*, e sejam $R_t(t, T_1)$ e $R_t(t, T_2)$ os fatores de correção associados às taxas *spot* para os vencimento $T_1$ e $T_2$, respectivamente, todos observados no instante $t$.\n",
    "\n",
    "Então podemos aplicar o seguinte argumetno de não arbitragem: aplicar em $t$ um capital com vencimetno em $T_2$ deve ter o mesmo efeito de aplicar em $t$ um capital com vencimetno em $T_1$ e em seguida reaplicá-lo pela taxa *forward* entre $T_1$ e $T_2$, dado que esta taxa é contratada no instante de tempo inicial $t$. A partir deste argumento, temos que:\n",
    "\n",
    "$$ R_t(t, T_2) = R_t(t, T_1) \\cdot F_t(T_1, T_2) $$\n",
    "\n",
    "$$ F_t(T_1, T_2) = \\frac{R_t(t, T_2)}{R_t(t, T_1)}  $$\n",
    "\n",
    "A partir do fator de correção, podemos extraira a taxa de juros para a convenção desejada. Seja $f_t(T_1, T_2)$ a taxa *forward* em questão, se aplicarmos convenção de taxa composta, podemos converter o fator de correção em taxa da seguinte forma:\n",
    "\n",
    "$$ f_t(T_1, T_2) = (F_t(T_1, T_2))^{\\frac{1}{T_2 - T_1}} - 1 $$"
   ]
  },
  {
   "cell_type": "code",
   "execution_count": 12,
   "id": "be2ea99d",
   "metadata": {
    "ExecuteTime": {
     "end_time": "2023-05-19T22:50:25.169789Z",
     "start_time": "2023-05-19T22:50:22.087917Z"
    }
   },
   "outputs": [],
   "source": [
    "import numpy             as     np\n",
    "import pandas            as     pd\n",
    "import matplotlib.pyplot as     plt\n",
    "\n",
    "from   datetime          import datetime, date\n",
    "from   scipy.interpolate import interp1d, CubicSpline"
   ]
  },
  {
   "cell_type": "code",
   "execution_count": 14,
   "id": "b87868ec",
   "metadata": {
    "ExecuteTime": {
     "end_time": "2023-05-19T22:50:40.109699Z",
     "start_time": "2023-05-19T22:50:40.060398Z"
    }
   },
   "outputs": [
    {
     "name": "stdout",
     "output_type": "stream",
     "text": [
      "   Data de Vencimento  Tx. Venda\n",
      "0          2022-04-01    10.5558\n",
      "1          2022-07-01    11.5014\n",
      "2          2022-10-01    11.9054\n",
      "3          2023-01-01    12.0337\n",
      "4          2023-04-01    12.0636\n",
      "5          2023-07-01    12.0847\n",
      "6          2024-01-01    11.8700\n",
      "7          2024-04-01    11.7634\n",
      "8          2024-07-01    11.7189\n",
      "9          2025-01-01    11.5133\n",
      "10         2025-07-01    11.4494\n"
     ]
    }
   ],
   "source": [
    "# data base: 17/01/2022 \n",
    "\n",
    "df = pd.read_excel('16_m22jan17.xls', sheet_name='LTN', skiprows=4, skipfooter=1, header=0, usecols=['Data de Vencimento', 'Tx. Venda'])\n",
    "print(df)"
   ]
  },
  {
   "cell_type": "markdown",
   "id": "08262864",
   "metadata": {},
   "source": [
    "**Exercício 1**\n",
    "\n",
    "Calcule a taxa forward do dia 01/07/2022 até 01/10/2022, utilizando o dados da planilha."
   ]
  },
  {
   "cell_type": "code",
   "execution_count": 15,
   "id": "6796ab85",
   "metadata": {
    "ExecuteTime": {
     "end_time": "2023-05-19T22:50:56.591945Z",
     "start_time": "2023-05-19T22:50:56.582690Z"
    }
   },
   "outputs": [
    {
     "data": {
      "text/plain": [
       "12.3225"
      ]
     },
     "execution_count": 15,
     "metadata": {},
     "output_type": "execute_result"
    }
   ],
   "source": [
    "taxa_forward = (1+df.iloc[2]['Tx. Venda'])**2 / (1+df.iloc[1]['Tx. Venda'])**1 - 1\n",
    "round(taxa_forward,4)"
   ]
  }
 ],
 "metadata": {
  "kernelspec": {
   "display_name": "Python 3 (ipykernel)",
   "language": "python",
   "name": "python3"
  },
  "language_info": {
   "codemirror_mode": {
    "name": "ipython",
    "version": 3
   },
   "file_extension": ".py",
   "mimetype": "text/x-python",
   "name": "python",
   "nbconvert_exporter": "python",
   "pygments_lexer": "ipython3",
   "version": "3.10.2"
  },
  "latex_envs": {
   "LaTeX_envs_menu_present": true,
   "autoclose": false,
   "autocomplete": true,
   "bibliofile": "biblio.bib",
   "cite_by": "apalike",
   "current_citInitial": 1,
   "eqLabelWithNumbers": true,
   "eqNumInitial": 1,
   "hotkeys": {
    "equation": "Ctrl-E",
    "itemize": "Ctrl-I"
   },
   "labels_anchors": false,
   "latex_user_defs": false,
   "report_style_numbering": false,
   "user_envs_cfg": false
  },
  "toc": {
   "base_numbering": 1,
   "nav_menu": {},
   "number_sections": true,
   "sideBar": true,
   "skip_h1_title": false,
   "title_cell": "Table of Contents",
   "title_sidebar": "Contents",
   "toc_cell": false,
   "toc_position": {},
   "toc_section_display": true,
   "toc_window_display": false
  },
  "varInspector": {
   "cols": {
    "lenName": 16,
    "lenType": 16,
    "lenVar": 40
   },
   "kernels_config": {
    "python": {
     "delete_cmd_postfix": "",
     "delete_cmd_prefix": "del ",
     "library": "var_list.py",
     "varRefreshCmd": "print(var_dic_list())"
    },
    "r": {
     "delete_cmd_postfix": ") ",
     "delete_cmd_prefix": "rm(",
     "library": "var_list.r",
     "varRefreshCmd": "cat(var_dic_list()) "
    }
   },
   "types_to_exclude": [
    "module",
    "function",
    "builtin_function_or_method",
    "instance",
    "_Feature"
   ],
   "window_display": false
  }
 },
 "nbformat": 4,
 "nbformat_minor": 5
}
